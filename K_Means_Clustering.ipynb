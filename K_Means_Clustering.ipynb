{
  "nbformat": 4,
  "nbformat_minor": 0,
  "metadata": {
    "colab": {
      "name": "K-Means_Clustering.ipynb",
      "provenance": [],
      "collapsed_sections": [],
      "mount_file_id": "1j0ErJg10-1QdvFowiFKvHNTS3CGCfDuB",
      "authorship_tag": "ABX9TyMP51ybTNzZmCl13aNdvEBi",
      "include_colab_link": true
    },
    "kernelspec": {
      "name": "python3",
      "display_name": "Python 3"
    }
  },
  "cells": [
    {
      "cell_type": "markdown",
      "metadata": {
        "id": "view-in-github",
        "colab_type": "text"
      },
      "source": [
        "<a href=\"https://colab.research.google.com/github/ishwarvenugopal/ML_Implementation/blob/master/K_Means_Clustering.ipynb\" target=\"_parent\"><img src=\"https://colab.research.google.com/assets/colab-badge.svg\" alt=\"Open In Colab\"/></a>"
      ]
    },
    {
      "cell_type": "code",
      "metadata": {
        "id": "-zVRIjz-RmVj",
        "colab_type": "code",
        "colab": {}
      },
      "source": [
        "import pandas as pd\n",
        "import numpy as np\n",
        "import sklearn\n",
        "from sklearn.model_selection import train_test_split\n",
        "import matplotlib.pyplot as plt\n",
        "import seaborn as sn\n",
        "from sklearn.metrics import silhouette_score\n",
        "from sklearn.cluster import KMeans\n",
        "from sklearn.preprocessing import MinMaxScaler"
      ],
      "execution_count": 0,
      "outputs": []
    },
    {
      "cell_type": "code",
      "metadata": {
        "id": "dL5Nn69BSLhL",
        "colab_type": "code",
        "outputId": "dd6df744-d15e-4073-9234-7b6c206b7451",
        "colab": {
          "base_uri": "https://localhost:8080/",
          "height": 256
        }
      },
      "source": [
        "df=pd.read_csv('/content/drive/My Drive/ML_Algorithms/Data/KMeans_data.csv')\n",
        "df=df.drop('Unnamed: 0',axis=1)\n",
        "df.head()"
      ],
      "execution_count": 0,
      "outputs": [
        {
          "output_type": "execute_result",
          "data": {
            "text/html": [
              "<div>\n",
              "<style scoped>\n",
              "    .dataframe tbody tr th:only-of-type {\n",
              "        vertical-align: middle;\n",
              "    }\n",
              "\n",
              "    .dataframe tbody tr th {\n",
              "        vertical-align: top;\n",
              "    }\n",
              "\n",
              "    .dataframe thead th {\n",
              "        text-align: right;\n",
              "    }\n",
              "</style>\n",
              "<table border=\"1\" class=\"dataframe\">\n",
              "  <thead>\n",
              "    <tr style=\"text-align: right;\">\n",
              "      <th></th>\n",
              "      <th>deg-malig</th>\n",
              "      <th>Class_no-recurrence-events</th>\n",
              "      <th>Class_recurrence-events</th>\n",
              "      <th>age_20-29</th>\n",
              "      <th>age_30-39</th>\n",
              "      <th>age_40-49</th>\n",
              "      <th>age_50-59</th>\n",
              "      <th>age_60-69</th>\n",
              "      <th>age_70-79</th>\n",
              "      <th>menopause_ge40</th>\n",
              "      <th>menopause_lt40</th>\n",
              "      <th>menopause_premeno</th>\n",
              "      <th>tumor-size_0-4</th>\n",
              "      <th>tumor-size_10-14</th>\n",
              "      <th>tumor-size_15-19</th>\n",
              "      <th>tumor-size_20-24</th>\n",
              "      <th>tumor-size_25-29</th>\n",
              "      <th>tumor-size_30-34</th>\n",
              "      <th>tumor-size_35-39</th>\n",
              "      <th>tumor-size_40-44</th>\n",
              "      <th>tumor-size_45-49</th>\n",
              "      <th>tumor-size_5-9</th>\n",
              "      <th>tumor-size_50-54</th>\n",
              "      <th>inv-nodes_0-2</th>\n",
              "      <th>inv-nodes_12-14</th>\n",
              "      <th>inv-nodes_15-17</th>\n",
              "      <th>inv-nodes_24-26</th>\n",
              "      <th>inv-nodes_3-5</th>\n",
              "      <th>inv-nodes_6-8</th>\n",
              "      <th>inv-nodes_9-11</th>\n",
              "      <th>node-caps_no</th>\n",
              "      <th>node-caps_yes</th>\n",
              "      <th>breast_left</th>\n",
              "      <th>breast_right</th>\n",
              "      <th>breast-quad_central</th>\n",
              "      <th>breast-quad_left_low</th>\n",
              "      <th>breast-quad_left_up</th>\n",
              "      <th>breast-quad_right_low</th>\n",
              "      <th>breast-quad_right_up</th>\n",
              "      <th>irradiat_no</th>\n",
              "      <th>irradiat_yes</th>\n",
              "    </tr>\n",
              "  </thead>\n",
              "  <tbody>\n",
              "    <tr>\n",
              "      <th>0</th>\n",
              "      <td>3</td>\n",
              "      <td>1</td>\n",
              "      <td>0</td>\n",
              "      <td>0</td>\n",
              "      <td>1</td>\n",
              "      <td>0</td>\n",
              "      <td>0</td>\n",
              "      <td>0</td>\n",
              "      <td>0</td>\n",
              "      <td>0</td>\n",
              "      <td>0</td>\n",
              "      <td>1</td>\n",
              "      <td>0</td>\n",
              "      <td>0</td>\n",
              "      <td>0</td>\n",
              "      <td>0</td>\n",
              "      <td>0</td>\n",
              "      <td>1</td>\n",
              "      <td>0</td>\n",
              "      <td>0</td>\n",
              "      <td>0</td>\n",
              "      <td>0</td>\n",
              "      <td>0</td>\n",
              "      <td>1</td>\n",
              "      <td>0</td>\n",
              "      <td>0</td>\n",
              "      <td>0</td>\n",
              "      <td>0</td>\n",
              "      <td>0</td>\n",
              "      <td>0</td>\n",
              "      <td>1</td>\n",
              "      <td>0</td>\n",
              "      <td>1</td>\n",
              "      <td>0</td>\n",
              "      <td>0</td>\n",
              "      <td>1</td>\n",
              "      <td>0</td>\n",
              "      <td>0</td>\n",
              "      <td>0</td>\n",
              "      <td>1</td>\n",
              "      <td>0</td>\n",
              "    </tr>\n",
              "    <tr>\n",
              "      <th>1</th>\n",
              "      <td>2</td>\n",
              "      <td>1</td>\n",
              "      <td>0</td>\n",
              "      <td>0</td>\n",
              "      <td>0</td>\n",
              "      <td>1</td>\n",
              "      <td>0</td>\n",
              "      <td>0</td>\n",
              "      <td>0</td>\n",
              "      <td>0</td>\n",
              "      <td>0</td>\n",
              "      <td>1</td>\n",
              "      <td>0</td>\n",
              "      <td>0</td>\n",
              "      <td>0</td>\n",
              "      <td>1</td>\n",
              "      <td>0</td>\n",
              "      <td>0</td>\n",
              "      <td>0</td>\n",
              "      <td>0</td>\n",
              "      <td>0</td>\n",
              "      <td>0</td>\n",
              "      <td>0</td>\n",
              "      <td>1</td>\n",
              "      <td>0</td>\n",
              "      <td>0</td>\n",
              "      <td>0</td>\n",
              "      <td>0</td>\n",
              "      <td>0</td>\n",
              "      <td>0</td>\n",
              "      <td>1</td>\n",
              "      <td>0</td>\n",
              "      <td>0</td>\n",
              "      <td>1</td>\n",
              "      <td>0</td>\n",
              "      <td>0</td>\n",
              "      <td>0</td>\n",
              "      <td>0</td>\n",
              "      <td>1</td>\n",
              "      <td>1</td>\n",
              "      <td>0</td>\n",
              "    </tr>\n",
              "    <tr>\n",
              "      <th>2</th>\n",
              "      <td>2</td>\n",
              "      <td>1</td>\n",
              "      <td>0</td>\n",
              "      <td>0</td>\n",
              "      <td>0</td>\n",
              "      <td>1</td>\n",
              "      <td>0</td>\n",
              "      <td>0</td>\n",
              "      <td>0</td>\n",
              "      <td>0</td>\n",
              "      <td>0</td>\n",
              "      <td>1</td>\n",
              "      <td>0</td>\n",
              "      <td>0</td>\n",
              "      <td>0</td>\n",
              "      <td>1</td>\n",
              "      <td>0</td>\n",
              "      <td>0</td>\n",
              "      <td>0</td>\n",
              "      <td>0</td>\n",
              "      <td>0</td>\n",
              "      <td>0</td>\n",
              "      <td>0</td>\n",
              "      <td>1</td>\n",
              "      <td>0</td>\n",
              "      <td>0</td>\n",
              "      <td>0</td>\n",
              "      <td>0</td>\n",
              "      <td>0</td>\n",
              "      <td>0</td>\n",
              "      <td>1</td>\n",
              "      <td>0</td>\n",
              "      <td>1</td>\n",
              "      <td>0</td>\n",
              "      <td>0</td>\n",
              "      <td>1</td>\n",
              "      <td>0</td>\n",
              "      <td>0</td>\n",
              "      <td>0</td>\n",
              "      <td>1</td>\n",
              "      <td>0</td>\n",
              "    </tr>\n",
              "    <tr>\n",
              "      <th>3</th>\n",
              "      <td>2</td>\n",
              "      <td>1</td>\n",
              "      <td>0</td>\n",
              "      <td>0</td>\n",
              "      <td>0</td>\n",
              "      <td>0</td>\n",
              "      <td>0</td>\n",
              "      <td>1</td>\n",
              "      <td>0</td>\n",
              "      <td>1</td>\n",
              "      <td>0</td>\n",
              "      <td>0</td>\n",
              "      <td>0</td>\n",
              "      <td>0</td>\n",
              "      <td>1</td>\n",
              "      <td>0</td>\n",
              "      <td>0</td>\n",
              "      <td>0</td>\n",
              "      <td>0</td>\n",
              "      <td>0</td>\n",
              "      <td>0</td>\n",
              "      <td>0</td>\n",
              "      <td>0</td>\n",
              "      <td>1</td>\n",
              "      <td>0</td>\n",
              "      <td>0</td>\n",
              "      <td>0</td>\n",
              "      <td>0</td>\n",
              "      <td>0</td>\n",
              "      <td>0</td>\n",
              "      <td>1</td>\n",
              "      <td>0</td>\n",
              "      <td>0</td>\n",
              "      <td>1</td>\n",
              "      <td>0</td>\n",
              "      <td>0</td>\n",
              "      <td>1</td>\n",
              "      <td>0</td>\n",
              "      <td>0</td>\n",
              "      <td>1</td>\n",
              "      <td>0</td>\n",
              "    </tr>\n",
              "    <tr>\n",
              "      <th>4</th>\n",
              "      <td>2</td>\n",
              "      <td>1</td>\n",
              "      <td>0</td>\n",
              "      <td>0</td>\n",
              "      <td>0</td>\n",
              "      <td>1</td>\n",
              "      <td>0</td>\n",
              "      <td>0</td>\n",
              "      <td>0</td>\n",
              "      <td>0</td>\n",
              "      <td>0</td>\n",
              "      <td>1</td>\n",
              "      <td>1</td>\n",
              "      <td>0</td>\n",
              "      <td>0</td>\n",
              "      <td>0</td>\n",
              "      <td>0</td>\n",
              "      <td>0</td>\n",
              "      <td>0</td>\n",
              "      <td>0</td>\n",
              "      <td>0</td>\n",
              "      <td>0</td>\n",
              "      <td>0</td>\n",
              "      <td>1</td>\n",
              "      <td>0</td>\n",
              "      <td>0</td>\n",
              "      <td>0</td>\n",
              "      <td>0</td>\n",
              "      <td>0</td>\n",
              "      <td>0</td>\n",
              "      <td>1</td>\n",
              "      <td>0</td>\n",
              "      <td>0</td>\n",
              "      <td>1</td>\n",
              "      <td>0</td>\n",
              "      <td>0</td>\n",
              "      <td>0</td>\n",
              "      <td>1</td>\n",
              "      <td>0</td>\n",
              "      <td>1</td>\n",
              "      <td>0</td>\n",
              "    </tr>\n",
              "  </tbody>\n",
              "</table>\n",
              "</div>"
            ],
            "text/plain": [
              "   deg-malig  Class_no-recurrence-events  ...  irradiat_no  irradiat_yes\n",
              "0          3                           1  ...            1             0\n",
              "1          2                           1  ...            1             0\n",
              "2          2                           1  ...            1             0\n",
              "3          2                           1  ...            1             0\n",
              "4          2                           1  ...            1             0\n",
              "\n",
              "[5 rows x 41 columns]"
            ]
          },
          "metadata": {
            "tags": []
          },
          "execution_count": 2
        }
      ]
    },
    {
      "cell_type": "code",
      "metadata": {
        "id": "u7D8DYW3SX22",
        "colab_type": "code",
        "colab": {}
      },
      "source": [
        "#Rearranging the columns such that the class attributes become the last column\n",
        "\n",
        "cols=list(df.columns)\n",
        "cols= cols[:1] + cols[2:] + [cols[1]]\n",
        "df=df[cols]"
      ],
      "execution_count": 0,
      "outputs": []
    },
    {
      "cell_type": "code",
      "metadata": {
        "id": "1a01I6p4ScIL",
        "colab_type": "code",
        "colab": {}
      },
      "source": [
        "# Defining Train and Test Data\n",
        "\n",
        "X=df.iloc[:,:-1]\n",
        "y=df.iloc[:,-1]"
      ],
      "execution_count": 0,
      "outputs": []
    },
    {
      "cell_type": "code",
      "metadata": {
        "id": "tTgUI9eGSgzA",
        "colab_type": "code",
        "colab": {}
      },
      "source": [
        "X_train,X_test,y_train,y_test=train_test_split(X,y,test_size=0.2,random_state=100)"
      ],
      "execution_count": 0,
      "outputs": []
    },
    {
      "cell_type": "code",
      "metadata": {
        "id": "rpU-iynqSi26",
        "colab_type": "code",
        "colab": {}
      },
      "source": [
        "data = X \n",
        "mms=MinMaxScaler() #normalizing the data\n",
        "mms.fit(data)\n",
        "data_transformed=mms.transform(data)"
      ],
      "execution_count": 0,
      "outputs": []
    },
    {
      "cell_type": "code",
      "metadata": {
        "id": "HwY-45tES95R",
        "colab_type": "code",
        "outputId": "b417b1c1-995a-4397-8d14-afaeb9d842d3",
        "colab": {
          "base_uri": "https://localhost:8080/",
          "height": 295
        }
      },
      "source": [
        "#ELBOW METHOD TO IDENTIFY THE NUMBER OF CLUSTERS\n",
        "\n",
        "Sum_of_squared_distances = []\n",
        "K = range(2,11)\n",
        "for k in K:\n",
        "    km = KMeans(n_clusters=k,random_state=1)\n",
        "    km = km.fit(data_transformed)\n",
        "    Sum_of_squared_distances.append(km.inertia_)\n",
        "plt.plot(K, Sum_of_squared_distances, 'bx-')\n",
        "plt.xlabel('k')\n",
        "plt.ylabel('Sum_of_squared_distances')\n",
        "plt.title('Elbow Method For Optimal k')\n",
        "plt.show()"
      ],
      "execution_count": 0,
      "outputs": [
        {
          "output_type": "display_data",
          "data": {
            "image/png": "[encoded data removed]",
            "text/plain": [
              "<Figure size 432x288 with 1 Axes>"
            ]
          },
          "metadata": {
            "tags": [],
            "needs_background": "light"
          }
        }
      ]
    },
    {
      "cell_type": "code",
      "metadata": {
        "id": "Vg6hb_TDTIPd",
        "colab_type": "code",
        "outputId": "3b10c2c8-4d7f-445f-a83b-6ccbd890adf7",
        "colab": {
          "base_uri": "https://localhost:8080/",
          "height": 295
        }
      },
      "source": [
        "#SILHOUETTE METHOD TO IDENTIFY THE NUMBER OF CLUSTERS\n",
        "K = range(2,11)\n",
        "no_of_clusters=[]\n",
        "silhouette_scores=[]\n",
        "\n",
        "for k in K:\n",
        "    km = KMeans(n_clusters=k,random_state=1)\n",
        "    preds=km.fit_predict(data_transformed)\n",
        "    centers=km.cluster_centers_\n",
        "\n",
        "    score=silhouette_score(data_transformed,preds)\n",
        "\n",
        "    no_of_clusters.append(k)\n",
        "    silhouette_scores.append(score)\n",
        "\n",
        "plt.ylabel(\"Silhouette coefficient\")\n",
        "plt.xlabel(\"k\")\n",
        "plt.title('Silhouette Method For Optimal k')\n",
        "plt.bar(no_of_clusters,silhouette_scores)\n",
        "plt.show()"
      ],
      "execution_count": 0,
      "outputs": [
        {
          "output_type": "display_data",
          "data": {
            "image/png": "[encoded data removed]",
            "text/plain": [
              "<Figure size 432x288 with 1 Axes>"
            ]
          },
          "metadata": {
            "tags": [],
            "needs_background": "light"
          }
        }
      ]
    },
    {
      "cell_type": "code",
      "metadata": {
        "id": "8Fw0VDZ4TPc-",
        "colab_type": "code",
        "colab": {}
      },
      "source": [
        "num_of_clusters = 6 # After analyzing the graphs"
      ],
      "execution_count": 0,
      "outputs": []
    },
    {
      "cell_type": "code",
      "metadata": {
        "id": "OKP57pz-TY3J",
        "colab_type": "code",
        "outputId": "2a4bf0e5-d470-4b69-86e4-f34b35609d58",
        "colab": {
          "base_uri": "https://localhost:8080/",
          "height": 247
        }
      },
      "source": [
        "kmeans = KMeans(n_clusters=num_of_clusters, random_state=1)\n",
        "kmeans.fit_predict(data_transformed)"
      ],
      "execution_count": 0,
      "outputs": [
        {
          "output_type": "execute_result",
          "data": {
            "text/plain": [
              "array([3, 1, 3, 5, 1, 2, 3, 2, 3, 1, 3, 2, 2, 2, 3, 2, 3, 3, 2, 5, 2, 2,\n",
              "       1, 3, 1, 3, 3, 5, 1, 2, 5, 1, 3, 5, 2, 3, 2, 5, 3, 3, 5, 2, 2, 3,\n",
              "       5, 2, 1, 1, 1, 1, 2, 3, 3, 2, 5, 5, 5, 5, 2, 5, 3, 1, 2, 1, 3, 1,\n",
              "       1, 2, 2, 2, 2, 1, 2, 1, 3, 2, 2, 3, 3, 1, 5, 2, 5, 5, 3, 2, 5, 2,\n",
              "       5, 1, 1, 2, 5, 5, 3, 1, 2, 5, 3, 3, 2, 5, 1, 3, 1, 1, 3, 1, 1, 5,\n",
              "       2, 5, 1, 1, 1, 5, 3, 2, 1, 2, 2, 5, 2, 5, 5, 2, 0, 0, 3, 0, 0, 0,\n",
              "       3, 2, 2, 1, 0, 3, 3, 3, 4, 4, 2, 3, 4, 5, 4, 3, 5, 5, 4, 2, 5, 5,\n",
              "       5, 5, 3, 5, 3, 1, 0, 5, 1, 1, 0, 1, 2, 0, 3, 5, 5, 4, 1, 2, 2, 0,\n",
              "       1, 0, 0, 1, 0, 2, 2, 1, 5, 0, 3, 4, 3, 0, 2, 1, 3, 4, 3, 5, 3, 3,\n",
              "       2, 3, 1, 3, 3, 1, 3, 5, 1, 1, 5, 5, 2, 3, 5, 1, 3, 1, 2, 5, 4, 0,\n",
              "       4, 0, 4, 5, 0, 1, 0, 5, 4, 1, 1, 3, 0, 4, 4, 4, 4, 0, 0, 4, 4, 4,\n",
              "       4, 3, 1, 3, 5, 0, 0, 3, 4, 4, 5, 5, 4, 2, 4, 4, 4, 3, 3, 4, 1, 0,\n",
              "       0, 4, 0, 4, 4, 0, 4, 4, 3, 3, 5, 4, 4], dtype=int32)"
            ]
          },
          "metadata": {
            "tags": []
          },
          "execution_count": 12
        }
      ]
    },
    {
      "cell_type": "code",
      "metadata": {
        "id": "nmkcJPaITe6-",
        "colab_type": "code",
        "colab": {}
      },
      "source": [
        ""
      ],
      "execution_count": 0,
      "outputs": []
    }
  ]
}