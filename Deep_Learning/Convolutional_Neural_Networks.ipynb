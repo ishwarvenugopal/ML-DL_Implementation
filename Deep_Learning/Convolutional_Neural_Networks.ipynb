{
  "nbformat": 4,
  "nbformat_minor": 0,
  "metadata": {
    "colab": {
      "name": "MNIST_CNNBaseline.ipynb",
      "provenance": [],
      "collapsed_sections": [],
      "authorship_tag": "ABX9TyOH/6MdADnE4mRpFBwSkt9j",
      "include_colab_link": true
    },
    "kernelspec": {
      "name": "python3",
      "display_name": "Python 3"
    }
  },
  "cells": [
    {
      "cell_type": "markdown",
      "metadata": {
        "id": "view-in-github",
        "colab_type": "text"
      },
      "source": [
        "<a href=\"https://colab.research.google.com/github/ishwarvenugopal/ML-DL_Implementation/blob/master/Deep_Learning/Convolutional_Neural_Networks.ipynb\" target=\"_parent\"><img src=\"https://colab.research.google.com/assets/colab-badge.svg\" alt=\"Open In Colab\"/></a>"
      ]
    },
    {
      "cell_type": "code",
      "metadata": {
        "id": "2PqhLIwKL6AB",
        "colab_type": "code",
        "colab": {}
      },
      "source": [
        "from keras.datasets import mnist\n",
        "import matplotlib.pyplot as plt\n",
        "from keras.utils import to_categorical\n",
        "from keras.models import Sequential\n",
        "from keras.layers import Dense, Dropout, Activation, Conv2D, MaxPooling2D, Flatten\n",
        "from keras.optimizers import SGD\n",
        "from sklearn.model_selection import KFold\n",
        "import numpy as np\n",
        "from keras.preprocessing.image import load_img\n",
        "from keras.preprocessing.image import img_to_array\n",
        "from keras.models import load_model"
      ],
      "execution_count": 74,
      "outputs": []
    },
    {
      "cell_type": "markdown",
      "metadata": {
        "id": "yPm6Rdesz5AJ",
        "colab_type": "text"
      },
      "source": [
        "# Understanding the MNIST dataset"
      ]
    },
    {
      "cell_type": "code",
      "metadata": {
        "id": "4DP1ZoN9MUsl",
        "colab_type": "code",
        "colab": {}
      },
      "source": [
        "#Load the dataset \n",
        "(X_train,y_train),(X_test,y_test) = mnist.load_data()"
      ],
      "execution_count": 64,
      "outputs": []
    },
    {
      "cell_type": "code",
      "metadata": {
        "id": "54AEtz1hMl2t",
        "colab_type": "code",
        "colab": {
          "base_uri": "https://localhost:8080/",
          "height": 52
        },
        "outputId": "54840dce-a69e-427b-b4a1-e0e0abdb4134"
      },
      "source": [
        "print('Train: X={}, y={}'.format(X_train.shape,y_train.shape))\n",
        "print('Test: X={}, y={}'.format(X_test.shape,y_test.shape))"
      ],
      "execution_count": 65,
      "outputs": [
        {
          "output_type": "stream",
          "text": [
            "Train: X=(60000, 28, 28), y=(60000,)\n",
            "Test: X=(10000, 28, 28), y=(10000,)\n"
          ],
          "name": "stdout"
        }
      ]
    },
    {
      "cell_type": "code",
      "metadata": {
        "id": "1XQxYv7KM73G",
        "colab_type": "code",
        "colab": {
          "base_uri": "https://localhost:8080/",
          "height": 268
        },
        "outputId": "e73811b6-9e97-425b-d0e1-aad230e469bf"
      },
      "source": [
        "#Plot the first few images\n",
        "\n",
        "for i in range(9):\n",
        "  plt.subplot(330+1+i)\n",
        "  plt.imshow(X_train[i], cmap= plt.get_cmap('gray'))\n",
        "plt.show()"
      ],
      "execution_count": 66,
      "outputs": [
        {
          "output_type": "display_data",
          "data": {
            "image/png": "[encoded data removed]",
            "text/plain": [
              "<Figure size 432x288 with 9 Axes>"
            ]
          },
          "metadata": {
            "tags": [],
            "needs_background": "light"
          }
        }
      ]
    },
    {
      "cell_type": "markdown",
      "metadata": {
        "id": "LBTnKlitz-G4",
        "colab_type": "text"
      },
      "source": [
        "# Implementing a CNN with K-Fold Cross validation evaluation"
      ]
    },
    {
      "cell_type": "code",
      "metadata": {
        "id": "ZgggUYYBOzqW",
        "colab_type": "code",
        "colab": {}
      },
      "source": [
        "#Load train and test dataset\n",
        "\n",
        "def load_dataset():\n",
        "  #load dataset\n",
        "  (X_train,y_train),(X_test,y_test) = mnist.load_data()\n",
        "  #Reshaping the data arrays to have a single color channel\n",
        "  X_train = X_train.reshape(X_train.shape[0],28,28,1)\n",
        "  X_test = X_test.reshape(X_test.shape[0],28,28,1)\n",
        "  #One-hot encoding of the target value\n",
        "  y_train = to_categorical(y_train)\n",
        "  y_test = to_categorical(y_test)\n",
        "  return X_train,y_train, X_test,y_test"
      ],
      "execution_count": 67,
      "outputs": []
    },
    {
      "cell_type": "code",
      "metadata": {
        "id": "jJg_ETX9Pe3k",
        "colab_type": "code",
        "colab": {}
      },
      "source": [
        "#Normalising the pixel values for each image \n",
        "#Note: The pixel values are unsigned integers in the range between black and white, i.e 0 and 255\n",
        "\n",
        "def prep_pixels(train,test):\n",
        "  #converting from integers to floats\n",
        "  train_norm = train.astype('float32')\n",
        "  test_norm = test.astype('float32')\n",
        "  #normalise to range 0-1\n",
        "  max_pixel=255\n",
        "  train_norm = train_norm/max_pixel\n",
        "  test_norm = test_norm/max_pixel\n",
        "  return train_norm, test_norm"
      ],
      "execution_count": 68,
      "outputs": []
    },
    {
      "cell_type": "code",
      "metadata": {
        "id": "yNj3ACoOQS9z",
        "colab_type": "code",
        "colab": {}
      },
      "source": [
        "#Creating a CNN model\n",
        "\n",
        "def define_model():\n",
        "  model = Sequential()\n",
        "  model.add(Conv2D(32,(3,3),activation = 'relu', kernel_initializer = 'he_uniform', input_shape = (28,28,1)))\n",
        "  model.add(MaxPooling2D((2,2)))\n",
        "  model.add(Flatten())\n",
        "  model.add(Dense(100,activation='relu',kernel_initializer='he_uniform'))\n",
        "  model.add(Dense(10,activation='softmax'))\n",
        "\n",
        "  opt = SGD(lr=0.01,momentum=0.9)\n",
        "  model.compile(optimizer = opt, loss='categorical_crossentropy', metrics = ['accuracy'])\n",
        "  return model"
      ],
      "execution_count": 69,
      "outputs": []
    },
    {
      "cell_type": "code",
      "metadata": {
        "id": "XAFrlG0YRqLr",
        "colab_type": "code",
        "colab": {}
      },
      "source": [
        "#Evaluating a model using k-fold cross validation\n",
        "\n",
        "def evaluate_model(dataX,dataY,n_folds=5):\n",
        "  scores = []\n",
        "  histories = []\n",
        "  #prepare cross-validation\n",
        "  kfold = KFold(n_folds, shuffle=True, random_state=1)\n",
        "  #enumerate splits\n",
        "  for train_ix, test_ix in kfold.split(dataX):\n",
        "    model= define_model()\n",
        "    X_train, y_train, X_test, y_test = dataX[train_ix], dataY[train_ix], dataX[test_ix], dataY[test_ix]\n",
        "    history = model.fit(X_train, y_train, epochs =10, batch_size =32, validation_data = (X_test,y_test), verbose = 1 )\n",
        "    _,acc = model.evaluate(X_test, y_test, verbose =1)\n",
        "    print('Accuracy : {}'.format(acc*100))\n",
        "    scores.append(acc)\n",
        "    histories.append(history) \n",
        "  return scores, histories"
      ],
      "execution_count": 70,
      "outputs": []
    },
    {
      "cell_type": "code",
      "metadata": {
        "id": "JAUmGaPWa5lb",
        "colab_type": "code",
        "colab": {}
      },
      "source": [
        "#Plotting the diagnostic learning curves\n",
        "\n",
        "def summarize_diagnostics(histories):\n",
        "  for i in range(len(histories)):\n",
        "    plt.subplot(2,1,1)\n",
        "    plt.title(\"Cross entropy loss\")\n",
        "    plt.plot(histories[i].history['loss'], color='blue', label='train')\n",
        "    plt.plot(histories[i].history['val_loss'], color='orange', label='test')\n",
        "\n",
        "    plt.subplot(2,1,2)\n",
        "    plt.title(\"Classification Accuracy\")\n",
        "    plt.plot(histories[i].history['loss'],color='blue',label='train')\n",
        "    plt.plot(histories[i].history['val_accuracy'], color='orange', label='test')\n",
        "  plt.show()"
      ],
      "execution_count": 71,
      "outputs": []
    },
    {
      "cell_type": "code",
      "metadata": {
        "id": "1W0oz2xXcSwK",
        "colab_type": "code",
        "colab": {}
      },
      "source": [
        "def summarize_performance(scores):\n",
        "  scores = np.array(scores)\n",
        "  print(\"Accuracy: mean = {}  std= {}  n = {}\".format(scores.mean(),scores.std(), len(scores)))\n",
        "  plt.boxplot(scores)\n",
        "  plt.show()"
      ],
      "execution_count": 72,
      "outputs": []
    },
    {
      "cell_type": "code",
      "metadata": {
        "id": "K0rpEmu5cqjH",
        "colab_type": "code",
        "colab": {
          "base_uri": "https://localhost:8080/",
          "height": 1000
        },
        "outputId": "fb0cfbad-036a-444f-9206-1c4fe06301b5"
      },
      "source": [
        "X_train, y_train, X_test, y_test = load_dataset()\n",
        "X_train, X_test = prep_pixels(X_train, X_test)\n",
        "scores, histories = evaluate_model(X_train, y_train)\n",
        "summarize_diagnostics(histories)\n",
        "summarize_performance(scores)"
      ],
      "execution_count": 73,
      "outputs": [
        {
          "output_type": "stream",
          "text": [
            "Train on 48000 samples, validate on 12000 samples\n",
            "Epoch 1/10\n",
            "48000/48000 [==============================] - 29s 596us/step - loss: 0.1945 - accuracy: 0.9393 - val_loss: 0.0955 - val_accuracy: 0.9737\n",
            "Epoch 2/10\n",
            "48000/48000 [==============================] - 28s 584us/step - loss: 0.0640 - accuracy: 0.9803 - val_loss: 0.0681 - val_accuracy: 0.9797\n",
            "Epoch 3/10\n",
            "48000/48000 [==============================] - 28s 586us/step - loss: 0.0413 - accuracy: 0.9870 - val_loss: 0.0635 - val_accuracy: 0.9808\n",
            "Epoch 4/10\n",
            "48000/48000 [==============================] - 28s 589us/step - loss: 0.0275 - accuracy: 0.9916 - val_loss: 0.0578 - val_accuracy: 0.9839\n",
            "Epoch 5/10\n",
            "48000/48000 [==============================] - 28s 584us/step - loss: 0.0180 - accuracy: 0.9946 - val_loss: 0.0646 - val_accuracy: 0.9825\n",
            "Epoch 6/10\n",
            "48000/48000 [==============================] - 28s 585us/step - loss: 0.0132 - accuracy: 0.9962 - val_loss: 0.0647 - val_accuracy: 0.9825\n",
            "Epoch 7/10\n",
            "48000/48000 [==============================] - 28s 591us/step - loss: 0.0087 - accuracy: 0.9980 - val_loss: 0.0563 - val_accuracy: 0.9852\n",
            "Epoch 8/10\n",
            "48000/48000 [==============================] - 29s 595us/step - loss: 0.0054 - accuracy: 0.9990 - val_loss: 0.0584 - val_accuracy: 0.9860\n",
            "Epoch 9/10\n",
            "48000/48000 [==============================] - 28s 588us/step - loss: 0.0042 - accuracy: 0.9990 - val_loss: 0.0608 - val_accuracy: 0.9852\n",
            "Epoch 10/10\n",
            "48000/48000 [==============================] - 28s 588us/step - loss: 0.0025 - accuracy: 0.9997 - val_loss: 0.0592 - val_accuracy: 0.9863\n",
            "12000/12000 [==============================] - 2s 191us/step\n",
            "Accuracy : 98.63333106040955\n",
            "Train on 48000 samples, validate on 12000 samples\n",
            "Epoch 1/10\n",
            "48000/48000 [==============================] - 28s 583us/step - loss: 0.1953 - accuracy: 0.9414 - val_loss: 0.0989 - val_accuracy: 0.9711\n",
            "Epoch 2/10\n",
            "48000/48000 [==============================] - 28s 588us/step - loss: 0.0647 - accuracy: 0.9809 - val_loss: 0.0783 - val_accuracy: 0.9770\n",
            "Epoch 3/10\n",
            "48000/48000 [==============================] - 28s 582us/step - loss: 0.0413 - accuracy: 0.9874 - val_loss: 0.0711 - val_accuracy: 0.9792\n",
            "Epoch 4/10\n",
            "48000/48000 [==============================] - 31s 639us/step - loss: 0.0287 - accuracy: 0.9915 - val_loss: 0.0666 - val_accuracy: 0.9799\n",
            "Epoch 5/10\n",
            "48000/48000 [==============================] - 29s 596us/step - loss: 0.0203 - accuracy: 0.9942 - val_loss: 0.0515 - val_accuracy: 0.9840\n",
            "Epoch 6/10\n",
            "48000/48000 [==============================] - 28s 583us/step - loss: 0.0135 - accuracy: 0.9963 - val_loss: 0.0571 - val_accuracy: 0.9834\n",
            "Epoch 7/10\n",
            "48000/48000 [==============================] - 28s 582us/step - loss: 0.0087 - accuracy: 0.9980 - val_loss: 0.0525 - val_accuracy: 0.9858\n",
            "Epoch 8/10\n",
            "48000/48000 [==============================] - 28s 584us/step - loss: 0.0061 - accuracy: 0.9987 - val_loss: 0.0564 - val_accuracy: 0.9844\n",
            "Epoch 9/10\n",
            "48000/48000 [==============================] - 28s 591us/step - loss: 0.0038 - accuracy: 0.9994 - val_loss: 0.0523 - val_accuracy: 0.9857\n",
            "Epoch 10/10\n",
            "48000/48000 [==============================] - 28s 584us/step - loss: 0.0027 - accuracy: 0.9996 - val_loss: 0.0529 - val_accuracy: 0.9860\n",
            "12000/12000 [==============================] - 2s 191us/step\n",
            "Accuracy : 98.60000014305115\n",
            "Train on 48000 samples, validate on 12000 samples\n",
            "Epoch 1/10\n",
            "48000/48000 [==============================] - 28s 593us/step - loss: 0.1778 - accuracy: 0.9461 - val_loss: 0.0890 - val_accuracy: 0.9725\n",
            "Epoch 2/10\n",
            "48000/48000 [==============================] - 28s 586us/step - loss: 0.0606 - accuracy: 0.9819 - val_loss: 0.0725 - val_accuracy: 0.9769\n",
            "Epoch 3/10\n",
            "48000/48000 [==============================] - 28s 593us/step - loss: 0.0380 - accuracy: 0.9890 - val_loss: 0.0517 - val_accuracy: 0.9843\n",
            "Epoch 4/10\n",
            "48000/48000 [==============================] - 28s 588us/step - loss: 0.0259 - accuracy: 0.9927 - val_loss: 0.0652 - val_accuracy: 0.9799\n",
            "Epoch 5/10\n",
            "48000/48000 [==============================] - 28s 588us/step - loss: 0.0178 - accuracy: 0.9948 - val_loss: 0.0606 - val_accuracy: 0.9818\n",
            "Epoch 6/10\n",
            "48000/48000 [==============================] - 28s 587us/step - loss: 0.0126 - accuracy: 0.9966 - val_loss: 0.0585 - val_accuracy: 0.9837\n",
            "Epoch 7/10\n",
            "48000/48000 [==============================] - 28s 586us/step - loss: 0.0084 - accuracy: 0.9980 - val_loss: 0.0573 - val_accuracy: 0.9840\n",
            "Epoch 8/10\n",
            "48000/48000 [==============================] - 28s 589us/step - loss: 0.0055 - accuracy: 0.9989 - val_loss: 0.0529 - val_accuracy: 0.9856\n",
            "Epoch 9/10\n",
            "48000/48000 [==============================] - 28s 591us/step - loss: 0.0033 - accuracy: 0.9995 - val_loss: 0.0499 - val_accuracy: 0.9870\n",
            "Epoch 10/10\n",
            "48000/48000 [==============================] - 29s 596us/step - loss: 0.0023 - accuracy: 0.9998 - val_loss: 0.0535 - val_accuracy: 0.9875\n",
            "12000/12000 [==============================] - 2s 193us/step\n",
            "Accuracy : 98.7500011920929\n",
            "Train on 48000 samples, validate on 12000 samples\n",
            "Epoch 1/10\n",
            "48000/48000 [==============================] - 29s 596us/step - loss: 0.1904 - accuracy: 0.9426 - val_loss: 0.0849 - val_accuracy: 0.9732\n",
            "Epoch 2/10\n",
            "48000/48000 [==============================] - 28s 589us/step - loss: 0.0647 - accuracy: 0.9807 - val_loss: 0.0559 - val_accuracy: 0.9826\n",
            "Epoch 3/10\n",
            "48000/48000 [==============================] - 28s 580us/step - loss: 0.0412 - accuracy: 0.9880 - val_loss: 0.0487 - val_accuracy: 0.9839\n",
            "Epoch 4/10\n",
            "48000/48000 [==============================] - 28s 589us/step - loss: 0.0286 - accuracy: 0.9913 - val_loss: 0.0419 - val_accuracy: 0.9862\n",
            "Epoch 5/10\n",
            "48000/48000 [==============================] - 28s 588us/step - loss: 0.0201 - accuracy: 0.9941 - val_loss: 0.0423 - val_accuracy: 0.9862\n",
            "Epoch 6/10\n",
            "48000/48000 [==============================] - 32s 662us/step - loss: 0.0139 - accuracy: 0.9964 - val_loss: 0.0443 - val_accuracy: 0.9867\n",
            "Epoch 7/10\n",
            "48000/48000 [==============================] - 28s 587us/step - loss: 0.0095 - accuracy: 0.9978 - val_loss: 0.0434 - val_accuracy: 0.9872\n",
            "Epoch 8/10\n",
            "48000/48000 [==============================] - 28s 592us/step - loss: 0.0067 - accuracy: 0.9986 - val_loss: 0.0418 - val_accuracy: 0.9882\n",
            "Epoch 9/10\n",
            "48000/48000 [==============================] - 28s 589us/step - loss: 0.0041 - accuracy: 0.9994 - val_loss: 0.0412 - val_accuracy: 0.9885\n",
            "Epoch 10/10\n",
            "48000/48000 [==============================] - 28s 590us/step - loss: 0.0033 - accuracy: 0.9994 - val_loss: 0.0424 - val_accuracy: 0.9887\n",
            "12000/12000 [==============================] - 2s 191us/step\n",
            "Accuracy : 98.86666536331177\n",
            "Train on 48000 samples, validate on 12000 samples\n",
            "Epoch 1/10\n",
            "48000/48000 [==============================] - 29s 596us/step - loss: 0.1889 - accuracy: 0.9416 - val_loss: 0.0829 - val_accuracy: 0.9770\n",
            "Epoch 2/10\n",
            "48000/48000 [==============================] - 28s 580us/step - loss: 0.0616 - accuracy: 0.9820 - val_loss: 0.0605 - val_accuracy: 0.9834\n",
            "Epoch 3/10\n",
            "48000/48000 [==============================] - 28s 583us/step - loss: 0.0384 - accuracy: 0.9886 - val_loss: 0.0657 - val_accuracy: 0.9806\n",
            "Epoch 4/10\n",
            "48000/48000 [==============================] - 28s 588us/step - loss: 0.0256 - accuracy: 0.9923 - val_loss: 0.0492 - val_accuracy: 0.9862\n",
            "Epoch 5/10\n",
            "48000/48000 [==============================] - 28s 583us/step - loss: 0.0182 - accuracy: 0.9946 - val_loss: 0.0519 - val_accuracy: 0.9870\n",
            "Epoch 6/10\n",
            "48000/48000 [==============================] - 28s 584us/step - loss: 0.0123 - accuracy: 0.9966 - val_loss: 0.0479 - val_accuracy: 0.9871\n",
            "Epoch 7/10\n",
            "48000/48000 [==============================] - 28s 584us/step - loss: 0.0073 - accuracy: 0.9982 - val_loss: 0.0493 - val_accuracy: 0.9880\n",
            "Epoch 8/10\n",
            "48000/48000 [==============================] - 28s 584us/step - loss: 0.0050 - accuracy: 0.9990 - val_loss: 0.0515 - val_accuracy: 0.9876\n",
            "Epoch 9/10\n",
            "48000/48000 [==============================] - 28s 589us/step - loss: 0.0036 - accuracy: 0.9994 - val_loss: 0.0497 - val_accuracy: 0.9887\n",
            "Epoch 10/10\n",
            "48000/48000 [==============================] - 28s 586us/step - loss: 0.0022 - accuracy: 0.9999 - val_loss: 0.0513 - val_accuracy: 0.9880\n",
            "12000/12000 [==============================] - 2s 188us/step\n",
            "Accuracy : 98.7999975681305\n"
          ],
          "name": "stdout"
        },
        {
          "output_type": "stream",
          "text": [
            "/usr/local/lib/python3.6/dist-packages/ipykernel_launcher.py:5: MatplotlibDeprecationWarning: Adding an axes using the same arguments as a previous axes currently reuses the earlier instance.  In a future version, a new instance will always be created and returned.  Meanwhile, this warning can be suppressed, and the future behavior ensured, by passing a unique label to each axes instance.\n",
            "  \"\"\"\n",
            "/usr/local/lib/python3.6/dist-packages/ipykernel_launcher.py:10: MatplotlibDeprecationWarning: Adding an axes using the same arguments as a previous axes currently reuses the earlier instance.  In a future version, a new instance will always be created and returned.  Meanwhile, this warning can be suppressed, and the future behavior ensured, by passing a unique label to each axes instance.\n",
            "  # Remove the CWD from sys.path while we load stuff.\n"
          ],
          "name": "stderr"
        },
        {
          "output_type": "display_data",
          "data": {
            "image/png": "[encoded data removed]",
            "text/plain": [
              "<Figure size 432x288 with 2 Axes>"
            ]
          },
          "metadata": {
            "tags": [],
            "needs_background": "light"
          }
        },
        {
          "output_type": "stream",
          "text": [
            "Accuracy: mean = 0.9872999906539917  std= 0.001002217296222281  n = 5\n"
          ],
          "name": "stdout"
        },
        {
          "output_type": "display_data",
          "data": {
            "image/png": "[encoded data removed]",
            "text/plain": [
              "<Figure size 432x288 with 1 Axes>"
            ]
          },
          "metadata": {
            "tags": [],
            "needs_background": "light"
          }
        }
      ]
    },
    {
      "cell_type": "code",
      "metadata": {
        "id": "6zQQ_kj1xsP_",
        "colab_type": "code",
        "colab": {}
      },
      "source": [
        "# # make a prediction for a new image.\n",
        "\n",
        "# # load and prepare the image\n",
        "# def load_image(filename):\n",
        "# \t# load the image\n",
        "# \timg = load_img(filename, grayscale=True, target_size=(28, 28))\n",
        "# \t# convert to array\n",
        "# \timg = img_to_array(img)\n",
        "# \t# reshape into a single sample with 1 channel\n",
        "# \timg = img.reshape(1, 28, 28, 1)\n",
        "# \t# prepare pixel data\n",
        "# \timg = img.astype('float32')\n",
        "# \timg = img / 255.0\n",
        "# \treturn img"
      ],
      "execution_count": 75,
      "outputs": []
    },
    {
      "cell_type": "code",
      "metadata": {
        "id": "GHIrJenf4K5I",
        "colab_type": "code",
        "colab": {}
      },
      "source": [
        "# # load the image\n",
        "# img = load_image('/content/sample_image.png')\n",
        "# # predict the class\n",
        "# model = define_model()\n",
        "# digit = model.predict_classes(img)\n",
        "# print(digit[0])"
      ],
      "execution_count": 78,
      "outputs": []
    },
    {
      "cell_type": "markdown",
      "metadata": {
        "id": "scwinvT54ocz",
        "colab_type": "text"
      },
      "source": [
        "# A Simpler CNN Model (without Cross-validation)"
      ]
    },
    {
      "cell_type": "code",
      "metadata": {
        "id": "T7GkIRXe4V_6",
        "colab_type": "code",
        "colab": {
          "base_uri": "https://localhost:8080/",
          "height": 441
        },
        "outputId": "8b229086-0754-4bc4-e9a8-ef49b2a4eea3"
      },
      "source": [
        "model = Sequential()\n",
        "model.add(Conv2D(32, (3, 3), activation='relu', input_shape=(28, 28, 1)))\n",
        "model.add(MaxPooling2D((2, 2)))\n",
        "model.add(Conv2D(64, (3, 3), activation='relu'))\n",
        "model.add(MaxPooling2D((2, 2)))\n",
        "model.add(Conv2D(64, (3, 3), activation='relu'))\n",
        "model.add(Flatten())\n",
        "model.add(Dense(64, activation='relu'))\n",
        "model.add(Dense(10, activation='softmax'))\n",
        "model.summary()"
      ],
      "execution_count": 81,
      "outputs": [
        {
          "output_type": "stream",
          "text": [
            "Model: \"sequential_23\"\n",
            "_________________________________________________________________\n",
            "Layer (type)                 Output Shape              Param #   \n",
            "=================================================================\n",
            "conv2d_22 (Conv2D)           (None, 26, 26, 32)        320       \n",
            "_________________________________________________________________\n",
            "max_pooling2d_22 (MaxPooling (None, 13, 13, 32)        0         \n",
            "_________________________________________________________________\n",
            "conv2d_23 (Conv2D)           (None, 11, 11, 64)        18496     \n",
            "_________________________________________________________________\n",
            "max_pooling2d_23 (MaxPooling (None, 5, 5, 64)          0         \n",
            "_________________________________________________________________\n",
            "conv2d_24 (Conv2D)           (None, 3, 3, 64)          36928     \n",
            "_________________________________________________________________\n",
            "flatten_22 (Flatten)         (None, 576)               0         \n",
            "_________________________________________________________________\n",
            "dense_43 (Dense)             (None, 64)                36928     \n",
            "_________________________________________________________________\n",
            "dense_44 (Dense)             (None, 10)                650       \n",
            "=================================================================\n",
            "Total params: 93,322\n",
            "Trainable params: 93,322\n",
            "Non-trainable params: 0\n",
            "_________________________________________________________________\n"
          ],
          "name": "stdout"
        }
      ]
    },
    {
      "cell_type": "code",
      "metadata": {
        "id": "bgdTvh6B4rrE",
        "colab_type": "code",
        "colab": {}
      },
      "source": [
        "(train_images, train_labels), (test_images, test_labels) = mnist.load_data()\n",
        "train_images = train_images.reshape((60000, 28, 28, 1))\n",
        "train_images = train_images.astype('float32') / 255\n",
        "test_images = test_images.reshape((10000, 28, 28, 1))\n",
        "test_images = test_images.astype('float32') / 255\n",
        "train_labels = to_categorical(train_labels)\n",
        "test_labels = to_categorical(test_labels)"
      ],
      "execution_count": 82,
      "outputs": []
    },
    {
      "cell_type": "code",
      "metadata": {
        "id": "BPy-0ZbY5Fow",
        "colab_type": "code",
        "colab": {
          "base_uri": "https://localhost:8080/",
          "height": 388
        },
        "outputId": "d909543c-e1e7-439a-d86d-46bf3c04b92b"
      },
      "source": [
        "model.compile(optimizer='rmsprop', loss='categorical_crossentropy', metrics=['accuracy'])\n",
        "history = model.fit(train_images, train_labels, epochs=10, batch_size=64, validation_split=0.2)"
      ],
      "execution_count": 84,
      "outputs": [
        {
          "output_type": "stream",
          "text": [
            "Train on 48000 samples, validate on 12000 samples\n",
            "Epoch 1/10\n",
            "48000/48000 [==============================] - 40s 834us/step - loss: 0.0970 - accuracy: 0.9695 - val_loss: 0.0689 - val_accuracy: 0.9803\n",
            "Epoch 2/10\n",
            "48000/48000 [==============================] - 40s 828us/step - loss: 0.0473 - accuracy: 0.9852 - val_loss: 0.0645 - val_accuracy: 0.9827\n",
            "Epoch 3/10\n",
            "48000/48000 [==============================] - 40s 825us/step - loss: 0.0337 - accuracy: 0.9897 - val_loss: 0.0514 - val_accuracy: 0.9865\n",
            "Epoch 4/10\n",
            "48000/48000 [==============================] - 40s 831us/step - loss: 0.0259 - accuracy: 0.9917 - val_loss: 0.0386 - val_accuracy: 0.9895\n",
            "Epoch 5/10\n",
            "48000/48000 [==============================] - 40s 825us/step - loss: 0.0197 - accuracy: 0.9937 - val_loss: 0.0428 - val_accuracy: 0.9894\n",
            "Epoch 6/10\n",
            "48000/48000 [==============================] - 40s 826us/step - loss: 0.0161 - accuracy: 0.9947 - val_loss: 0.0392 - val_accuracy: 0.9902\n",
            "Epoch 7/10\n",
            "48000/48000 [==============================] - 40s 823us/step - loss: 0.0125 - accuracy: 0.9962 - val_loss: 0.0448 - val_accuracy: 0.9903\n",
            "Epoch 8/10\n",
            "48000/48000 [==============================] - 43s 903us/step - loss: 0.0104 - accuracy: 0.9969 - val_loss: 0.0497 - val_accuracy: 0.9898\n",
            "Epoch 9/10\n",
            "48000/48000 [==============================] - 40s 828us/step - loss: 0.0081 - accuracy: 0.9972 - val_loss: 0.0509 - val_accuracy: 0.9908\n",
            "Epoch 10/10\n",
            "48000/48000 [==============================] - 40s 826us/step - loss: 0.0078 - accuracy: 0.9977 - val_loss: 0.0650 - val_accuracy: 0.9862\n"
          ],
          "name": "stdout"
        }
      ]
    },
    {
      "cell_type": "code",
      "metadata": {
        "id": "6xvQvzTi5N8O",
        "colab_type": "code",
        "colab": {
          "base_uri": "https://localhost:8080/",
          "height": 52
        },
        "outputId": "d3ee3b6b-16fc-40f3-dd51-7f12d6835b74"
      },
      "source": [
        "test_loss, test_acc = model.evaluate(test_images, test_labels)\n",
        "test_acc"
      ],
      "execution_count": 85,
      "outputs": [
        {
          "output_type": "stream",
          "text": [
            "10000/10000 [==============================] - 3s 287us/step\n"
          ],
          "name": "stdout"
        },
        {
          "output_type": "execute_result",
          "data": {
            "text/plain": [
              "0.9869999885559082"
            ]
          },
          "metadata": {
            "tags": []
          },
          "execution_count": 85
        }
      ]
    },
    {
      "cell_type": "code",
      "metadata": {
        "id": "CHG05iV07MKe",
        "colab_type": "code",
        "colab": {
          "base_uri": "https://localhost:8080/",
          "height": 545
        },
        "outputId": "9df00d5b-0bbc-4f08-9d54-2e8481c42873"
      },
      "source": [
        "acc = history.history['accuracy']\n",
        "val_acc = history.history['val_accuracy']\n",
        "loss = history.history['loss']\n",
        "val_loss = history.history['val_loss']\n",
        "\n",
        "epochs = range(1, len(acc) + 1)\n",
        "\n",
        "plt.plot(epochs, acc, 'bo', label='Training acc')\n",
        "plt.plot(epochs, val_acc, 'b', label='Validation acc')\n",
        "plt.title('Training and validation accuracy')\n",
        "plt.legend()\n",
        "\n",
        "plt.figure()\n",
        "\n",
        "plt.plot(epochs, loss, 'bo', label='Training loss')\n",
        "plt.plot(epochs, val_loss, 'b', label='Validation loss')\n",
        "plt.title('Training and validation loss')\n",
        "plt.legend()\n",
        "\n",
        "plt.show()"
      ],
      "execution_count": 88,
      "outputs": [
        {
          "output_type": "display_data",
          "data": {
            "image/png": "[encoded data removed]",
            "text/plain": [
              "<Figure size 432x288 with 1 Axes>"
            ]
          },
          "metadata": {
            "tags": [],
            "needs_background": "light"
          }
        },
        {
          "output_type": "display_data",
          "data": {
            "image/png": "[encoded data removed]",
            "text/plain": [
              "<Figure size 432x288 with 1 Axes>"
            ]
          },
          "metadata": {
            "tags": [],
            "needs_background": "light"
          }
        }
      ]
    },
    {
      "cell_type": "code",
      "metadata": {
        "id": "FekBLSx27hd2",
        "colab_type": "code",
        "colab": {}
      },
      "source": [
        ""
      ],
      "execution_count": null,
      "outputs": []
    }
  ]
}