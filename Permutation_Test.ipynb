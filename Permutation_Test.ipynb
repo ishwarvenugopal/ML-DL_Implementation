{
  "nbformat": 4,
  "nbformat_minor": 0,
  "metadata": {
    "colab": {
      "name": "Permutation_Test.ipynb",
      "provenance": [],
      "authorship_tag": "ABX9TyPiRO6jQm+7CP3N4Jao7IeE",
      "include_colab_link": true
    },
    "kernelspec": {
      "name": "python3",
      "display_name": "Python 3"
    }
  },
  "cells": [
    {
      "cell_type": "markdown",
      "metadata": {
        "id": "view-in-github",
        "colab_type": "text"
      },
      "source": [
        "<a href=\"https://colab.research.google.com/github/ishwarvenugopal/ML-DL_Implementation/blob/master/Permutation_Test.ipynb\" target=\"_parent\"><img src=\"https://colab.research.google.com/assets/colab-badge.svg\" alt=\"Open In Colab\"/></a>"
      ]
    },
    {
      "cell_type": "code",
      "metadata": {
        "id": "9pEKgItQiw6o",
        "colab_type": "code",
        "colab": {}
      },
      "source": [
        "import numpy as np"
      ],
      "execution_count": 0,
      "outputs": []
    },
    {
      "cell_type": "code",
      "metadata": {
        "id": "KsN9Pimni4-A",
        "colab_type": "code",
        "colab": {}
      },
      "source": [
        "#Function to calculate the p-value\n",
        "\n",
        "def calc_pvalue(iterations,data_1,data_2,t_obs):\n",
        "  concat = np.concatenate((data_1,data_2))\n",
        "  cnt=0\n",
        "  for i in range(0,iterations):\n",
        "    perm = np.random.permutation(concat)\n",
        "    pcurrent = perm[:len(data_1)]\n",
        "    pnew = perm[len(data_1):]\n",
        "    mean_perm_current=pcurrent.mean()\n",
        "    mean_perm_new=pnew.mean()\n",
        "    t_perm=mean_perm_new-mean_perm_current\n",
        "    if(t_perm>t_obs):\n",
        "      cnt+=1\n",
        "  p_value=cnt/iterations\n",
        "  return p_value"
      ],
      "execution_count": 0,
      "outputs": []
    },
    {
      "cell_type": "code",
      "metadata": {
        "id": "dkcmBbPBi64j",
        "colab_type": "code",
        "colab": {
          "base_uri": "https://localhost:8080/",
          "height": 35
        },
        "outputId": "116ded80-d21a-42e9-8d38-959eef86f931"
      },
      "source": [
        "old = np.array([0, 0, 0, 0, 0, 0, 1, 0, 0, 1, 0])\n",
        "new = np.array([1, 0, 0, 1, 1, 1, 0, 0, 0, 1, 0])\n",
        "\n",
        "mean_current=old.mean()\n",
        "mean_new=new.mean()\n",
        "\n",
        "t_obs=mean_new-mean_current\n",
        "\n",
        "p_val=calc_pvalue(20000,old,new,t_obs)\n",
        "print(p_val)"
      ],
      "execution_count": 6,
      "outputs": [
        {
          "output_type": "stream",
          "text": [
            "0.0333\n"
          ],
          "name": "stdout"
        }
      ]
    },
    {
      "cell_type": "code",
      "metadata": {
        "id": "2jx21zOOjD2B",
        "colab_type": "code",
        "colab": {}
      },
      "source": [
        ""
      ],
      "execution_count": 0,
      "outputs": []
    }
  ]
}