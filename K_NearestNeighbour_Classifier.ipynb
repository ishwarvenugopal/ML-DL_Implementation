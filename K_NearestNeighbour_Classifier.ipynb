{
  "nbformat": 4,
  "nbformat_minor": 0,
  "metadata": {
    "kernelspec": {
      "display_name": "Python 3",
      "language": "python",
      "name": "python3"
    },
    "language_info": {
      "codemirror_mode": {
        "name": "ipython",
        "version": 3
      },
      "file_extension": ".py",
      "mimetype": "text/x-python",
      "name": "python",
      "nbconvert_exporter": "python",
      "pygments_lexer": "ipython3",
      "version": "3.6.5"
    },
    "colab": {
      "name": "K-NearestNeighbour_Classifier.ipynb",
      "provenance": [],
      "collapsed_sections": [],
      "include_colab_link": true
    }
  },
  "cells": [
    {
      "cell_type": "markdown",
      "metadata": {
        "id": "view-in-github",
        "colab_type": "text"
      },
      "source": [
        "<a href=\"https://colab.research.google.com/github/ishwarvenugopal/ML_Implementation/blob/master/K_NearestNeighbour_Classifier.ipynb\" target=\"_parent\"><img src=\"https://colab.research.google.com/assets/colab-badge.svg\" alt=\"Open In Colab\"/></a>"
      ]
    },
    {
      "cell_type": "markdown",
      "metadata": {
        "id": "FhMygpg9LoqD",
        "colab_type": "text"
      },
      "source": [
        "# Importing the libraries"
      ]
    },
    {
      "cell_type": "code",
      "metadata": {
        "id": "1LmLk16wH7hr",
        "colab_type": "code",
        "colab": {}
      },
      "source": [
        "import numpy as np\n",
        "import matplotlib.pyplot as plt\n",
        "import pandas as pd"
      ],
      "execution_count": 0,
      "outputs": []
    },
    {
      "cell_type": "markdown",
      "metadata": {
        "id": "hRPEP4gvLsRH",
        "colab_type": "text"
      },
      "source": [
        "# Importing the dataset"
      ]
    },
    {
      "cell_type": "code",
      "metadata": {
        "id": "vTBNTzpFLz5x",
        "colab_type": "code",
        "outputId": "08d5db6a-4df8-4e0d-a800-b4ec363e768e",
        "colab": {
          "base_uri": "https://localhost:8080/",
          "height": 125
        }
      },
      "source": [
        "from google.colab import drive\n",
        "drive.mount('/content/drive')"
      ],
      "execution_count": 0,
      "outputs": [
        {
          "output_type": "stream",
          "text": [
            "Go to this URL in a browser: https://accounts.google.com/o/oauth2/auth?client_id=947318989803-6bn6qk8qdgf4n4g3pfee6491hc0brc4i.apps.googleusercontent.com&redirect_uri=urn%3aietf%3awg%3aoauth%3a2.0%3aoob&response_type=code&scope=email%20https%3a%2f%2fwww.googleapis.com%2fauth%2fdocs.test%20https%3a%2f%2fwww.googleapis.com%2fauth%2fdrive%20https%3a%2f%2fwww.googleapis.com%2fauth%2fdrive.photos.readonly%20https%3a%2f%2fwww.googleapis.com%2fauth%2fpeopleapi.readonly\n",
            "\n",
            "Enter your authorization code:\n",
            "··········\n",
            "Mounted at /content/drive\n"
          ],
          "name": "stdout"
        }
      ]
    },
    {
      "cell_type": "code",
      "metadata": {
        "id": "ghws6EciH7i1",
        "colab_type": "code",
        "outputId": "8d18eaa7-5692-427f-fec4-8d6c9fdc51b3",
        "colab": {
          "base_uri": "https://localhost:8080/",
          "height": 202
        }
      },
      "source": [
        "dataset = pd.read_csv('/content/drive/My Drive/ML_Algorithms/Data/Classification_Data.csv')\n",
        "dataset.head()"
      ],
      "execution_count": 0,
      "outputs": [
        {
          "output_type": "execute_result",
          "data": {
            "text/html": [
              "<div>\n",
              "<style scoped>\n",
              "    .dataframe tbody tr th:only-of-type {\n",
              "        vertical-align: middle;\n",
              "    }\n",
              "\n",
              "    .dataframe tbody tr th {\n",
              "        vertical-align: top;\n",
              "    }\n",
              "\n",
              "    .dataframe thead th {\n",
              "        text-align: right;\n",
              "    }\n",
              "</style>\n",
              "<table border=\"1\" class=\"dataframe\">\n",
              "  <thead>\n",
              "    <tr style=\"text-align: right;\">\n",
              "      <th></th>\n",
              "      <th>F1</th>\n",
              "      <th>F2</th>\n",
              "      <th>F3</th>\n",
              "      <th>F4</th>\n",
              "      <th>F5</th>\n",
              "      <th>F6</th>\n",
              "      <th>F7</th>\n",
              "      <th>F8</th>\n",
              "      <th>F9</th>\n",
              "      <th>F10</th>\n",
              "      <th>F11</th>\n",
              "      <th>F12</th>\n",
              "      <th>F13</th>\n",
              "      <th>F14</th>\n",
              "      <th>F15</th>\n",
              "      <th>F16</th>\n",
              "      <th>F17</th>\n",
              "      <th>F18</th>\n",
              "      <th>F19</th>\n",
              "      <th>F20</th>\n",
              "      <th>Class</th>\n",
              "    </tr>\n",
              "  </thead>\n",
              "  <tbody>\n",
              "    <tr>\n",
              "      <th>0</th>\n",
              "      <td>0</td>\n",
              "      <td>0</td>\n",
              "      <td>16</td>\n",
              "      <td>2.02</td>\n",
              "      <td>0.52</td>\n",
              "      <td>-2.35</td>\n",
              "      <td>-1.98</td>\n",
              "      <td>-0.70</td>\n",
              "      <td>85</td>\n",
              "      <td>6</td>\n",
              "      <td>-2.07</td>\n",
              "      <td>-0.07</td>\n",
              "      <td>1.08</td>\n",
              "      <td>15</td>\n",
              "      <td>-0.63</td>\n",
              "      <td>-3.49</td>\n",
              "      <td>-1.68</td>\n",
              "      <td>0.02</td>\n",
              "      <td>15.3</td>\n",
              "      <td>-0.13</td>\n",
              "      <td>1</td>\n",
              "    </tr>\n",
              "    <tr>\n",
              "      <th>1</th>\n",
              "      <td>0</td>\n",
              "      <td>0</td>\n",
              "      <td>86</td>\n",
              "      <td>-0.90</td>\n",
              "      <td>2.75</td>\n",
              "      <td>0.14</td>\n",
              "      <td>0.83</td>\n",
              "      <td>-0.06</td>\n",
              "      <td>107</td>\n",
              "      <td>1</td>\n",
              "      <td>-0.86</td>\n",
              "      <td>0.17</td>\n",
              "      <td>1.06</td>\n",
              "      <td>-8</td>\n",
              "      <td>-1.21</td>\n",
              "      <td>0.34</td>\n",
              "      <td>0.36</td>\n",
              "      <td>0.61</td>\n",
              "      <td>10.1</td>\n",
              "      <td>-0.13</td>\n",
              "      <td>1</td>\n",
              "    </tr>\n",
              "    <tr>\n",
              "      <th>2</th>\n",
              "      <td>1</td>\n",
              "      <td>1</td>\n",
              "      <td>165</td>\n",
              "      <td>0.73</td>\n",
              "      <td>1.05</td>\n",
              "      <td>0.10</td>\n",
              "      <td>2.57</td>\n",
              "      <td>-1.65</td>\n",
              "      <td>41</td>\n",
              "      <td>5</td>\n",
              "      <td>0.08</td>\n",
              "      <td>0.04</td>\n",
              "      <td>0.42</td>\n",
              "      <td>-6</td>\n",
              "      <td>-0.46</td>\n",
              "      <td>-0.62</td>\n",
              "      <td>1.67</td>\n",
              "      <td>2.60</td>\n",
              "      <td>11.0</td>\n",
              "      <td>1.55</td>\n",
              "      <td>0</td>\n",
              "    </tr>\n",
              "    <tr>\n",
              "      <th>3</th>\n",
              "      <td>1</td>\n",
              "      <td>1</td>\n",
              "      <td>191</td>\n",
              "      <td>-1.50</td>\n",
              "      <td>0.79</td>\n",
              "      <td>0.33</td>\n",
              "      <td>1.24</td>\n",
              "      <td>1.35</td>\n",
              "      <td>17</td>\n",
              "      <td>2</td>\n",
              "      <td>-0.85</td>\n",
              "      <td>1.74</td>\n",
              "      <td>1.74</td>\n",
              "      <td>15</td>\n",
              "      <td>0.47</td>\n",
              "      <td>0.63</td>\n",
              "      <td>0.08</td>\n",
              "      <td>0.19</td>\n",
              "      <td>6.3</td>\n",
              "      <td>0.95</td>\n",
              "      <td>0</td>\n",
              "    </tr>\n",
              "    <tr>\n",
              "      <th>4</th>\n",
              "      <td>1</td>\n",
              "      <td>1</td>\n",
              "      <td>13</td>\n",
              "      <td>0.25</td>\n",
              "      <td>-1.19</td>\n",
              "      <td>-0.90</td>\n",
              "      <td>2.67</td>\n",
              "      <td>0.22</td>\n",
              "      <td>12</td>\n",
              "      <td>8</td>\n",
              "      <td>0.68</td>\n",
              "      <td>-0.39</td>\n",
              "      <td>1.25</td>\n",
              "      <td>25</td>\n",
              "      <td>-0.09</td>\n",
              "      <td>-2.41</td>\n",
              "      <td>-0.53</td>\n",
              "      <td>-0.77</td>\n",
              "      <td>10.5</td>\n",
              "      <td>-0.13</td>\n",
              "      <td>1</td>\n",
              "    </tr>\n",
              "  </tbody>\n",
              "</table>\n",
              "</div>"
            ],
            "text/plain": [
              "   F1  F2   F3    F4    F5    F6  ...   F16   F17   F18   F19   F20  Class\n",
              "0   0   0   16  2.02  0.52 -2.35  ... -3.49 -1.68  0.02  15.3 -0.13      1\n",
              "1   0   0   86 -0.90  2.75  0.14  ...  0.34  0.36  0.61  10.1 -0.13      1\n",
              "2   1   1  165  0.73  1.05  0.10  ... -0.62  1.67  2.60  11.0  1.55      0\n",
              "3   1   1  191 -1.50  0.79  0.33  ...  0.63  0.08  0.19   6.3  0.95      0\n",
              "4   1   1   13  0.25 -1.19 -0.90  ... -2.41 -0.53 -0.77  10.5 -0.13      1\n",
              "\n",
              "[5 rows x 21 columns]"
            ]
          },
          "metadata": {
            "tags": []
          },
          "execution_count": 3
        }
      ]
    },
    {
      "cell_type": "markdown",
      "metadata": {
        "id": "isHEJ5nwL_rG",
        "colab_type": "text"
      },
      "source": [
        "# Data Pre-processing"
      ]
    },
    {
      "cell_type": "code",
      "metadata": {
        "id": "f7Hk45jfMD9v",
        "colab_type": "code",
        "outputId": "7919b4b0-3aae-4a58-85bd-0a30a50f0123",
        "colab": {
          "base_uri": "https://localhost:8080/",
          "height": 35
        }
      },
      "source": [
        "len(dataset)"
      ],
      "execution_count": 0,
      "outputs": [
        {
          "output_type": "execute_result",
          "data": {
            "text/plain": [
              "500"
            ]
          },
          "metadata": {
            "tags": []
          },
          "execution_count": 4
        }
      ]
    },
    {
      "cell_type": "code",
      "metadata": {
        "id": "Lyx4aDheMFrq",
        "colab_type": "code",
        "outputId": "eb0cd2ff-1472-43fe-ef78-8eddde28a19b",
        "colab": {
          "base_uri": "https://localhost:8080/",
          "height": 406
        }
      },
      "source": [
        "dataset.isna().sum()"
      ],
      "execution_count": 0,
      "outputs": [
        {
          "output_type": "execute_result",
          "data": {
            "text/plain": [
              "F1       0\n",
              "F2       0\n",
              "F3       0\n",
              "F4       0\n",
              "F5       0\n",
              "F6       0\n",
              "F7       0\n",
              "F8       0\n",
              "F9       0\n",
              "F10      0\n",
              "F11      0\n",
              "F12      0\n",
              "F13      0\n",
              "F14      0\n",
              "F15      0\n",
              "F16      0\n",
              "F17      0\n",
              "F18      0\n",
              "F19      0\n",
              "F20      0\n",
              "Class    0\n",
              "dtype: int64"
            ]
          },
          "metadata": {
            "tags": []
          },
          "execution_count": 5
        }
      ]
    },
    {
      "cell_type": "code",
      "metadata": {
        "id": "E_tmu964MH8-",
        "colab_type": "code",
        "outputId": "8a9361a6-9641-4f6e-ca36-86ea43f31a2e",
        "colab": {
          "base_uri": "https://localhost:8080/",
          "height": 52
        }
      },
      "source": [
        "dataset['F20'].mode()"
      ],
      "execution_count": 0,
      "outputs": [
        {
          "output_type": "execute_result",
          "data": {
            "text/plain": [
              "0   -0.13\n",
              "dtype: float64"
            ]
          },
          "metadata": {
            "tags": []
          },
          "execution_count": 6
        }
      ]
    },
    {
      "cell_type": "code",
      "metadata": {
        "id": "X9oi53J2MLPm",
        "colab_type": "code",
        "colab": {}
      },
      "source": [
        "cols2 = [\"F20\"]\n",
        "for col in cols2:\n",
        "    dataset[col].fillna(-0.13, inplace=True)"
      ],
      "execution_count": 0,
      "outputs": []
    },
    {
      "cell_type": "markdown",
      "metadata": {
        "id": "yjzEggUpMN8M",
        "colab_type": "text"
      },
      "source": [
        "# Splitting into train and test data"
      ]
    },
    {
      "cell_type": "code",
      "metadata": {
        "id": "zigAKLwVH7i-",
        "colab_type": "code",
        "colab": {}
      },
      "source": [
        "X = dataset.iloc[:, 0:20]\n",
        "#X.head()\n",
        "y = dataset.iloc[:, [20]]\n",
        "#y.head()"
      ],
      "execution_count": 0,
      "outputs": []
    },
    {
      "cell_type": "code",
      "metadata": {
        "id": "FK7Z3o6lH7jQ",
        "colab_type": "code",
        "colab": {}
      },
      "source": [
        "# Splitting the dataset into the Training set and Test set\n",
        "from sklearn.model_selection import train_test_split\n",
        "X_train, X_test, y_train, y_test = train_test_split(X, y, test_size = 0.25,random_state = 0)"
      ],
      "execution_count": 0,
      "outputs": []
    },
    {
      "cell_type": "markdown",
      "metadata": {
        "id": "cKo_Vuc_MUNf",
        "colab_type": "text"
      },
      "source": [
        "# Feature Scaling"
      ]
    },
    {
      "cell_type": "code",
      "metadata": {
        "id": "Jm8rAGAdH7ja",
        "colab_type": "code",
        "colab": {}
      },
      "source": [
        "# Feature Scaling\n",
        "from sklearn.preprocessing import StandardScaler\n",
        "sc = StandardScaler()\n",
        "X_train = sc.fit_transform(X_train)\n",
        "X_test = sc.transform(X_test)"
      ],
      "execution_count": 0,
      "outputs": []
    },
    {
      "cell_type": "markdown",
      "metadata": {
        "id": "XFlrlrd6Mbcq",
        "colab_type": "text"
      },
      "source": [
        "# Implementing K-nn Classifier"
      ]
    },
    {
      "cell_type": "code",
      "metadata": {
        "id": "L8-JkQJLH7j-",
        "colab_type": "code",
        "outputId": "fb1a6a3c-4ec4-4ac9-953b-241525ad883b",
        "colab": {
          "base_uri": "https://localhost:8080/",
          "height": 125
        }
      },
      "source": [
        "# Fitting classifier to the Training set\n",
        "from sklearn.neighbors import KNeighborsClassifier\n",
        "classifier = KNeighborsClassifier(n_neighbors=6, metric='minkowski', p=2)\n",
        "classifier.fit(X_train,y_train)"
      ],
      "execution_count": 0,
      "outputs": [
        {
          "output_type": "stream",
          "text": [
            "/usr/local/lib/python3.6/dist-packages/ipykernel_launcher.py:4: DataConversionWarning: A column-vector y was passed when a 1d array was expected. Please change the shape of y to (n_samples, ), for example using ravel().\n",
            "  after removing the cwd from sys.path.\n"
          ],
          "name": "stderr"
        },
        {
          "output_type": "execute_result",
          "data": {
            "text/plain": [
              "KNeighborsClassifier(algorithm='auto', leaf_size=30, metric='minkowski',\n",
              "                     metric_params=None, n_jobs=None, n_neighbors=6, p=2,\n",
              "                     weights='uniform')"
            ]
          },
          "metadata": {
            "tags": []
          },
          "execution_count": 11
        }
      ]
    },
    {
      "cell_type": "code",
      "metadata": {
        "id": "mhe32Y77H7kP",
        "colab_type": "code",
        "colab": {}
      },
      "source": [
        "# Predicting the Test set results\n",
        "y_predict = classifier.predict(X_test)"
      ],
      "execution_count": 0,
      "outputs": []
    },
    {
      "cell_type": "markdown",
      "metadata": {
        "id": "mAjBnjqpVJ0w",
        "colab_type": "text"
      },
      "source": [
        "# Evaluation of Results Obtained from Classifier"
      ]
    },
    {
      "cell_type": "code",
      "metadata": {
        "id": "kXdYTHLYH7kf",
        "colab_type": "code",
        "outputId": "8fb07eaa-383c-4b03-d40d-f73b02d5afdf",
        "colab": {
          "base_uri": "https://localhost:8080/",
          "height": 438
        }
      },
      "source": [
        "from sklearn.metrics import plot_confusion_matrix\n",
        "from sklearn.metrics import classification_report\n",
        "\n",
        "plot_confusion_matrix(classifier,X_test,y_test, cmap=plt.cm.Blues)\n",
        "\n",
        "print(classification_report(y_test, y_predict))"
      ],
      "execution_count": 0,
      "outputs": [
        {
          "output_type": "stream",
          "text": [
            "              precision    recall  f1-score   support\n",
            "\n",
            "           0       0.65      0.89      0.75        70\n",
            "           1       0.72      0.38      0.50        55\n",
            "\n",
            "    accuracy                           0.66       125\n",
            "   macro avg       0.68      0.63      0.62       125\n",
            "weighted avg       0.68      0.66      0.64       125\n",
            "\n"
          ],
          "name": "stdout"
        },
        {
          "output_type": "display_data",
          "data": {
            "image/png": "[encoded data removed]",
            "text/plain": [
              "<Figure size 432x288 with 2 Axes>"
            ]
          },
          "metadata": {
            "tags": [],
            "needs_background": "light"
          }
        }
      ]
    },
    {
      "cell_type": "code",
      "metadata": {
        "id": "k0kxHGy8H7kq",
        "colab_type": "code",
        "outputId": "43c20815-2fd4-4604-ab44-0e3fcd6369de",
        "colab": {
          "base_uri": "https://localhost:8080/",
          "height": 461
        }
      },
      "source": [
        "from sklearn.metrics import accuracy_score\n",
        "from sklearn.model_selection import cross_val_score\n",
        "from sklearn.metrics import cohen_kappa_score\n",
        "from sklearn.metrics import make_scorer\n",
        "\n",
        "score1_rf=accuracy_score(y_test,y_predict)\n",
        "print(\"Accuracy (without cross-validation) : {}\".format(score1_rf))\n",
        "\n",
        "score2_rf = cross_val_score(classifier, X_train, y_train, cv=10)\n",
        "print(score2_rf)\n",
        "print(\"Accuracy (after cross-validation): {} (+/- {})\".format(score2_rf.mean(),score2_rf.std()))\n"
      ],
      "execution_count": 0,
      "outputs": [
        {
          "output_type": "stream",
          "text": [
            "Accuracy (without cross-validation) : 0.664\n",
            "[0.55263158 0.55263158 0.52631579 0.52631579 0.63157895 0.54054054\n",
            " 0.56756757 0.54054054 0.56756757 0.59459459]\n",
            "Accuracy (after cross-validation): 0.5600284495021337 (+/- 0.030935481579671544)\n"
          ],
          "name": "stdout"
        },
        {
          "output_type": "stream",
          "text": [
            "/usr/local/lib/python3.6/dist-packages/sklearn/model_selection/_validation.py:515: DataConversionWarning: A column-vector y was passed when a 1d array was expected. Please change the shape of y to (n_samples, ), for example using ravel().\n",
            "  estimator.fit(X_train, y_train, **fit_params)\n",
            "/usr/local/lib/python3.6/dist-packages/sklearn/model_selection/_validation.py:515: DataConversionWarning: A column-vector y was passed when a 1d array was expected. Please change the shape of y to (n_samples, ), for example using ravel().\n",
            "  estimator.fit(X_train, y_train, **fit_params)\n",
            "/usr/local/lib/python3.6/dist-packages/sklearn/model_selection/_validation.py:515: DataConversionWarning: A column-vector y was passed when a 1d array was expected. Please change the shape of y to (n_samples, ), for example using ravel().\n",
            "  estimator.fit(X_train, y_train, **fit_params)\n",
            "/usr/local/lib/python3.6/dist-packages/sklearn/model_selection/_validation.py:515: DataConversionWarning: A column-vector y was passed when a 1d array was expected. Please change the shape of y to (n_samples, ), for example using ravel().\n",
            "  estimator.fit(X_train, y_train, **fit_params)\n",
            "/usr/local/lib/python3.6/dist-packages/sklearn/model_selection/_validation.py:515: DataConversionWarning: A column-vector y was passed when a 1d array was expected. Please change the shape of y to (n_samples, ), for example using ravel().\n",
            "  estimator.fit(X_train, y_train, **fit_params)\n",
            "/usr/local/lib/python3.6/dist-packages/sklearn/model_selection/_validation.py:515: DataConversionWarning: A column-vector y was passed when a 1d array was expected. Please change the shape of y to (n_samples, ), for example using ravel().\n",
            "  estimator.fit(X_train, y_train, **fit_params)\n",
            "/usr/local/lib/python3.6/dist-packages/sklearn/model_selection/_validation.py:515: DataConversionWarning: A column-vector y was passed when a 1d array was expected. Please change the shape of y to (n_samples, ), for example using ravel().\n",
            "  estimator.fit(X_train, y_train, **fit_params)\n",
            "/usr/local/lib/python3.6/dist-packages/sklearn/model_selection/_validation.py:515: DataConversionWarning: A column-vector y was passed when a 1d array was expected. Please change the shape of y to (n_samples, ), for example using ravel().\n",
            "  estimator.fit(X_train, y_train, **fit_params)\n",
            "/usr/local/lib/python3.6/dist-packages/sklearn/model_selection/_validation.py:515: DataConversionWarning: A column-vector y was passed when a 1d array was expected. Please change the shape of y to (n_samples, ), for example using ravel().\n",
            "  estimator.fit(X_train, y_train, **fit_params)\n",
            "/usr/local/lib/python3.6/dist-packages/sklearn/model_selection/_validation.py:515: DataConversionWarning: A column-vector y was passed when a 1d array was expected. Please change the shape of y to (n_samples, ), for example using ravel().\n",
            "  estimator.fit(X_train, y_train, **fit_params)\n"
          ],
          "name": "stderr"
        }
      ]
    },
    {
      "cell_type": "code",
      "metadata": {
        "id": "5WmvtgN_VUfP",
        "colab_type": "code",
        "outputId": "c900986f-b535-4e02-a526-2d624e814c6b",
        "colab": {
          "base_uri": "https://localhost:8080/",
          "height": 461
        }
      },
      "source": [
        "kappa_score = cohen_kappa_score(y_test, y_predict)\n",
        "print(\"Cohen Kappa Score (before cross-validation): {}\".format(kappa_score))\n",
        "\n",
        "score3_rf = cross_val_score(classifier, X_train, y_train, cv=10,scoring=make_scorer(cohen_kappa_score))\n",
        "print(score3_rf)\n",
        "print(\"Cohen Kappa Score (after cross-validation): {} (+/- {})\".format(score3_rf.mean(),score3_rf.std()))"
      ],
      "execution_count": 0,
      "outputs": [
        {
          "output_type": "stream",
          "text": [
            "Cohen Kappa Score (before cross-validation): 0.2818057455540356\n",
            "[ 0.05830904  0.04719764 -0.0148368  -0.02702703  0.22898551  0.02782071\n",
            "  0.07788162 -0.00318979  0.07788162  0.12872841]\n",
            "Cohen Kappa Score (after cross-validation): 0.060175093561433114 (+/- 0.07231069102422395)\n"
          ],
          "name": "stdout"
        },
        {
          "output_type": "stream",
          "text": [
            "/usr/local/lib/python3.6/dist-packages/sklearn/model_selection/_validation.py:515: DataConversionWarning: A column-vector y was passed when a 1d array was expected. Please change the shape of y to (n_samples, ), for example using ravel().\n",
            "  estimator.fit(X_train, y_train, **fit_params)\n",
            "/usr/local/lib/python3.6/dist-packages/sklearn/model_selection/_validation.py:515: DataConversionWarning: A column-vector y was passed when a 1d array was expected. Please change the shape of y to (n_samples, ), for example using ravel().\n",
            "  estimator.fit(X_train, y_train, **fit_params)\n",
            "/usr/local/lib/python3.6/dist-packages/sklearn/model_selection/_validation.py:515: DataConversionWarning: A column-vector y was passed when a 1d array was expected. Please change the shape of y to (n_samples, ), for example using ravel().\n",
            "  estimator.fit(X_train, y_train, **fit_params)\n",
            "/usr/local/lib/python3.6/dist-packages/sklearn/model_selection/_validation.py:515: DataConversionWarning: A column-vector y was passed when a 1d array was expected. Please change the shape of y to (n_samples, ), for example using ravel().\n",
            "  estimator.fit(X_train, y_train, **fit_params)\n",
            "/usr/local/lib/python3.6/dist-packages/sklearn/model_selection/_validation.py:515: DataConversionWarning: A column-vector y was passed when a 1d array was expected. Please change the shape of y to (n_samples, ), for example using ravel().\n",
            "  estimator.fit(X_train, y_train, **fit_params)\n",
            "/usr/local/lib/python3.6/dist-packages/sklearn/model_selection/_validation.py:515: DataConversionWarning: A column-vector y was passed when a 1d array was expected. Please change the shape of y to (n_samples, ), for example using ravel().\n",
            "  estimator.fit(X_train, y_train, **fit_params)\n",
            "/usr/local/lib/python3.6/dist-packages/sklearn/model_selection/_validation.py:515: DataConversionWarning: A column-vector y was passed when a 1d array was expected. Please change the shape of y to (n_samples, ), for example using ravel().\n",
            "  estimator.fit(X_train, y_train, **fit_params)\n",
            "/usr/local/lib/python3.6/dist-packages/sklearn/model_selection/_validation.py:515: DataConversionWarning: A column-vector y was passed when a 1d array was expected. Please change the shape of y to (n_samples, ), for example using ravel().\n",
            "  estimator.fit(X_train, y_train, **fit_params)\n",
            "/usr/local/lib/python3.6/dist-packages/sklearn/model_selection/_validation.py:515: DataConversionWarning: A column-vector y was passed when a 1d array was expected. Please change the shape of y to (n_samples, ), for example using ravel().\n",
            "  estimator.fit(X_train, y_train, **fit_params)\n",
            "/usr/local/lib/python3.6/dist-packages/sklearn/model_selection/_validation.py:515: DataConversionWarning: A column-vector y was passed when a 1d array was expected. Please change the shape of y to (n_samples, ), for example using ravel().\n",
            "  estimator.fit(X_train, y_train, **fit_params)\n"
          ],
          "name": "stderr"
        }
      ]
    },
    {
      "cell_type": "code",
      "metadata": {
        "id": "U2cTHqtKTUEM",
        "colab_type": "code",
        "outputId": "4364bdac-a86b-496a-f0b2-4eaab55c7127",
        "colab": {
          "base_uri": "https://localhost:8080/",
          "height": 295
        }
      },
      "source": [
        "import sklearn.metrics as metrics\n",
        "\n",
        "# calculate the False positive rate (fpr) and True Positive Rate (tpr) for all thresholds of the classification\n",
        "probs = classifier.predict_proba(X_test)\n",
        "preds = probs[:,1]\n",
        "fpr, tpr, threshold = metrics.roc_curve(y_test, preds)\n",
        "roc_auc = metrics.auc(fpr, tpr)\n",
        "\n",
        "# method I: plt\n",
        "import matplotlib.pyplot as plt\n",
        "plt.title('Receiver Operating Characteristic (ROC Curve)')\n",
        "plt.plot(fpr, tpr, 'b', label = 'AUC = %0.2f' % roc_auc)\n",
        "plt.legend(loc = 'lower right')\n",
        "plt.plot([0, 1], [0, 1],'r--')\n",
        "plt.xlim([0, 1])\n",
        "plt.ylim([0, 1])\n",
        "plt.ylabel('True Positive Rate')\n",
        "plt.xlabel('False Positive Rate')\n",
        "plt.show()\n"
      ],
      "execution_count": 0,
      "outputs": [
        {
          "output_type": "display_data",
          "data": {
            "image/png": "[encoded data removed]",
            "text/plain": [
              "<Figure size 432x288 with 1 Axes>"
            ]
          },
          "metadata": {
            "tags": [],
            "needs_background": "light"
          }
        }
      ]
    },
    {
      "cell_type": "code",
      "metadata": {
        "id": "YeUcO8mnskiQ",
        "colab_type": "code",
        "colab": {}
      },
      "source": [
        ""
      ],
      "execution_count": 0,
      "outputs": []
    }
  ]
}