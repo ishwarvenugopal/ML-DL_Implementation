{
  "nbformat": 4,
  "nbformat_minor": 0,
  "metadata": {
    "kernelspec": {
      "display_name": "Python 3",
      "language": "python",
      "name": "python3"
    },
    "language_info": {
      "codemirror_mode": {
        "name": "ipython",
        "version": 3
      },
      "file_extension": ".py",
      "mimetype": "text/x-python",
      "name": "python",
      "nbconvert_exporter": "python",
      "pygments_lexer": "ipython3",
      "version": "3.6.5"
    },
    "colab": {
      "name": "SupportVectorMachine_Classifier.ipynb",
      "provenance": [],
      "collapsed_sections": [],
      "include_colab_link": true
    }
  },
  "cells": [
    {
      "cell_type": "markdown",
      "metadata": {
        "id": "view-in-github",
        "colab_type": "text"
      },
      "source": [
        "<a href=\"https://colab.research.google.com/github/ishwarvenugopal/ML_Implementation/blob/master/SupportVectorMachine_Classifier.ipynb\" target=\"_parent\"><img src=\"https://colab.research.google.com/assets/colab-badge.svg\" alt=\"Open In Colab\"/></a>"
      ]
    },
    {
      "cell_type": "markdown",
      "metadata": {
        "id": "g48-4BugKD8Z",
        "colab_type": "text"
      },
      "source": [
        "# Importing Libraries"
      ]
    },
    {
      "cell_type": "code",
      "metadata": {
        "id": "B1Y0sPqzH9GL",
        "colab_type": "code",
        "colab": {}
      },
      "source": [
        "import numpy as np\n",
        "import matplotlib.pyplot as plt\n",
        "import pandas as pd"
      ],
      "execution_count": 0,
      "outputs": []
    },
    {
      "cell_type": "markdown",
      "metadata": {
        "id": "1b34lXRmKJLY",
        "colab_type": "text"
      },
      "source": [
        "# Importing Dataset"
      ]
    },
    {
      "cell_type": "code",
      "metadata": {
        "id": "IxPAorI-IgJ0",
        "colab_type": "code",
        "outputId": "9fb5ec0d-02d9-4c21-dd35-9e5d8ff38281",
        "colab": {
          "base_uri": "https://localhost:8080/",
          "height": 35
        }
      },
      "source": [
        "from google.colab import drive\n",
        "drive.mount('/content/drive')"
      ],
      "execution_count": 0,
      "outputs": [
        {
          "output_type": "stream",
          "text": [
            "Drive already mounted at /content/drive; to attempt to forcibly remount, call drive.mount(\"/content/drive\", force_remount=True).\n"
          ],
          "name": "stdout"
        }
      ]
    },
    {
      "cell_type": "code",
      "metadata": {
        "id": "gkCaaDWDH9GX",
        "colab_type": "code",
        "outputId": "46bb26f9-31d4-4ec9-a85e-4cd2f77215f7",
        "colab": {
          "base_uri": "https://localhost:8080/",
          "height": 202
        }
      },
      "source": [
        "dataset = pd.read_csv('/content/drive/My Drive/ML_Algorithms/Data/Classification_Data.csv')\n",
        "dataset.head()"
      ],
      "execution_count": 0,
      "outputs": [
        {
          "output_type": "execute_result",
          "data": {
            "text/html": [
              "<div>\n",
              "<style scoped>\n",
              "    .dataframe tbody tr th:only-of-type {\n",
              "        vertical-align: middle;\n",
              "    }\n",
              "\n",
              "    .dataframe tbody tr th {\n",
              "        vertical-align: top;\n",
              "    }\n",
              "\n",
              "    .dataframe thead th {\n",
              "        text-align: right;\n",
              "    }\n",
              "</style>\n",
              "<table border=\"1\" class=\"dataframe\">\n",
              "  <thead>\n",
              "    <tr style=\"text-align: right;\">\n",
              "      <th></th>\n",
              "      <th>F1</th>\n",
              "      <th>F2</th>\n",
              "      <th>F3</th>\n",
              "      <th>F4</th>\n",
              "      <th>F5</th>\n",
              "      <th>F6</th>\n",
              "      <th>F7</th>\n",
              "      <th>F8</th>\n",
              "      <th>F9</th>\n",
              "      <th>F10</th>\n",
              "      <th>F11</th>\n",
              "      <th>F12</th>\n",
              "      <th>F13</th>\n",
              "      <th>F14</th>\n",
              "      <th>F15</th>\n",
              "      <th>F16</th>\n",
              "      <th>F17</th>\n",
              "      <th>F18</th>\n",
              "      <th>F19</th>\n",
              "      <th>F20</th>\n",
              "      <th>Class</th>\n",
              "    </tr>\n",
              "  </thead>\n",
              "  <tbody>\n",
              "    <tr>\n",
              "      <th>0</th>\n",
              "      <td>0</td>\n",
              "      <td>0</td>\n",
              "      <td>16</td>\n",
              "      <td>2.02</td>\n",
              "      <td>0.52</td>\n",
              "      <td>-2.35</td>\n",
              "      <td>-1.98</td>\n",
              "      <td>-0.70</td>\n",
              "      <td>85</td>\n",
              "      <td>6</td>\n",
              "      <td>-2.07</td>\n",
              "      <td>-0.07</td>\n",
              "      <td>1.08</td>\n",
              "      <td>15</td>\n",
              "      <td>-0.63</td>\n",
              "      <td>-3.49</td>\n",
              "      <td>-1.68</td>\n",
              "      <td>0.02</td>\n",
              "      <td>15.3</td>\n",
              "      <td>-0.13</td>\n",
              "      <td>1</td>\n",
              "    </tr>\n",
              "    <tr>\n",
              "      <th>1</th>\n",
              "      <td>0</td>\n",
              "      <td>0</td>\n",
              "      <td>86</td>\n",
              "      <td>-0.90</td>\n",
              "      <td>2.75</td>\n",
              "      <td>0.14</td>\n",
              "      <td>0.83</td>\n",
              "      <td>-0.06</td>\n",
              "      <td>107</td>\n",
              "      <td>1</td>\n",
              "      <td>-0.86</td>\n",
              "      <td>0.17</td>\n",
              "      <td>1.06</td>\n",
              "      <td>-8</td>\n",
              "      <td>-1.21</td>\n",
              "      <td>0.34</td>\n",
              "      <td>0.36</td>\n",
              "      <td>0.61</td>\n",
              "      <td>10.1</td>\n",
              "      <td>-0.13</td>\n",
              "      <td>1</td>\n",
              "    </tr>\n",
              "    <tr>\n",
              "      <th>2</th>\n",
              "      <td>1</td>\n",
              "      <td>1</td>\n",
              "      <td>165</td>\n",
              "      <td>0.73</td>\n",
              "      <td>1.05</td>\n",
              "      <td>0.10</td>\n",
              "      <td>2.57</td>\n",
              "      <td>-1.65</td>\n",
              "      <td>41</td>\n",
              "      <td>5</td>\n",
              "      <td>0.08</td>\n",
              "      <td>0.04</td>\n",
              "      <td>0.42</td>\n",
              "      <td>-6</td>\n",
              "      <td>-0.46</td>\n",
              "      <td>-0.62</td>\n",
              "      <td>1.67</td>\n",
              "      <td>2.60</td>\n",
              "      <td>11.0</td>\n",
              "      <td>1.55</td>\n",
              "      <td>0</td>\n",
              "    </tr>\n",
              "    <tr>\n",
              "      <th>3</th>\n",
              "      <td>1</td>\n",
              "      <td>1</td>\n",
              "      <td>191</td>\n",
              "      <td>-1.50</td>\n",
              "      <td>0.79</td>\n",
              "      <td>0.33</td>\n",
              "      <td>1.24</td>\n",
              "      <td>1.35</td>\n",
              "      <td>17</td>\n",
              "      <td>2</td>\n",
              "      <td>-0.85</td>\n",
              "      <td>1.74</td>\n",
              "      <td>1.74</td>\n",
              "      <td>15</td>\n",
              "      <td>0.47</td>\n",
              "      <td>0.63</td>\n",
              "      <td>0.08</td>\n",
              "      <td>0.19</td>\n",
              "      <td>6.3</td>\n",
              "      <td>0.95</td>\n",
              "      <td>0</td>\n",
              "    </tr>\n",
              "    <tr>\n",
              "      <th>4</th>\n",
              "      <td>1</td>\n",
              "      <td>1</td>\n",
              "      <td>13</td>\n",
              "      <td>0.25</td>\n",
              "      <td>-1.19</td>\n",
              "      <td>-0.90</td>\n",
              "      <td>2.67</td>\n",
              "      <td>0.22</td>\n",
              "      <td>12</td>\n",
              "      <td>8</td>\n",
              "      <td>0.68</td>\n",
              "      <td>-0.39</td>\n",
              "      <td>1.25</td>\n",
              "      <td>25</td>\n",
              "      <td>-0.09</td>\n",
              "      <td>-2.41</td>\n",
              "      <td>-0.53</td>\n",
              "      <td>-0.77</td>\n",
              "      <td>10.5</td>\n",
              "      <td>-0.13</td>\n",
              "      <td>1</td>\n",
              "    </tr>\n",
              "  </tbody>\n",
              "</table>\n",
              "</div>"
            ],
            "text/plain": [
              "   F1  F2   F3    F4    F5    F6  ...   F16   F17   F18   F19   F20  Class\n",
              "0   0   0   16  2.02  0.52 -2.35  ... -3.49 -1.68  0.02  15.3 -0.13      1\n",
              "1   0   0   86 -0.90  2.75  0.14  ...  0.34  0.36  0.61  10.1 -0.13      1\n",
              "2   1   1  165  0.73  1.05  0.10  ... -0.62  1.67  2.60  11.0  1.55      0\n",
              "3   1   1  191 -1.50  0.79  0.33  ...  0.63  0.08  0.19   6.3  0.95      0\n",
              "4   1   1   13  0.25 -1.19 -0.90  ... -2.41 -0.53 -0.77  10.5 -0.13      1\n",
              "\n",
              "[5 rows x 21 columns]"
            ]
          },
          "metadata": {
            "tags": []
          },
          "execution_count": 19
        }
      ]
    },
    {
      "cell_type": "markdown",
      "metadata": {
        "id": "GsfMEDdQKOSj",
        "colab_type": "text"
      },
      "source": [
        "# Data Pre-processing"
      ]
    },
    {
      "cell_type": "code",
      "metadata": {
        "id": "W66XvNRFJUuO",
        "colab_type": "code",
        "outputId": "f01672ba-fa65-4f81-f455-0e5e9302eeb7",
        "colab": {
          "base_uri": "https://localhost:8080/",
          "height": 35
        }
      },
      "source": [
        "len(dataset)"
      ],
      "execution_count": 0,
      "outputs": [
        {
          "output_type": "execute_result",
          "data": {
            "text/plain": [
              "500"
            ]
          },
          "metadata": {
            "tags": []
          },
          "execution_count": 20
        }
      ]
    },
    {
      "cell_type": "code",
      "metadata": {
        "id": "Z5yHhKM8JMws",
        "colab_type": "code",
        "outputId": "39cca1a7-fafd-4c56-de8b-04e06bd7c78f",
        "colab": {
          "base_uri": "https://localhost:8080/",
          "height": 406
        }
      },
      "source": [
        "dataset.isna().sum()"
      ],
      "execution_count": 0,
      "outputs": [
        {
          "output_type": "execute_result",
          "data": {
            "text/plain": [
              "F1       0\n",
              "F2       0\n",
              "F3       0\n",
              "F4       0\n",
              "F5       0\n",
              "F6       0\n",
              "F7       0\n",
              "F8       0\n",
              "F9       0\n",
              "F10      0\n",
              "F11      0\n",
              "F12      0\n",
              "F13      0\n",
              "F14      0\n",
              "F15      0\n",
              "F16      0\n",
              "F17      0\n",
              "F18      0\n",
              "F19      0\n",
              "F20      0\n",
              "Class    0\n",
              "dtype: int64"
            ]
          },
          "metadata": {
            "tags": []
          },
          "execution_count": 21
        }
      ]
    },
    {
      "cell_type": "code",
      "metadata": {
        "id": "f3es7vzwKV3F",
        "colab_type": "code",
        "outputId": "ae534bd9-84c5-4d62-bf72-34089543c0b7",
        "colab": {
          "base_uri": "https://localhost:8080/",
          "height": 52
        }
      },
      "source": [
        "dataset['F20'].mode()"
      ],
      "execution_count": 0,
      "outputs": [
        {
          "output_type": "execute_result",
          "data": {
            "text/plain": [
              "0   -0.13\n",
              "dtype: float64"
            ]
          },
          "metadata": {
            "tags": []
          },
          "execution_count": 22
        }
      ]
    },
    {
      "cell_type": "code",
      "metadata": {
        "id": "9Xwxi8q9Kaeo",
        "colab_type": "code",
        "colab": {}
      },
      "source": [
        "cols2 = [\"F20\"]\n",
        "for col in cols2:\n",
        "    dataset[col].fillna(-0.13, inplace=True)"
      ],
      "execution_count": 0,
      "outputs": []
    },
    {
      "cell_type": "markdown",
      "metadata": {
        "id": "hH5X9eP6K8ak",
        "colab_type": "text"
      },
      "source": [
        "# Splitting into Train and Test data"
      ]
    },
    {
      "cell_type": "code",
      "metadata": {
        "id": "4_3PcoKuH9Gh",
        "colab_type": "code",
        "colab": {}
      },
      "source": [
        "X = dataset.iloc[:, 0:20]\n",
        "#X.head()\n",
        "y = dataset.iloc[:, [20]]\n",
        "#y.head()"
      ],
      "execution_count": 0,
      "outputs": []
    },
    {
      "cell_type": "code",
      "metadata": {
        "id": "_JRWLsQFH9Gq",
        "colab_type": "code",
        "colab": {}
      },
      "source": [
        "# Splitting the dataset into the Training set and Test set\n",
        "from sklearn.model_selection import train_test_split\n",
        "X_train, X_test, y_train, y_test = train_test_split(X, y, test_size = 0.25,random_state = 0)"
      ],
      "execution_count": 0,
      "outputs": []
    },
    {
      "cell_type": "markdown",
      "metadata": {
        "id": "I5slkS00LC1t",
        "colab_type": "text"
      },
      "source": [
        "# Feature Scaling"
      ]
    },
    {
      "cell_type": "code",
      "metadata": {
        "id": "gSsFUdAGH9Gz",
        "colab_type": "code",
        "colab": {}
      },
      "source": [
        "# Feature Scaling\n",
        "from sklearn.preprocessing import StandardScaler\n",
        "sc = StandardScaler()\n",
        "X_train = sc.fit_transform(X_train)\n",
        "X_test = sc.transform(X_test)"
      ],
      "execution_count": 0,
      "outputs": []
    },
    {
      "cell_type": "markdown",
      "metadata": {
        "id": "ey0TbUsGLFwf",
        "colab_type": "text"
      },
      "source": [
        "# Implementing SVM Classifier"
      ]
    },
    {
      "cell_type": "code",
      "metadata": {
        "id": "kAQ9GpRmH9G8",
        "colab_type": "code",
        "outputId": "73cca773-631e-42cc-b2d0-8f8da0e6b6ea",
        "colab": {
          "base_uri": "https://localhost:8080/",
          "height": 72
        }
      },
      "source": [
        "# Fitting classifier to the Training set\n",
        "from sklearn.svm import SVC\n",
        "classifier = SVC(kernel='rbf', random_state=0)\n",
        "classifier.fit(X_train, y_train)\n",
        "# Predicting the Test set results\n",
        "y_predict = classifier.predict(X_test)"
      ],
      "execution_count": 0,
      "outputs": [
        {
          "output_type": "stream",
          "text": [
            "/usr/local/lib/python3.6/dist-packages/sklearn/utils/validation.py:760: DataConversionWarning: A column-vector y was passed when a 1d array was expected. Please change the shape of y to (n_samples, ), for example using ravel().\n",
            "  y = column_or_1d(y, warn=True)\n"
          ],
          "name": "stderr"
        }
      ]
    },
    {
      "cell_type": "markdown",
      "metadata": {
        "id": "IBQzXN4nVpac",
        "colab_type": "text"
      },
      "source": [
        "# Evaluation of Results Obtained from Classifier"
      ]
    },
    {
      "cell_type": "code",
      "metadata": {
        "id": "4Ipjj95IH9HL",
        "colab_type": "code",
        "outputId": "62057f71-0b66-4258-b991-03ad47373f13",
        "colab": {
          "base_uri": "https://localhost:8080/",
          "height": 438
        }
      },
      "source": [
        "from sklearn.metrics import plot_confusion_matrix\n",
        "from sklearn.metrics import classification_report\n",
        "\n",
        "plot_confusion_matrix(classifier,X_test,y_test, cmap=plt.cm.Blues)\n",
        "\n",
        "print(classification_report(y_test, y_predict))"
      ],
      "execution_count": 0,
      "outputs": [
        {
          "output_type": "stream",
          "text": [
            "              precision    recall  f1-score   support\n",
            "\n",
            "           0       0.64      0.77      0.70        70\n",
            "           1       0.60      0.44      0.51        55\n",
            "\n",
            "    accuracy                           0.62       125\n",
            "   macro avg       0.62      0.60      0.60       125\n",
            "weighted avg       0.62      0.62      0.61       125\n",
            "\n"
          ],
          "name": "stdout"
        },
        {
          "output_type": "display_data",
          "data": {
            "image/png": "[encoded data removed]",
            "text/plain": [
              "<Figure size 432x288 with 2 Axes>"
            ]
          },
          "metadata": {
            "tags": [],
            "needs_background": "light"
          }
        }
      ]
    },
    {
      "cell_type": "code",
      "metadata": {
        "id": "BygvaNqwH9Hb",
        "colab_type": "code",
        "outputId": "2ff551ca-7fcf-41c6-d573-c31cb24636bd",
        "colab": {
          "base_uri": "https://localhost:8080/",
          "height": 461
        }
      },
      "source": [
        "from sklearn.metrics import accuracy_score\n",
        "from sklearn.model_selection import cross_val_score\n",
        "from sklearn.metrics import cohen_kappa_score\n",
        "from sklearn.metrics import make_scorer\n",
        "\n",
        "score1_rf=accuracy_score(y_test,y_predict)\n",
        "print(\"Accuracy (without cross-validation) : {}\".format(score1_rf))\n",
        "\n",
        "score2_rf = cross_val_score(classifier, X_train, y_train, cv=10)\n",
        "print(score2_rf)\n",
        "print(\"Accuracy (after cross-validation): {} (+/- {})\".format(score2_rf.mean(),score2_rf.std()))\n"
      ],
      "execution_count": 0,
      "outputs": [
        {
          "output_type": "stream",
          "text": [
            "Accuracy (without cross-validation) : 0.624\n",
            "[0.60526316 0.76315789 0.60526316 0.55263158 0.65789474 0.7027027\n",
            " 0.51351351 0.64864865 0.48648649 0.62162162]\n",
            "Accuracy (after cross-validation): 0.6157183499288763 (+/- 0.0797170393789597)\n"
          ],
          "name": "stdout"
        },
        {
          "output_type": "stream",
          "text": [
            "/usr/local/lib/python3.6/dist-packages/sklearn/utils/validation.py:760: DataConversionWarning: A column-vector y was passed when a 1d array was expected. Please change the shape of y to (n_samples, ), for example using ravel().\n",
            "  y = column_or_1d(y, warn=True)\n",
            "/usr/local/lib/python3.6/dist-packages/sklearn/utils/validation.py:760: DataConversionWarning: A column-vector y was passed when a 1d array was expected. Please change the shape of y to (n_samples, ), for example using ravel().\n",
            "  y = column_or_1d(y, warn=True)\n",
            "/usr/local/lib/python3.6/dist-packages/sklearn/utils/validation.py:760: DataConversionWarning: A column-vector y was passed when a 1d array was expected. Please change the shape of y to (n_samples, ), for example using ravel().\n",
            "  y = column_or_1d(y, warn=True)\n",
            "/usr/local/lib/python3.6/dist-packages/sklearn/utils/validation.py:760: DataConversionWarning: A column-vector y was passed when a 1d array was expected. Please change the shape of y to (n_samples, ), for example using ravel().\n",
            "  y = column_or_1d(y, warn=True)\n",
            "/usr/local/lib/python3.6/dist-packages/sklearn/utils/validation.py:760: DataConversionWarning: A column-vector y was passed when a 1d array was expected. Please change the shape of y to (n_samples, ), for example using ravel().\n",
            "  y = column_or_1d(y, warn=True)\n",
            "/usr/local/lib/python3.6/dist-packages/sklearn/utils/validation.py:760: DataConversionWarning: A column-vector y was passed when a 1d array was expected. Please change the shape of y to (n_samples, ), for example using ravel().\n",
            "  y = column_or_1d(y, warn=True)\n",
            "/usr/local/lib/python3.6/dist-packages/sklearn/utils/validation.py:760: DataConversionWarning: A column-vector y was passed when a 1d array was expected. Please change the shape of y to (n_samples, ), for example using ravel().\n",
            "  y = column_or_1d(y, warn=True)\n",
            "/usr/local/lib/python3.6/dist-packages/sklearn/utils/validation.py:760: DataConversionWarning: A column-vector y was passed when a 1d array was expected. Please change the shape of y to (n_samples, ), for example using ravel().\n",
            "  y = column_or_1d(y, warn=True)\n",
            "/usr/local/lib/python3.6/dist-packages/sklearn/utils/validation.py:760: DataConversionWarning: A column-vector y was passed when a 1d array was expected. Please change the shape of y to (n_samples, ), for example using ravel().\n",
            "  y = column_or_1d(y, warn=True)\n",
            "/usr/local/lib/python3.6/dist-packages/sklearn/utils/validation.py:760: DataConversionWarning: A column-vector y was passed when a 1d array was expected. Please change the shape of y to (n_samples, ), for example using ravel().\n",
            "  y = column_or_1d(y, warn=True)\n"
          ],
          "name": "stderr"
        }
      ]
    },
    {
      "cell_type": "code",
      "metadata": {
        "id": "iixPhXKRH9Hh",
        "colab_type": "code",
        "outputId": "bda21da1-4672-4e37-9f2e-cc485320536c",
        "colab": {
          "base_uri": "https://localhost:8080/",
          "height": 461
        }
      },
      "source": [
        "kappa_score = cohen_kappa_score(y_test, y_predict)\n",
        "print(\"Cohen Kappa Score (before cross-validation): {}\".format(kappa_score))\n",
        "\n",
        "score3_rf = cross_val_score(classifier, X_train, y_train, cv=10,scoring=make_scorer(cohen_kappa_score))\n",
        "print(score3_rf)\n",
        "print(\"Cohen Kappa Score (after cross-validation): {} (+/- {})\".format(score3_rf.mean(),score3_rf.std()))"
      ],
      "execution_count": 0,
      "outputs": [
        {
          "output_type": "stream",
          "text": [
            "Cohen Kappa Score (before cross-validation): 0.21404682274247488\n"
          ],
          "name": "stdout"
        },
        {
          "output_type": "stream",
          "text": [
            "/usr/local/lib/python3.6/dist-packages/sklearn/utils/validation.py:760: DataConversionWarning: A column-vector y was passed when a 1d array was expected. Please change the shape of y to (n_samples, ), for example using ravel().\n",
            "  y = column_or_1d(y, warn=True)\n",
            "/usr/local/lib/python3.6/dist-packages/sklearn/utils/validation.py:760: DataConversionWarning: A column-vector y was passed when a 1d array was expected. Please change the shape of y to (n_samples, ), for example using ravel().\n",
            "  y = column_or_1d(y, warn=True)\n",
            "/usr/local/lib/python3.6/dist-packages/sklearn/utils/validation.py:760: DataConversionWarning: A column-vector y was passed when a 1d array was expected. Please change the shape of y to (n_samples, ), for example using ravel().\n",
            "  y = column_or_1d(y, warn=True)\n",
            "/usr/local/lib/python3.6/dist-packages/sklearn/utils/validation.py:760: DataConversionWarning: A column-vector y was passed when a 1d array was expected. Please change the shape of y to (n_samples, ), for example using ravel().\n",
            "  y = column_or_1d(y, warn=True)\n"
          ],
          "name": "stderr"
        },
        {
          "output_type": "stream",
          "text": [
            "[ 0.16909621  0.50720461  0.15929204  0.04719764  0.26268657  0.38796992\n",
            "  0.00892857  0.26788432 -0.07001522  0.21752266]\n",
            "Cohen Kappa Score (after cross-validation): 0.1957767320373513 (+/- 0.16545428077541588)\n"
          ],
          "name": "stdout"
        },
        {
          "output_type": "stream",
          "text": [
            "/usr/local/lib/python3.6/dist-packages/sklearn/utils/validation.py:760: DataConversionWarning: A column-vector y was passed when a 1d array was expected. Please change the shape of y to (n_samples, ), for example using ravel().\n",
            "  y = column_or_1d(y, warn=True)\n",
            "/usr/local/lib/python3.6/dist-packages/sklearn/utils/validation.py:760: DataConversionWarning: A column-vector y was passed when a 1d array was expected. Please change the shape of y to (n_samples, ), for example using ravel().\n",
            "  y = column_or_1d(y, warn=True)\n",
            "/usr/local/lib/python3.6/dist-packages/sklearn/utils/validation.py:760: DataConversionWarning: A column-vector y was passed when a 1d array was expected. Please change the shape of y to (n_samples, ), for example using ravel().\n",
            "  y = column_or_1d(y, warn=True)\n",
            "/usr/local/lib/python3.6/dist-packages/sklearn/utils/validation.py:760: DataConversionWarning: A column-vector y was passed when a 1d array was expected. Please change the shape of y to (n_samples, ), for example using ravel().\n",
            "  y = column_or_1d(y, warn=True)\n",
            "/usr/local/lib/python3.6/dist-packages/sklearn/utils/validation.py:760: DataConversionWarning: A column-vector y was passed when a 1d array was expected. Please change the shape of y to (n_samples, ), for example using ravel().\n",
            "  y = column_or_1d(y, warn=True)\n",
            "/usr/local/lib/python3.6/dist-packages/sklearn/utils/validation.py:760: DataConversionWarning: A column-vector y was passed when a 1d array was expected. Please change the shape of y to (n_samples, ), for example using ravel().\n",
            "  y = column_or_1d(y, warn=True)\n"
          ],
          "name": "stderr"
        }
      ]
    },
    {
      "cell_type": "code",
      "metadata": {
        "id": "Ai_I9JIWtlsz",
        "colab_type": "code",
        "colab": {}
      },
      "source": [
        ""
      ],
      "execution_count": 0,
      "outputs": []
    }
  ]
}