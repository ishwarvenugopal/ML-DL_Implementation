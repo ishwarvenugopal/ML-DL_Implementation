{
  "nbformat": 4,
  "nbformat_minor": 0,
  "metadata": {
    "colab": {
      "name": "DataAnalysis_with_Pandas.ipynb",
      "provenance": [],
      "mount_file_id": "1wTmAQEIZtqggJXEuk2Jmblpc6kiK3gtP",
      "authorship_tag": "ABX9TyOL85cZwcQe59dwQMhdjARB",
      "include_colab_link": true
    },
    "kernelspec": {
      "name": "python3",
      "display_name": "Python 3"
    }
  },
  "cells": [
    {
      "cell_type": "markdown",
      "metadata": {
        "id": "view-in-github",
        "colab_type": "text"
      },
      "source": [
        "<a href=\"https://colab.research.google.com/github/ishwarvenugopal/ML-DL_Implementation/blob/master/DataAnalysis_with_Pandas.ipynb\" target=\"_parent\"><img src=\"https://colab.research.google.com/assets/colab-badge.svg\" alt=\"Open In Colab\"/></a>"
      ]
    },
    {
      "cell_type": "markdown",
      "metadata": {
        "id": "2X8Je4wqrPGn",
        "colab_type": "text"
      },
      "source": [
        "# 1.Introduction to the dataset"
      ]
    },
    {
      "cell_type": "code",
      "metadata": {
        "id": "Ml_Strxvq_qA",
        "colab_type": "code",
        "colab": {}
      },
      "source": [
        "import pandas as pd"
      ],
      "execution_count": 0,
      "outputs": []
    },
    {
      "cell_type": "code",
      "metadata": {
        "id": "YekYI6STrhRq",
        "colab_type": "code",
        "outputId": "42ee2210-32f6-4c74-96bf-3abf00f24804",
        "colab": {
          "base_uri": "https://localhost:8080/",
          "height": 35
        }
      },
      "source": [
        "pd.__version__"
      ],
      "execution_count": 0,
      "outputs": [
        {
          "output_type": "execute_result",
          "data": {
            "text/plain": [
              "'1.0.3'"
            ]
          },
          "metadata": {
            "tags": []
          },
          "execution_count": 3
        }
      ]
    },
    {
      "cell_type": "code",
      "metadata": {
        "id": "2FPFFV6krjME",
        "colab_type": "code",
        "colab": {}
      },
      "source": [
        "import matplotlib.pyplot as plt"
      ],
      "execution_count": 0,
      "outputs": []
    },
    {
      "cell_type": "code",
      "metadata": {
        "id": "tl2mQZ5Nrlzp",
        "colab_type": "code",
        "colab": {}
      },
      "source": [
        "%matplotlib inline"
      ],
      "execution_count": 0,
      "outputs": []
    },
    {
      "cell_type": "code",
      "metadata": {
        "id": "PfYAiqgGroCX",
        "colab_type": "code",
        "colab": {}
      },
      "source": [
        "ted=pd.read_csv(\"/content/drive/My Drive/MSc Dissertation/Tutorials/ted.csv\")"
      ],
      "execution_count": 0,
      "outputs": []
    },
    {
      "cell_type": "code",
      "metadata": {
        "id": "eogmpuKbrtPi",
        "colab_type": "code",
        "outputId": "ee957079-da79-4136-f686-9af2594a4c88",
        "colab": {
          "base_uri": "https://localhost:8080/",
          "height": 595
        }
      },
      "source": [
        "ted.head()"
      ],
      "execution_count": 0,
      "outputs": [
        {
          "output_type": "execute_result",
          "data": {
            "text/html": [
              "<div>\n",
              "<style scoped>\n",
              "    .dataframe tbody tr th:only-of-type {\n",
              "        vertical-align: middle;\n",
              "    }\n",
              "\n",
              "    .dataframe tbody tr th {\n",
              "        vertical-align: top;\n",
              "    }\n",
              "\n",
              "    .dataframe thead th {\n",
              "        text-align: right;\n",
              "    }\n",
              "</style>\n",
              "<table border=\"1\" class=\"dataframe\">\n",
              "  <thead>\n",
              "    <tr style=\"text-align: right;\">\n",
              "      <th></th>\n",
              "      <th>comments</th>\n",
              "      <th>description</th>\n",
              "      <th>duration</th>\n",
              "      <th>event</th>\n",
              "      <th>film_date</th>\n",
              "      <th>languages</th>\n",
              "      <th>main_speaker</th>\n",
              "      <th>name</th>\n",
              "      <th>num_speaker</th>\n",
              "      <th>published_date</th>\n",
              "      <th>ratings</th>\n",
              "      <th>related_talks</th>\n",
              "      <th>speaker_occupation</th>\n",
              "      <th>tags</th>\n",
              "      <th>title</th>\n",
              "      <th>url</th>\n",
              "      <th>views</th>\n",
              "    </tr>\n",
              "  </thead>\n",
              "  <tbody>\n",
              "    <tr>\n",
              "      <th>0</th>\n",
              "      <td>4553</td>\n",
              "      <td>Sir Ken Robinson makes an entertaining and pro...</td>\n",
              "      <td>1164</td>\n",
              "      <td>TED2006</td>\n",
              "      <td>1140825600</td>\n",
              "      <td>60</td>\n",
              "      <td>Ken Robinson</td>\n",
              "      <td>Ken Robinson: Do schools kill creativity?</td>\n",
              "      <td>1</td>\n",
              "      <td>1151367060</td>\n",
              "      <td>[{'id': 7, 'name': 'Funny', 'count': 19645}, {...</td>\n",
              "      <td>[{'id': 865, 'hero': 'https://pe.tedcdn.com/im...</td>\n",
              "      <td>Author/educator</td>\n",
              "      <td>['children', 'creativity', 'culture', 'dance',...</td>\n",
              "      <td>Do schools kill creativity?</td>\n",
              "      <td>https://www.ted.com/talks/ken_robinson_says_sc...</td>\n",
              "      <td>47227110</td>\n",
              "    </tr>\n",
              "    <tr>\n",
              "      <th>1</th>\n",
              "      <td>265</td>\n",
              "      <td>With the same humor and humanity he exuded in ...</td>\n",
              "      <td>977</td>\n",
              "      <td>TED2006</td>\n",
              "      <td>1140825600</td>\n",
              "      <td>43</td>\n",
              "      <td>Al Gore</td>\n",
              "      <td>Al Gore: Averting the climate crisis</td>\n",
              "      <td>1</td>\n",
              "      <td>1151367060</td>\n",
              "      <td>[{'id': 7, 'name': 'Funny', 'count': 544}, {'i...</td>\n",
              "      <td>[{'id': 243, 'hero': 'https://pe.tedcdn.com/im...</td>\n",
              "      <td>Climate advocate</td>\n",
              "      <td>['alternative energy', 'cars', 'climate change...</td>\n",
              "      <td>Averting the climate crisis</td>\n",
              "      <td>https://www.ted.com/talks/al_gore_on_averting_...</td>\n",
              "      <td>3200520</td>\n",
              "    </tr>\n",
              "    <tr>\n",
              "      <th>2</th>\n",
              "      <td>124</td>\n",
              "      <td>New York Times columnist David Pogue takes aim...</td>\n",
              "      <td>1286</td>\n",
              "      <td>TED2006</td>\n",
              "      <td>1140739200</td>\n",
              "      <td>26</td>\n",
              "      <td>David Pogue</td>\n",
              "      <td>David Pogue: Simplicity sells</td>\n",
              "      <td>1</td>\n",
              "      <td>1151367060</td>\n",
              "      <td>[{'id': 7, 'name': 'Funny', 'count': 964}, {'i...</td>\n",
              "      <td>[{'id': 1725, 'hero': 'https://pe.tedcdn.com/i...</td>\n",
              "      <td>Technology columnist</td>\n",
              "      <td>['computers', 'entertainment', 'interface desi...</td>\n",
              "      <td>Simplicity sells</td>\n",
              "      <td>https://www.ted.com/talks/david_pogue_says_sim...</td>\n",
              "      <td>1636292</td>\n",
              "    </tr>\n",
              "    <tr>\n",
              "      <th>3</th>\n",
              "      <td>200</td>\n",
              "      <td>In an emotionally charged talk, MacArthur-winn...</td>\n",
              "      <td>1116</td>\n",
              "      <td>TED2006</td>\n",
              "      <td>1140912000</td>\n",
              "      <td>35</td>\n",
              "      <td>Majora Carter</td>\n",
              "      <td>Majora Carter: Greening the ghetto</td>\n",
              "      <td>1</td>\n",
              "      <td>1151367060</td>\n",
              "      <td>[{'id': 3, 'name': 'Courageous', 'count': 760}...</td>\n",
              "      <td>[{'id': 1041, 'hero': 'https://pe.tedcdn.com/i...</td>\n",
              "      <td>Activist for environmental justice</td>\n",
              "      <td>['MacArthur grant', 'activism', 'business', 'c...</td>\n",
              "      <td>Greening the ghetto</td>\n",
              "      <td>https://www.ted.com/talks/majora_carter_s_tale...</td>\n",
              "      <td>1697550</td>\n",
              "    </tr>\n",
              "    <tr>\n",
              "      <th>4</th>\n",
              "      <td>593</td>\n",
              "      <td>You've never seen data presented like this. Wi...</td>\n",
              "      <td>1190</td>\n",
              "      <td>TED2006</td>\n",
              "      <td>1140566400</td>\n",
              "      <td>48</td>\n",
              "      <td>Hans Rosling</td>\n",
              "      <td>Hans Rosling: The best stats you've ever seen</td>\n",
              "      <td>1</td>\n",
              "      <td>1151440680</td>\n",
              "      <td>[{'id': 9, 'name': 'Ingenious', 'count': 3202}...</td>\n",
              "      <td>[{'id': 2056, 'hero': 'https://pe.tedcdn.com/i...</td>\n",
              "      <td>Global health expert; data visionary</td>\n",
              "      <td>['Africa', 'Asia', 'Google', 'demo', 'economic...</td>\n",
              "      <td>The best stats you've ever seen</td>\n",
              "      <td>https://www.ted.com/talks/hans_rosling_shows_t...</td>\n",
              "      <td>12005869</td>\n",
              "    </tr>\n",
              "  </tbody>\n",
              "</table>\n",
              "</div>"
            ],
            "text/plain": [
              "   comments  ...     views\n",
              "0      4553  ...  47227110\n",
              "1       265  ...   3200520\n",
              "2       124  ...   1636292\n",
              "3       200  ...   1697550\n",
              "4       593  ...  12005869\n",
              "\n",
              "[5 rows x 17 columns]"
            ]
          },
          "metadata": {
            "tags": []
          },
          "execution_count": 7
        }
      ]
    },
    {
      "cell_type": "code",
      "metadata": {
        "id": "yV7f-lO_ruG7",
        "colab_type": "code",
        "outputId": "b844b183-6489-467f-be41-b3d30e71b900",
        "colab": {
          "base_uri": "https://localhost:8080/",
          "height": 35
        }
      },
      "source": [
        "ted.shape"
      ],
      "execution_count": 0,
      "outputs": [
        {
          "output_type": "execute_result",
          "data": {
            "text/plain": [
              "(2550, 17)"
            ]
          },
          "metadata": {
            "tags": []
          },
          "execution_count": 8
        }
      ]
    },
    {
      "cell_type": "code",
      "metadata": {
        "id": "9kLr8DWyrx-f",
        "colab_type": "code",
        "outputId": "8014fe74-5b69-46ee-fbd4-16cac4264cd9",
        "colab": {
          "base_uri": "https://localhost:8080/",
          "height": 335
        }
      },
      "source": [
        "ted.dtypes"
      ],
      "execution_count": 0,
      "outputs": [
        {
          "output_type": "execute_result",
          "data": {
            "text/plain": [
              "comments               int64\n",
              "description           object\n",
              "duration               int64\n",
              "event                 object\n",
              "film_date              int64\n",
              "languages              int64\n",
              "main_speaker          object\n",
              "name                  object\n",
              "num_speaker            int64\n",
              "published_date         int64\n",
              "ratings               object\n",
              "related_talks         object\n",
              "speaker_occupation    object\n",
              "tags                  object\n",
              "title                 object\n",
              "url                   object\n",
              "views                  int64\n",
              "dtype: object"
            ]
          },
          "metadata": {
            "tags": []
          },
          "execution_count": 9
        }
      ]
    },
    {
      "cell_type": "code",
      "metadata": {
        "id": "QXoigxXurzm4",
        "colab_type": "code",
        "outputId": "15debffb-0d88-4727-b1e9-6b465e9b8d48",
        "colab": {
          "base_uri": "https://localhost:8080/",
          "height": 335
        }
      },
      "source": [
        "ted.isna().sum()"
      ],
      "execution_count": 0,
      "outputs": [
        {
          "output_type": "execute_result",
          "data": {
            "text/plain": [
              "comments              0\n",
              "description           0\n",
              "duration              0\n",
              "event                 0\n",
              "film_date             0\n",
              "languages             0\n",
              "main_speaker          0\n",
              "name                  0\n",
              "num_speaker           0\n",
              "published_date        0\n",
              "ratings               0\n",
              "related_talks         0\n",
              "speaker_occupation    6\n",
              "tags                  0\n",
              "title                 0\n",
              "url                   0\n",
              "views                 0\n",
              "dtype: int64"
            ]
          },
          "metadata": {
            "tags": []
          },
          "execution_count": 10
        }
      ]
    },
    {
      "cell_type": "markdown",
      "metadata": {
        "id": "ebdcSElMsdDm",
        "colab_type": "text"
      },
      "source": [
        "# 2.Which talks provoke the most online discussion?"
      ]
    },
    {
      "cell_type": "code",
      "metadata": {
        "id": "QkAcpLJisDIi",
        "colab_type": "code",
        "outputId": "4c031748-fadd-4cac-815e-6a802852cdac",
        "colab": {
          "base_uri": "https://localhost:8080/",
          "height": 527
        }
      },
      "source": [
        "ted.sort_values('comments').tail()"
      ],
      "execution_count": 0,
      "outputs": [
        {
          "output_type": "execute_result",
          "data": {
            "text/html": [
              "<div>\n",
              "<style scoped>\n",
              "    .dataframe tbody tr th:only-of-type {\n",
              "        vertical-align: middle;\n",
              "    }\n",
              "\n",
              "    .dataframe tbody tr th {\n",
              "        vertical-align: top;\n",
              "    }\n",
              "\n",
              "    .dataframe thead th {\n",
              "        text-align: right;\n",
              "    }\n",
              "</style>\n",
              "<table border=\"1\" class=\"dataframe\">\n",
              "  <thead>\n",
              "    <tr style=\"text-align: right;\">\n",
              "      <th></th>\n",
              "      <th>comments</th>\n",
              "      <th>description</th>\n",
              "      <th>duration</th>\n",
              "      <th>event</th>\n",
              "      <th>film_date</th>\n",
              "      <th>languages</th>\n",
              "      <th>main_speaker</th>\n",
              "      <th>name</th>\n",
              "      <th>num_speaker</th>\n",
              "      <th>published_date</th>\n",
              "      <th>ratings</th>\n",
              "      <th>related_talks</th>\n",
              "      <th>speaker_occupation</th>\n",
              "      <th>tags</th>\n",
              "      <th>title</th>\n",
              "      <th>url</th>\n",
              "      <th>views</th>\n",
              "    </tr>\n",
              "  </thead>\n",
              "  <tbody>\n",
              "    <tr>\n",
              "      <th>1787</th>\n",
              "      <td>2673</td>\n",
              "      <td>Our consciousness is a fundamental aspect of o...</td>\n",
              "      <td>1117</td>\n",
              "      <td>TED2014</td>\n",
              "      <td>1395100800</td>\n",
              "      <td>33</td>\n",
              "      <td>David Chalmers</td>\n",
              "      <td>David Chalmers: How do you explain consciousness?</td>\n",
              "      <td>1</td>\n",
              "      <td>1405350484</td>\n",
              "      <td>[{'id': 25, 'name': 'OK', 'count': 280}, {'id'...</td>\n",
              "      <td>[{'id': 1308, 'hero': 'https://pe.tedcdn.com/i...</td>\n",
              "      <td>Philosopher</td>\n",
              "      <td>['brain', 'consciousness', 'neuroscience', 'ph...</td>\n",
              "      <td>How do you explain consciousness?</td>\n",
              "      <td>https://www.ted.com/talks/david_chalmers_how_d...</td>\n",
              "      <td>2162764</td>\n",
              "    </tr>\n",
              "    <tr>\n",
              "      <th>201</th>\n",
              "      <td>2877</td>\n",
              "      <td>Jill Bolte Taylor got a research opportunity f...</td>\n",
              "      <td>1099</td>\n",
              "      <td>TED2008</td>\n",
              "      <td>1204070400</td>\n",
              "      <td>49</td>\n",
              "      <td>Jill Bolte Taylor</td>\n",
              "      <td>Jill Bolte Taylor: My stroke of insight</td>\n",
              "      <td>1</td>\n",
              "      <td>1205284200</td>\n",
              "      <td>[{'id': 22, 'name': 'Fascinating', 'count': 14...</td>\n",
              "      <td>[{'id': 184, 'hero': 'https://pe.tedcdn.com/im...</td>\n",
              "      <td>Neuroanatomist</td>\n",
              "      <td>['biology', 'brain', 'consciousness', 'global ...</td>\n",
              "      <td>My stroke of insight</td>\n",
              "      <td>https://www.ted.com/talks/jill_bolte_taylor_s_...</td>\n",
              "      <td>21190883</td>\n",
              "    </tr>\n",
              "    <tr>\n",
              "      <th>644</th>\n",
              "      <td>3356</td>\n",
              "      <td>Questions of good and evil, right and wrong ar...</td>\n",
              "      <td>1386</td>\n",
              "      <td>TED2010</td>\n",
              "      <td>1265846400</td>\n",
              "      <td>39</td>\n",
              "      <td>Sam Harris</td>\n",
              "      <td>Sam Harris: Science can answer moral questions</td>\n",
              "      <td>1</td>\n",
              "      <td>1269249180</td>\n",
              "      <td>[{'id': 8, 'name': 'Informative', 'count': 923...</td>\n",
              "      <td>[{'id': 666, 'hero': 'https://pe.tedcdn.com/im...</td>\n",
              "      <td>Neuroscientist, philosopher</td>\n",
              "      <td>['culture', 'evolutionary psychology', 'global...</td>\n",
              "      <td>Science can answer moral questions</td>\n",
              "      <td>https://www.ted.com/talks/sam_harris_science_c...</td>\n",
              "      <td>3433437</td>\n",
              "    </tr>\n",
              "    <tr>\n",
              "      <th>0</th>\n",
              "      <td>4553</td>\n",
              "      <td>Sir Ken Robinson makes an entertaining and pro...</td>\n",
              "      <td>1164</td>\n",
              "      <td>TED2006</td>\n",
              "      <td>1140825600</td>\n",
              "      <td>60</td>\n",
              "      <td>Ken Robinson</td>\n",
              "      <td>Ken Robinson: Do schools kill creativity?</td>\n",
              "      <td>1</td>\n",
              "      <td>1151367060</td>\n",
              "      <td>[{'id': 7, 'name': 'Funny', 'count': 19645}, {...</td>\n",
              "      <td>[{'id': 865, 'hero': 'https://pe.tedcdn.com/im...</td>\n",
              "      <td>Author/educator</td>\n",
              "      <td>['children', 'creativity', 'culture', 'dance',...</td>\n",
              "      <td>Do schools kill creativity?</td>\n",
              "      <td>https://www.ted.com/talks/ken_robinson_says_sc...</td>\n",
              "      <td>47227110</td>\n",
              "    </tr>\n",
              "    <tr>\n",
              "      <th>96</th>\n",
              "      <td>6404</td>\n",
              "      <td>Richard Dawkins urges all atheists to openly s...</td>\n",
              "      <td>1750</td>\n",
              "      <td>TED2002</td>\n",
              "      <td>1012608000</td>\n",
              "      <td>42</td>\n",
              "      <td>Richard Dawkins</td>\n",
              "      <td>Richard Dawkins: Militant atheism</td>\n",
              "      <td>1</td>\n",
              "      <td>1176689220</td>\n",
              "      <td>[{'id': 3, 'name': 'Courageous', 'count': 3236...</td>\n",
              "      <td>[{'id': 86, 'hero': 'https://pe.tedcdn.com/ima...</td>\n",
              "      <td>Evolutionary biologist</td>\n",
              "      <td>['God', 'atheism', 'culture', 'religion', 'sci...</td>\n",
              "      <td>Militant atheism</td>\n",
              "      <td>https://www.ted.com/talks/richard_dawkins_on_m...</td>\n",
              "      <td>4374792</td>\n",
              "    </tr>\n",
              "  </tbody>\n",
              "</table>\n",
              "</div>"
            ],
            "text/plain": [
              "      comments  ...     views\n",
              "1787      2673  ...   2162764\n",
              "201       2877  ...  21190883\n",
              "644       3356  ...   3433437\n",
              "0         4553  ...  47227110\n",
              "96        6404  ...   4374792\n",
              "\n",
              "[5 rows x 17 columns]"
            ]
          },
          "metadata": {
            "tags": []
          },
          "execution_count": 11
        }
      ]
    },
    {
      "cell_type": "code",
      "metadata": {
        "id": "zw7jRS40syoD",
        "colab_type": "code",
        "colab": {}
      },
      "source": [
        "ted['comments_per_view'] = ted.comments/ted.views"
      ],
      "execution_count": 0,
      "outputs": []
    },
    {
      "cell_type": "code",
      "metadata": {
        "id": "3oOu9LTbtNAP",
        "colab_type": "code",
        "outputId": "5ca172ce-1fb5-43f2-f229-ff4e796470b9",
        "colab": {
          "base_uri": "https://localhost:8080/",
          "height": 595
        }
      },
      "source": [
        "ted.sort_values(\"comments_per_view\").tail()"
      ],
      "execution_count": 0,
      "outputs": [
        {
          "output_type": "execute_result",
          "data": {
            "text/html": [
              "<div>\n",
              "<style scoped>\n",
              "    .dataframe tbody tr th:only-of-type {\n",
              "        vertical-align: middle;\n",
              "    }\n",
              "\n",
              "    .dataframe tbody tr th {\n",
              "        vertical-align: top;\n",
              "    }\n",
              "\n",
              "    .dataframe thead th {\n",
              "        text-align: right;\n",
              "    }\n",
              "</style>\n",
              "<table border=\"1\" class=\"dataframe\">\n",
              "  <thead>\n",
              "    <tr style=\"text-align: right;\">\n",
              "      <th></th>\n",
              "      <th>comments</th>\n",
              "      <th>description</th>\n",
              "      <th>duration</th>\n",
              "      <th>event</th>\n",
              "      <th>film_date</th>\n",
              "      <th>languages</th>\n",
              "      <th>main_speaker</th>\n",
              "      <th>name</th>\n",
              "      <th>num_speaker</th>\n",
              "      <th>published_date</th>\n",
              "      <th>ratings</th>\n",
              "      <th>related_talks</th>\n",
              "      <th>speaker_occupation</th>\n",
              "      <th>tags</th>\n",
              "      <th>title</th>\n",
              "      <th>url</th>\n",
              "      <th>views</th>\n",
              "      <th>comments_per_view</th>\n",
              "    </tr>\n",
              "  </thead>\n",
              "  <tbody>\n",
              "    <tr>\n",
              "      <th>954</th>\n",
              "      <td>2492</td>\n",
              "      <td>Janet Echelman found her true voice as an arti...</td>\n",
              "      <td>566</td>\n",
              "      <td>TED2011</td>\n",
              "      <td>1299110400</td>\n",
              "      <td>35</td>\n",
              "      <td>Janet Echelman</td>\n",
              "      <td>Janet Echelman: Taking imagination seriously</td>\n",
              "      <td>1</td>\n",
              "      <td>1307489760</td>\n",
              "      <td>[{'id': 23, 'name': 'Jaw-dropping', 'count': 3...</td>\n",
              "      <td>[{'id': 453, 'hero': 'https://pe.tedcdn.com/im...</td>\n",
              "      <td>Artist</td>\n",
              "      <td>['art', 'cities', 'culture', 'data', 'design',...</td>\n",
              "      <td>Taking imagination seriously</td>\n",
              "      <td>https://www.ted.com/talks/janet_echelman</td>\n",
              "      <td>1832930</td>\n",
              "      <td>0.001360</td>\n",
              "    </tr>\n",
              "    <tr>\n",
              "      <th>694</th>\n",
              "      <td>1502</td>\n",
              "      <td>Filmmaker Sharmeen Obaid-Chinoy takes on a ter...</td>\n",
              "      <td>489</td>\n",
              "      <td>TED2010</td>\n",
              "      <td>1265760000</td>\n",
              "      <td>32</td>\n",
              "      <td>Sharmeen Obaid-Chinoy</td>\n",
              "      <td>Sharmeen Obaid-Chinoy: Inside a school for sui...</td>\n",
              "      <td>1</td>\n",
              "      <td>1274865960</td>\n",
              "      <td>[{'id': 23, 'name': 'Jaw-dropping', 'count': 3...</td>\n",
              "      <td>[{'id': 171, 'hero': 'https://pe.tedcdn.com/im...</td>\n",
              "      <td>Filmmaker</td>\n",
              "      <td>['TED Fellows', 'children', 'culture', 'film',...</td>\n",
              "      <td>Inside a school for suicide bombers</td>\n",
              "      <td>https://www.ted.com/talks/sharmeen_obaid_chino...</td>\n",
              "      <td>1057238</td>\n",
              "      <td>0.001421</td>\n",
              "    </tr>\n",
              "    <tr>\n",
              "      <th>96</th>\n",
              "      <td>6404</td>\n",
              "      <td>Richard Dawkins urges all atheists to openly s...</td>\n",
              "      <td>1750</td>\n",
              "      <td>TED2002</td>\n",
              "      <td>1012608000</td>\n",
              "      <td>42</td>\n",
              "      <td>Richard Dawkins</td>\n",
              "      <td>Richard Dawkins: Militant atheism</td>\n",
              "      <td>1</td>\n",
              "      <td>1176689220</td>\n",
              "      <td>[{'id': 3, 'name': 'Courageous', 'count': 3236...</td>\n",
              "      <td>[{'id': 86, 'hero': 'https://pe.tedcdn.com/ima...</td>\n",
              "      <td>Evolutionary biologist</td>\n",
              "      <td>['God', 'atheism', 'culture', 'religion', 'sci...</td>\n",
              "      <td>Militant atheism</td>\n",
              "      <td>https://www.ted.com/talks/richard_dawkins_on_m...</td>\n",
              "      <td>4374792</td>\n",
              "      <td>0.001464</td>\n",
              "    </tr>\n",
              "    <tr>\n",
              "      <th>803</th>\n",
              "      <td>834</td>\n",
              "      <td>David Bismark demos a new system for voting th...</td>\n",
              "      <td>422</td>\n",
              "      <td>TEDGlobal 2010</td>\n",
              "      <td>1279065600</td>\n",
              "      <td>36</td>\n",
              "      <td>David Bismark</td>\n",
              "      <td>David Bismark: E-voting without fraud</td>\n",
              "      <td>1</td>\n",
              "      <td>1288685640</td>\n",
              "      <td>[{'id': 25, 'name': 'OK', 'count': 111}, {'id'...</td>\n",
              "      <td>[{'id': 803, 'hero': 'https://pe.tedcdn.com/im...</td>\n",
              "      <td>Voting system designer</td>\n",
              "      <td>['culture', 'democracy', 'design', 'global iss...</td>\n",
              "      <td>E-voting without fraud</td>\n",
              "      <td>https://www.ted.com/talks/david_bismark_e_voti...</td>\n",
              "      <td>543551</td>\n",
              "      <td>0.001534</td>\n",
              "    </tr>\n",
              "    <tr>\n",
              "      <th>744</th>\n",
              "      <td>649</td>\n",
              "      <td>Hours before New York lawmakers rejected a key...</td>\n",
              "      <td>453</td>\n",
              "      <td>New York State Senate</td>\n",
              "      <td>1259712000</td>\n",
              "      <td>0</td>\n",
              "      <td>Diane J. Savino</td>\n",
              "      <td>Diane J. Savino: The case for same-sex marriage</td>\n",
              "      <td>1</td>\n",
              "      <td>1282062180</td>\n",
              "      <td>[{'id': 25, 'name': 'OK', 'count': 100}, {'id'...</td>\n",
              "      <td>[{'id': 217, 'hero': 'https://pe.tedcdn.com/im...</td>\n",
              "      <td>Senator</td>\n",
              "      <td>['God', 'LGBT', 'culture', 'government', 'law'...</td>\n",
              "      <td>The case for same-sex marriage</td>\n",
              "      <td>https://www.ted.com/talks/diane_j_savino_the_c...</td>\n",
              "      <td>292395</td>\n",
              "      <td>0.002220</td>\n",
              "    </tr>\n",
              "  </tbody>\n",
              "</table>\n",
              "</div>"
            ],
            "text/plain": [
              "     comments  ... comments_per_view\n",
              "954      2492  ...          0.001360\n",
              "694      1502  ...          0.001421\n",
              "96       6404  ...          0.001464\n",
              "803       834  ...          0.001534\n",
              "744       649  ...          0.002220\n",
              "\n",
              "[5 rows x 18 columns]"
            ]
          },
          "metadata": {
            "tags": []
          },
          "execution_count": 13
        }
      ]
    },
    {
      "cell_type": "code",
      "metadata": {
        "id": "xsD554E_tVVN",
        "colab_type": "code",
        "colab": {}
      },
      "source": [
        "ted[\"views_per_comment\"]=ted.views/ted.comments"
      ],
      "execution_count": 0,
      "outputs": []
    },
    {
      "cell_type": "code",
      "metadata": {
        "id": "6JJjUDmDttSC",
        "colab_type": "code",
        "outputId": "33adeb75-45a4-405f-dda1-8a3ce159809b",
        "colab": {
          "base_uri": "https://localhost:8080/",
          "height": 595
        }
      },
      "source": [
        "ted.sort_values(\"views_per_comment\").head()"
      ],
      "execution_count": 0,
      "outputs": [
        {
          "output_type": "execute_result",
          "data": {
            "text/html": [
              "<div>\n",
              "<style scoped>\n",
              "    .dataframe tbody tr th:only-of-type {\n",
              "        vertical-align: middle;\n",
              "    }\n",
              "\n",
              "    .dataframe tbody tr th {\n",
              "        vertical-align: top;\n",
              "    }\n",
              "\n",
              "    .dataframe thead th {\n",
              "        text-align: right;\n",
              "    }\n",
              "</style>\n",
              "<table border=\"1\" class=\"dataframe\">\n",
              "  <thead>\n",
              "    <tr style=\"text-align: right;\">\n",
              "      <th></th>\n",
              "      <th>comments</th>\n",
              "      <th>description</th>\n",
              "      <th>duration</th>\n",
              "      <th>event</th>\n",
              "      <th>film_date</th>\n",
              "      <th>languages</th>\n",
              "      <th>main_speaker</th>\n",
              "      <th>name</th>\n",
              "      <th>num_speaker</th>\n",
              "      <th>published_date</th>\n",
              "      <th>ratings</th>\n",
              "      <th>related_talks</th>\n",
              "      <th>speaker_occupation</th>\n",
              "      <th>tags</th>\n",
              "      <th>title</th>\n",
              "      <th>url</th>\n",
              "      <th>views</th>\n",
              "      <th>comments_per_view</th>\n",
              "      <th>views_per_comment</th>\n",
              "    </tr>\n",
              "  </thead>\n",
              "  <tbody>\n",
              "    <tr>\n",
              "      <th>744</th>\n",
              "      <td>649</td>\n",
              "      <td>Hours before New York lawmakers rejected a key...</td>\n",
              "      <td>453</td>\n",
              "      <td>New York State Senate</td>\n",
              "      <td>1259712000</td>\n",
              "      <td>0</td>\n",
              "      <td>Diane J. Savino</td>\n",
              "      <td>Diane J. Savino: The case for same-sex marriage</td>\n",
              "      <td>1</td>\n",
              "      <td>1282062180</td>\n",
              "      <td>[{'id': 25, 'name': 'OK', 'count': 100}, {'id'...</td>\n",
              "      <td>[{'id': 217, 'hero': 'https://pe.tedcdn.com/im...</td>\n",
              "      <td>Senator</td>\n",
              "      <td>['God', 'LGBT', 'culture', 'government', 'law'...</td>\n",
              "      <td>The case for same-sex marriage</td>\n",
              "      <td>https://www.ted.com/talks/diane_j_savino_the_c...</td>\n",
              "      <td>292395</td>\n",
              "      <td>0.002220</td>\n",
              "      <td>450.531587</td>\n",
              "    </tr>\n",
              "    <tr>\n",
              "      <th>803</th>\n",
              "      <td>834</td>\n",
              "      <td>David Bismark demos a new system for voting th...</td>\n",
              "      <td>422</td>\n",
              "      <td>TEDGlobal 2010</td>\n",
              "      <td>1279065600</td>\n",
              "      <td>36</td>\n",
              "      <td>David Bismark</td>\n",
              "      <td>David Bismark: E-voting without fraud</td>\n",
              "      <td>1</td>\n",
              "      <td>1288685640</td>\n",
              "      <td>[{'id': 25, 'name': 'OK', 'count': 111}, {'id'...</td>\n",
              "      <td>[{'id': 803, 'hero': 'https://pe.tedcdn.com/im...</td>\n",
              "      <td>Voting system designer</td>\n",
              "      <td>['culture', 'democracy', 'design', 'global iss...</td>\n",
              "      <td>E-voting without fraud</td>\n",
              "      <td>https://www.ted.com/talks/david_bismark_e_voti...</td>\n",
              "      <td>543551</td>\n",
              "      <td>0.001534</td>\n",
              "      <td>651.739808</td>\n",
              "    </tr>\n",
              "    <tr>\n",
              "      <th>96</th>\n",
              "      <td>6404</td>\n",
              "      <td>Richard Dawkins urges all atheists to openly s...</td>\n",
              "      <td>1750</td>\n",
              "      <td>TED2002</td>\n",
              "      <td>1012608000</td>\n",
              "      <td>42</td>\n",
              "      <td>Richard Dawkins</td>\n",
              "      <td>Richard Dawkins: Militant atheism</td>\n",
              "      <td>1</td>\n",
              "      <td>1176689220</td>\n",
              "      <td>[{'id': 3, 'name': 'Courageous', 'count': 3236...</td>\n",
              "      <td>[{'id': 86, 'hero': 'https://pe.tedcdn.com/ima...</td>\n",
              "      <td>Evolutionary biologist</td>\n",
              "      <td>['God', 'atheism', 'culture', 'religion', 'sci...</td>\n",
              "      <td>Militant atheism</td>\n",
              "      <td>https://www.ted.com/talks/richard_dawkins_on_m...</td>\n",
              "      <td>4374792</td>\n",
              "      <td>0.001464</td>\n",
              "      <td>683.134291</td>\n",
              "    </tr>\n",
              "    <tr>\n",
              "      <th>694</th>\n",
              "      <td>1502</td>\n",
              "      <td>Filmmaker Sharmeen Obaid-Chinoy takes on a ter...</td>\n",
              "      <td>489</td>\n",
              "      <td>TED2010</td>\n",
              "      <td>1265760000</td>\n",
              "      <td>32</td>\n",
              "      <td>Sharmeen Obaid-Chinoy</td>\n",
              "      <td>Sharmeen Obaid-Chinoy: Inside a school for sui...</td>\n",
              "      <td>1</td>\n",
              "      <td>1274865960</td>\n",
              "      <td>[{'id': 23, 'name': 'Jaw-dropping', 'count': 3...</td>\n",
              "      <td>[{'id': 171, 'hero': 'https://pe.tedcdn.com/im...</td>\n",
              "      <td>Filmmaker</td>\n",
              "      <td>['TED Fellows', 'children', 'culture', 'film',...</td>\n",
              "      <td>Inside a school for suicide bombers</td>\n",
              "      <td>https://www.ted.com/talks/sharmeen_obaid_chino...</td>\n",
              "      <td>1057238</td>\n",
              "      <td>0.001421</td>\n",
              "      <td>703.886818</td>\n",
              "    </tr>\n",
              "    <tr>\n",
              "      <th>954</th>\n",
              "      <td>2492</td>\n",
              "      <td>Janet Echelman found her true voice as an arti...</td>\n",
              "      <td>566</td>\n",
              "      <td>TED2011</td>\n",
              "      <td>1299110400</td>\n",
              "      <td>35</td>\n",
              "      <td>Janet Echelman</td>\n",
              "      <td>Janet Echelman: Taking imagination seriously</td>\n",
              "      <td>1</td>\n",
              "      <td>1307489760</td>\n",
              "      <td>[{'id': 23, 'name': 'Jaw-dropping', 'count': 3...</td>\n",
              "      <td>[{'id': 453, 'hero': 'https://pe.tedcdn.com/im...</td>\n",
              "      <td>Artist</td>\n",
              "      <td>['art', 'cities', 'culture', 'data', 'design',...</td>\n",
              "      <td>Taking imagination seriously</td>\n",
              "      <td>https://www.ted.com/talks/janet_echelman</td>\n",
              "      <td>1832930</td>\n",
              "      <td>0.001360</td>\n",
              "      <td>735.525682</td>\n",
              "    </tr>\n",
              "  </tbody>\n",
              "</table>\n",
              "</div>"
            ],
            "text/plain": [
              "     comments  ... views_per_comment\n",
              "744       649  ...        450.531587\n",
              "803       834  ...        651.739808\n",
              "96       6404  ...        683.134291\n",
              "694      1502  ...        703.886818\n",
              "954      2492  ...        735.525682\n",
              "\n",
              "[5 rows x 19 columns]"
            ]
          },
          "metadata": {
            "tags": []
          },
          "execution_count": 17
        }
      ]
    },
    {
      "cell_type": "markdown",
      "metadata": {
        "id": "4lemQ0Iiubuz",
        "colab_type": "text"
      },
      "source": [
        "# 3.Visualise the distribution of comments"
      ]
    },
    {
      "cell_type": "code",
      "metadata": {
        "id": "9j6l15bttw4d",
        "colab_type": "code",
        "outputId": "c2c88bf0-2765-470b-dee4-ab7ab17436a8",
        "colab": {
          "base_uri": "https://localhost:8080/",
          "height": 282
        }
      },
      "source": [
        "ted.comments.plot()"
      ],
      "execution_count": 0,
      "outputs": [
        {
          "output_type": "execute_result",
          "data": {
            "text/plain": [
              "<matplotlib.axes._subplots.AxesSubplot at 0x7fed068977b8>"
            ]
          },
          "metadata": {
            "tags": []
          },
          "execution_count": 18
        },
        {
          "output_type": "display_data",
          "data": {
            "image/png": "[encoded data removed]",
            "text/plain": [
              "<Figure size 432x288 with 1 Axes>"
            ]
          },
          "metadata": {
            "tags": [],
            "needs_background": "light"
          }
        }
      ]
    },
    {
      "cell_type": "markdown",
      "metadata": {
        "id": "fwOa8Tvaul1h",
        "colab_type": "text"
      },
      "source": [
        "line plot is normally to denote something over time"
      ]
    },
    {
      "cell_type": "code",
      "metadata": {
        "id": "tArPZAd4uzPJ",
        "colab_type": "code",
        "outputId": "d2d0d6eb-32b6-4cfe-c07e-9061dd251ed6",
        "colab": {
          "base_uri": "https://localhost:8080/",
          "height": 282
        }
      },
      "source": [
        "ted.comments.plot(kind='hist')"
      ],
      "execution_count": 0,
      "outputs": [
        {
          "output_type": "execute_result",
          "data": {
            "text/plain": [
              "<matplotlib.axes._subplots.AxesSubplot at 0x7fed069ad748>"
            ]
          },
          "metadata": {
            "tags": []
          },
          "execution_count": 20
        },
        {
          "output_type": "display_data",
          "data": {
            "image/png": "[encoded data removed]",
            "text/plain": [
              "<Figure size 432x288 with 1 Axes>"
            ]
          },
          "metadata": {
            "tags": [],
            "needs_background": "light"
          }
        }
      ]
    },
    {
      "cell_type": "markdown",
      "metadata": {
        "id": "vGBIRkb4wGGm",
        "colab_type": "text"
      },
      "source": [
        "histogram gives the frequency distribution"
      ]
    },
    {
      "cell_type": "code",
      "metadata": {
        "id": "TobyqVPlwK1f",
        "colab_type": "code",
        "outputId": "a5bbbc9d-6a04-4269-ff24-adab44453fb2",
        "colab": {
          "base_uri": "https://localhost:8080/",
          "height": 282
        }
      },
      "source": [
        "ted[ted.comments<1000].comments.plot(kind='hist')"
      ],
      "execution_count": 0,
      "outputs": [
        {
          "output_type": "execute_result",
          "data": {
            "text/plain": [
              "<matplotlib.axes._subplots.AxesSubplot at 0x7fed069ebf60>"
            ]
          },
          "metadata": {
            "tags": []
          },
          "execution_count": 21
        },
        {
          "output_type": "display_data",
          "data": {
            "image/png": "[encoded data removed]",
            "text/plain": [
              "<Figure size 432x288 with 1 Axes>"
            ]
          },
          "metadata": {
            "tags": [],
            "needs_background": "light"
          }
        }
      ]
    },
    {
      "cell_type": "code",
      "metadata": {
        "id": "7vI2H3ubwwMB",
        "colab_type": "code",
        "outputId": "f7b06d9f-1177-43d4-d4bd-655afa7091bc",
        "colab": {
          "base_uri": "https://localhost:8080/",
          "height": 295
        }
      },
      "source": [
        "ted.query('comments < 1000').plot(kind='hist')"
      ],
      "execution_count": 0,
      "outputs": [
        {
          "output_type": "execute_result",
          "data": {
            "text/plain": [
              "<matplotlib.axes._subplots.AxesSubplot at 0x7fed0696f630>"
            ]
          },
          "metadata": {
            "tags": []
          },
          "execution_count": 22
        },
        {
          "output_type": "display_data",
          "data": {
            "image/png": "[encoded data removed]",
            "text/plain": [
              "<Figure size 432x288 with 1 Axes>"
            ]
          },
          "metadata": {
            "tags": [],
            "needs_background": "light"
          }
        }
      ]
    },
    {
      "cell_type": "code",
      "metadata": {
        "id": "Vf39HXeFxCiT",
        "colab_type": "code",
        "outputId": "88c655c5-bd25-40cd-de4d-0f6e96cc0fa2",
        "colab": {
          "base_uri": "https://localhost:8080/",
          "height": 282
        }
      },
      "source": [
        "ted.loc[ted.comments < 1000, 'comments'].plot(kind='hist')"
      ],
      "execution_count": 0,
      "outputs": [
        {
          "output_type": "execute_result",
          "data": {
            "text/plain": [
              "<matplotlib.axes._subplots.AxesSubplot at 0x7fed0696fbe0>"
            ]
          },
          "metadata": {
            "tags": []
          },
          "execution_count": 23
        },
        {
          "output_type": "display_data",
          "data": {
            "image/png": "[encoded data removed]",
            "text/plain": [
              "<Figure size 432x288 with 1 Axes>"
            ]
          },
          "metadata": {
            "tags": [],
            "needs_background": "light"
          }
        }
      ]
    },
    {
      "cell_type": "code",
      "metadata": {
        "id": "g1jV7Ei9xNg4",
        "colab_type": "code",
        "outputId": "d136dbcc-d077-471c-bcac-bdba1b4ff5a0",
        "colab": {
          "base_uri": "https://localhost:8080/",
          "height": 282
        }
      },
      "source": [
        "ted.loc[ted.comments < 1000, 'comments'].plot(kind='hist', bins=20)"
      ],
      "execution_count": 0,
      "outputs": [
        {
          "output_type": "execute_result",
          "data": {
            "text/plain": [
              "<matplotlib.axes._subplots.AxesSubplot at 0x7fed06954f98>"
            ]
          },
          "metadata": {
            "tags": []
          },
          "execution_count": 24
        },
        {
          "output_type": "display_data",
          "data": {
            "image/png": "[encoded data removed]",
            "text/plain": [
              "<Figure size 432x288 with 1 Axes>"
            ]
          },
          "metadata": {
            "tags": [],
            "needs_background": "light"
          }
        }
      ]
    },
    {
      "cell_type": "code",
      "metadata": {
        "id": "9LT8j6a2xf67",
        "colab_type": "code",
        "outputId": "de0fd123-6b39-466a-ab0a-28e7b1c6124e",
        "colab": {
          "base_uri": "https://localhost:8080/",
          "height": 282
        }
      },
      "source": [
        "ted.loc[ted.comments < 1000, 'comments'].plot(kind='box')"
      ],
      "execution_count": 0,
      "outputs": [
        {
          "output_type": "execute_result",
          "data": {
            "text/plain": [
              "<matplotlib.axes._subplots.AxesSubplot at 0x7fed0696f320>"
            ]
          },
          "metadata": {
            "tags": []
          },
          "execution_count": 26
        },
        {
          "output_type": "display_data",
          "data": {
            "image/png": "[encoded data removed]",
            "text/plain": [
              "<Figure size 432x288 with 1 Axes>"
            ]
          },
          "metadata": {
            "tags": [],
            "needs_background": "light"
          }
        }
      ]
    },
    {
      "cell_type": "markdown",
      "metadata": {
        "id": "FhmSqnaKx6s8",
        "colab_type": "text"
      },
      "source": [
        "# 4. Plot the number of talks that took place each year"
      ]
    },
    {
      "cell_type": "code",
      "metadata": {
        "id": "ObnsbdnBy2mB",
        "colab_type": "code",
        "outputId": "3a3bad62-0c56-4291-848c-3a7435532da6",
        "colab": {
          "base_uri": "https://localhost:8080/",
          "height": 211
        }
      },
      "source": [
        "ted.event.sample(10)"
      ],
      "execution_count": 0,
      "outputs": [
        {
          "output_type": "execute_result",
          "data": {
            "text/plain": [
              "1567          TEDxTokyo\n",
              "38              TED2005\n",
              "636         TEDMED 2009\n",
              "1415     TEDGlobal 2012\n",
              "1781          TEDxKyoto\n",
              "1129    TEDxBloomington\n",
              "2480             TEDNYC\n",
              "560      TEDGlobal 2009\n",
              "2305        TEDMED 2015\n",
              "1969            TED2015\n",
              "Name: event, dtype: object"
            ]
          },
          "metadata": {
            "tags": []
          },
          "execution_count": 29
        }
      ]
    },
    {
      "cell_type": "markdown",
      "metadata": {
        "id": "jmvw5tz7zCZG",
        "colab_type": "text"
      },
      "source": [
        "we can see that the event does not always include the year in the name"
      ]
    },
    {
      "cell_type": "code",
      "metadata": {
        "id": "CkNKsaO_zTRv",
        "colab_type": "code",
        "outputId": "81948696-2030-495b-8ca2-b58096e0a610",
        "colab": {
          "base_uri": "https://localhost:8080/",
          "height": 123
        }
      },
      "source": [
        "ted.film_date.head()"
      ],
      "execution_count": 0,
      "outputs": [
        {
          "output_type": "execute_result",
          "data": {
            "text/plain": [
              "0    1140825600\n",
              "1    1140825600\n",
              "2    1140739200\n",
              "3    1140912000\n",
              "4    1140566400\n",
              "Name: film_date, dtype: int64"
            ]
          },
          "metadata": {
            "tags": []
          },
          "execution_count": 30
        }
      ]
    },
    {
      "cell_type": "code",
      "metadata": {
        "id": "CT20NPnozWZs",
        "colab_type": "code",
        "outputId": "0c2088b8-8a88-4384-c52a-a9875b176761",
        "colab": {
          "base_uri": "https://localhost:8080/",
          "height": 229
        }
      },
      "source": [
        "pd.to_datetime(ted.film_date)"
      ],
      "execution_count": 0,
      "outputs": [
        {
          "output_type": "execute_result",
          "data": {
            "text/plain": [
              "0      1970-01-01 00:00:01.140825600\n",
              "1      1970-01-01 00:00:01.140825600\n",
              "2      1970-01-01 00:00:01.140739200\n",
              "3      1970-01-01 00:00:01.140912000\n",
              "4      1970-01-01 00:00:01.140566400\n",
              "                    ...             \n",
              "2545   1970-01-01 00:00:01.496707200\n",
              "2546   1970-01-01 00:00:01.492992000\n",
              "2547   1970-01-01 00:00:01.492992000\n",
              "2548   1970-01-01 00:00:01.499472000\n",
              "2549   1970-01-01 00:00:01.492992000\n",
              "Name: film_date, Length: 2550, dtype: datetime64[ns]"
            ]
          },
          "metadata": {
            "tags": []
          },
          "execution_count": 31
        }
      ]
    },
    {
      "cell_type": "code",
      "metadata": {
        "id": "Vuj0oAhfzcis",
        "colab_type": "code",
        "outputId": "5e392197-cfbf-4a82-bdd0-129be479315a",
        "colab": {
          "base_uri": "https://localhost:8080/",
          "height": 229
        }
      },
      "source": [
        "pd.to_datetime(ted.film_date,unit='s')"
      ],
      "execution_count": 0,
      "outputs": [
        {
          "output_type": "execute_result",
          "data": {
            "text/plain": [
              "0      2006-02-25\n",
              "1      2006-02-25\n",
              "2      2006-02-24\n",
              "3      2006-02-26\n",
              "4      2006-02-22\n",
              "          ...    \n",
              "2545   2017-06-06\n",
              "2546   2017-04-24\n",
              "2547   2017-04-24\n",
              "2548   2017-07-08\n",
              "2549   2017-04-24\n",
              "Name: film_date, Length: 2550, dtype: datetime64[ns]"
            ]
          },
          "metadata": {
            "tags": []
          },
          "execution_count": 32
        }
      ]
    },
    {
      "cell_type": "code",
      "metadata": {
        "id": "ivOl2JLfzwmN",
        "colab_type": "code",
        "colab": {}
      },
      "source": [
        "ted['film_datetime']=pd.to_datetime(ted.film_date,unit='s')"
      ],
      "execution_count": 0,
      "outputs": []
    },
    {
      "cell_type": "code",
      "metadata": {
        "id": "dwZo66zjz5QU",
        "colab_type": "code",
        "outputId": "6116b8c3-b42d-401b-b5fa-0f866c48a897",
        "colab": {
          "base_uri": "https://localhost:8080/",
          "height": 202
        }
      },
      "source": [
        "ted[['event','film_datetime']].sample(5)"
      ],
      "execution_count": 0,
      "outputs": [
        {
          "output_type": "execute_result",
          "data": {
            "text/html": [
              "<div>\n",
              "<style scoped>\n",
              "    .dataframe tbody tr th:only-of-type {\n",
              "        vertical-align: middle;\n",
              "    }\n",
              "\n",
              "    .dataframe tbody tr th {\n",
              "        vertical-align: top;\n",
              "    }\n",
              "\n",
              "    .dataframe thead th {\n",
              "        text-align: right;\n",
              "    }\n",
              "</style>\n",
              "<table border=\"1\" class=\"dataframe\">\n",
              "  <thead>\n",
              "    <tr style=\"text-align: right;\">\n",
              "      <th></th>\n",
              "      <th>event</th>\n",
              "      <th>film_datetime</th>\n",
              "    </tr>\n",
              "  </thead>\n",
              "  <tbody>\n",
              "    <tr>\n",
              "      <th>1469</th>\n",
              "      <td>TED2013</td>\n",
              "      <td>2013-02-27</td>\n",
              "    </tr>\n",
              "    <tr>\n",
              "      <th>2198</th>\n",
              "      <td>TED2016</td>\n",
              "      <td>2016-02-18</td>\n",
              "    </tr>\n",
              "    <tr>\n",
              "      <th>1013</th>\n",
              "      <td>TED2011</td>\n",
              "      <td>2011-03-02</td>\n",
              "    </tr>\n",
              "    <tr>\n",
              "      <th>316</th>\n",
              "      <td>TED1998</td>\n",
              "      <td>1998-02-02</td>\n",
              "    </tr>\n",
              "    <tr>\n",
              "      <th>2035</th>\n",
              "      <td>TED@BCG London</td>\n",
              "      <td>2015-07-01</td>\n",
              "    </tr>\n",
              "  </tbody>\n",
              "</table>\n",
              "</div>"
            ],
            "text/plain": [
              "               event film_datetime\n",
              "1469         TED2013    2013-02-27\n",
              "2198         TED2016    2016-02-18\n",
              "1013         TED2011    2011-03-02\n",
              "316          TED1998    1998-02-02\n",
              "2035  TED@BCG London    2015-07-01"
            ]
          },
          "metadata": {
            "tags": []
          },
          "execution_count": 34
        }
      ]
    },
    {
      "cell_type": "code",
      "metadata": {
        "id": "bUR-w99vz_o3",
        "colab_type": "code",
        "outputId": "9f9eec1a-aa34-43c9-8627-12137b5a3121",
        "colab": {
          "base_uri": "https://localhost:8080/",
          "height": 388
        }
      },
      "source": [
        "ted.dtypes"
      ],
      "execution_count": 0,
      "outputs": [
        {
          "output_type": "execute_result",
          "data": {
            "text/plain": [
              "comments                       int64\n",
              "description                   object\n",
              "duration                       int64\n",
              "event                         object\n",
              "film_date                      int64\n",
              "languages                      int64\n",
              "main_speaker                  object\n",
              "name                          object\n",
              "num_speaker                    int64\n",
              "published_date                 int64\n",
              "ratings                       object\n",
              "related_talks                 object\n",
              "speaker_occupation            object\n",
              "tags                          object\n",
              "title                         object\n",
              "url                           object\n",
              "views                          int64\n",
              "comments_per_view            float64\n",
              "views_per_comment            float64\n",
              "film_datetime         datetime64[ns]\n",
              "dtype: object"
            ]
          },
          "metadata": {
            "tags": []
          },
          "execution_count": 35
        }
      ]
    },
    {
      "cell_type": "code",
      "metadata": {
        "id": "TmlX9ZDd0HLZ",
        "colab_type": "code",
        "outputId": "24684e13-2c86-41b6-d6cb-7edcaed61287",
        "colab": {
          "base_uri": "https://localhost:8080/",
          "height": 229
        }
      },
      "source": [
        "ted.film_datetime.dt.year"
      ],
      "execution_count": 0,
      "outputs": [
        {
          "output_type": "execute_result",
          "data": {
            "text/plain": [
              "0       2006\n",
              "1       2006\n",
              "2       2006\n",
              "3       2006\n",
              "4       2006\n",
              "        ... \n",
              "2545    2017\n",
              "2546    2017\n",
              "2547    2017\n",
              "2548    2017\n",
              "2549    2017\n",
              "Name: film_datetime, Length: 2550, dtype: int64"
            ]
          },
          "metadata": {
            "tags": []
          },
          "execution_count": 36
        }
      ]
    },
    {
      "cell_type": "code",
      "metadata": {
        "id": "1EFCYMbk0SzH",
        "colab_type": "code",
        "outputId": "d0896351-ecce-48d6-c3a3-424060b91783",
        "colab": {
          "base_uri": "https://localhost:8080/",
          "height": 229
        }
      },
      "source": [
        "ted.event.str.lower()"
      ],
      "execution_count": 0,
      "outputs": [
        {
          "output_type": "execute_result",
          "data": {
            "text/plain": [
              "0            ted2006\n",
              "1            ted2006\n",
              "2            ted2006\n",
              "3            ted2006\n",
              "4            ted2006\n",
              "            ...     \n",
              "2545         ted2017\n",
              "2546         ted2017\n",
              "2547         ted2017\n",
              "2548    tedxmilehigh\n",
              "2549         ted2017\n",
              "Name: event, Length: 2550, dtype: object"
            ]
          },
          "metadata": {
            "tags": []
          },
          "execution_count": 39
        }
      ]
    },
    {
      "cell_type": "code",
      "metadata": {
        "id": "8IZndeMf0ZcU",
        "colab_type": "code",
        "outputId": "c4c224ee-91a9-492d-9719-c0eae89ee20a",
        "colab": {
          "base_uri": "https://localhost:8080/",
          "height": 229
        }
      },
      "source": [
        "ted.film_datetime.dt.dayofweek"
      ],
      "execution_count": 0,
      "outputs": [
        {
          "output_type": "execute_result",
          "data": {
            "text/plain": [
              "0       5\n",
              "1       5\n",
              "2       4\n",
              "3       6\n",
              "4       2\n",
              "       ..\n",
              "2545    1\n",
              "2546    0\n",
              "2547    0\n",
              "2548    5\n",
              "2549    0\n",
              "Name: film_datetime, Length: 2550, dtype: int64"
            ]
          },
          "metadata": {
            "tags": []
          },
          "execution_count": 40
        }
      ]
    },
    {
      "cell_type": "code",
      "metadata": {
        "id": "pYn3hop20f5H",
        "colab_type": "code",
        "outputId": "10ade4c6-45a2-41e4-a463-b4a11c5279ec",
        "colab": {
          "base_uri": "https://localhost:8080/",
          "height": 459
        }
      },
      "source": [
        "ted.film_datetime.dt.year.value_counts()"
      ],
      "execution_count": 0,
      "outputs": [
        {
          "output_type": "execute_result",
          "data": {
            "text/plain": [
              "2013    270\n",
              "2011    270\n",
              "2010    267\n",
              "2012    267\n",
              "2016    246\n",
              "2015    239\n",
              "2014    237\n",
              "2009    232\n",
              "2007    114\n",
              "2017     98\n",
              "2008     84\n",
              "2005     66\n",
              "2006     50\n",
              "2003     33\n",
              "2004     33\n",
              "2002     27\n",
              "1998      6\n",
              "2001      5\n",
              "1983      1\n",
              "1991      1\n",
              "1994      1\n",
              "1990      1\n",
              "1984      1\n",
              "1972      1\n",
              "Name: film_datetime, dtype: int64"
            ]
          },
          "metadata": {
            "tags": []
          },
          "execution_count": 42
        }
      ]
    },
    {
      "cell_type": "code",
      "metadata": {
        "id": "HgYU8D6Z0mqE",
        "colab_type": "code",
        "outputId": "a66b24b4-7048-47e5-a18b-af1476bb2e91",
        "colab": {
          "base_uri": "https://localhost:8080/",
          "height": 298
        }
      },
      "source": [
        "ted.film_datetime.dt.year.value_counts().plot(kind='bar')"
      ],
      "execution_count": 0,
      "outputs": [
        {
          "output_type": "execute_result",
          "data": {
            "text/plain": [
              "<matplotlib.axes._subplots.AxesSubplot at 0x7fed066a67f0>"
            ]
          },
          "metadata": {
            "tags": []
          },
          "execution_count": 44
        },
        {
          "output_type": "display_data",
          "data": {
            "image/png": "[encoded data removed]",
            "text/plain": [
              "<Figure size 432x288 with 1 Axes>"
            ]
          },
          "metadata": {
            "tags": [],
            "needs_background": "light"
          }
        }
      ]
    },
    {
      "cell_type": "code",
      "metadata": {
        "id": "kWNbkR3L0xVZ",
        "colab_type": "code",
        "outputId": "e697603c-5482-4d00-e096-81a5deedef36",
        "colab": {
          "base_uri": "https://localhost:8080/",
          "height": 282
        }
      },
      "source": [
        "ted.film_datetime.dt.year.value_counts().sort_index().plot()"
      ],
      "execution_count": 0,
      "outputs": [
        {
          "output_type": "execute_result",
          "data": {
            "text/plain": [
              "<matplotlib.axes._subplots.AxesSubplot at 0x7fed05d84b38>"
            ]
          },
          "metadata": {
            "tags": []
          },
          "execution_count": 48
        },
        {
          "output_type": "display_data",
          "data": {
            "image/png": "[encoded data removed]",
            "text/plain": [
              "<Figure size 432x288 with 1 Axes>"
            ]
          },
          "metadata": {
            "tags": [],
            "needs_background": "light"
          }
        }
      ]
    },
    {
      "cell_type": "code",
      "metadata": {
        "id": "eaG7lulN0_lr",
        "colab_type": "code",
        "outputId": "2cb4b06e-1553-4b8e-a82e-09562eb83c9a",
        "colab": {
          "base_uri": "https://localhost:8080/",
          "height": 35
        }
      },
      "source": [
        "ted.film_datetime.max()"
      ],
      "execution_count": 0,
      "outputs": [
        {
          "output_type": "execute_result",
          "data": {
            "text/plain": [
              "Timestamp('2017-08-27 00:00:00')"
            ]
          },
          "metadata": {
            "tags": []
          },
          "execution_count": 49
        }
      ]
    },
    {
      "cell_type": "markdown",
      "metadata": {
        "id": "lrr96azO1lj2",
        "colab_type": "text"
      },
      "source": [
        "# 5.What were the best events in Ted history to attend?"
      ]
    },
    {
      "cell_type": "code",
      "metadata": {
        "id": "pmjz8IxM2jDO",
        "colab_type": "code",
        "outputId": "947d81c1-a49f-4de4-a491-9dd38b2ae15d",
        "colab": {
          "base_uri": "https://localhost:8080/",
          "height": 123
        }
      },
      "source": [
        "ted.event.value_counts().head()"
      ],
      "execution_count": 0,
      "outputs": [
        {
          "output_type": "execute_result",
          "data": {
            "text/plain": [
              "TED2014    84\n",
              "TED2009    83\n",
              "TED2016    77\n",
              "TED2013    77\n",
              "TED2015    75\n",
              "Name: event, dtype: int64"
            ]
          },
          "metadata": {
            "tags": []
          },
          "execution_count": 50
        }
      ]
    },
    {
      "cell_type": "code",
      "metadata": {
        "id": "0oUmICs13eNK",
        "colab_type": "code",
        "outputId": "48aba431-cea1-45ef-9321-8524dd4dab0d",
        "colab": {
          "base_uri": "https://localhost:8080/",
          "height": 141
        }
      },
      "source": [
        "ted.groupby('event').views.mean().head()"
      ],
      "execution_count": 0,
      "outputs": [
        {
          "output_type": "execute_result",
          "data": {
            "text/plain": [
              "event\n",
              "AORN Congress                  149818.0\n",
              "Arbejdsglaede Live             971594.0\n",
              "BBC TV                         521974.0\n",
              "Bowery Poetry Club             676741.0\n",
              "Business Innovation Factory    304086.0\n",
              "Name: views, dtype: float64"
            ]
          },
          "metadata": {
            "tags": []
          },
          "execution_count": 51
        }
      ]
    },
    {
      "cell_type": "code",
      "metadata": {
        "id": "UWhwJjDq3m9G",
        "colab_type": "code",
        "outputId": "22e28187-62cd-4ac9-8e54-870cdd7df75d",
        "colab": {
          "base_uri": "https://localhost:8080/",
          "height": 141
        }
      },
      "source": [
        "ted.groupby('event').views.mean().sort_values().tail()"
      ],
      "execution_count": 0,
      "outputs": [
        {
          "output_type": "execute_result",
          "data": {
            "text/plain": [
              "event\n",
              "TEDxNorrkoping        6569493.0\n",
              "TEDxCreativeCoast     8444981.0\n",
              "TEDxBloomington       9484259.5\n",
              "TEDxHouston          16140250.5\n",
              "TEDxPuget Sound      34309432.0\n",
              "Name: views, dtype: float64"
            ]
          },
          "metadata": {
            "tags": []
          },
          "execution_count": 53
        }
      ]
    },
    {
      "cell_type": "code",
      "metadata": {
        "id": "QJ4mf5FF3tl0",
        "colab_type": "code",
        "outputId": "c0ed1e9d-0ff8-40d1-ba58-a91c05551266",
        "colab": {
          "base_uri": "https://localhost:8080/",
          "height": 233
        }
      },
      "source": [
        "ted.groupby('event').views.agg(['count','mean','sum']).sort_values('sum').tail()"
      ],
      "execution_count": 0,
      "outputs": [
        {
          "output_type": "execute_result",
          "data": {
            "text/html": [
              "<div>\n",
              "<style scoped>\n",
              "    .dataframe tbody tr th:only-of-type {\n",
              "        vertical-align: middle;\n",
              "    }\n",
              "\n",
              "    .dataframe tbody tr th {\n",
              "        vertical-align: top;\n",
              "    }\n",
              "\n",
              "    .dataframe thead th {\n",
              "        text-align: right;\n",
              "    }\n",
              "</style>\n",
              "<table border=\"1\" class=\"dataframe\">\n",
              "  <thead>\n",
              "    <tr style=\"text-align: right;\">\n",
              "      <th></th>\n",
              "      <th>count</th>\n",
              "      <th>mean</th>\n",
              "      <th>sum</th>\n",
              "    </tr>\n",
              "    <tr>\n",
              "      <th>event</th>\n",
              "      <th></th>\n",
              "      <th></th>\n",
              "      <th></th>\n",
              "    </tr>\n",
              "  </thead>\n",
              "  <tbody>\n",
              "    <tr>\n",
              "      <th>TED2006</th>\n",
              "      <td>45</td>\n",
              "      <td>3.274345e+06</td>\n",
              "      <td>147345533</td>\n",
              "    </tr>\n",
              "    <tr>\n",
              "      <th>TED2015</th>\n",
              "      <td>75</td>\n",
              "      <td>2.011017e+06</td>\n",
              "      <td>150826305</td>\n",
              "    </tr>\n",
              "    <tr>\n",
              "      <th>TEDGlobal 2013</th>\n",
              "      <td>66</td>\n",
              "      <td>2.584163e+06</td>\n",
              "      <td>170554736</td>\n",
              "    </tr>\n",
              "    <tr>\n",
              "      <th>TED2014</th>\n",
              "      <td>84</td>\n",
              "      <td>2.072874e+06</td>\n",
              "      <td>174121423</td>\n",
              "    </tr>\n",
              "    <tr>\n",
              "      <th>TED2013</th>\n",
              "      <td>77</td>\n",
              "      <td>2.302700e+06</td>\n",
              "      <td>177307937</td>\n",
              "    </tr>\n",
              "  </tbody>\n",
              "</table>\n",
              "</div>"
            ],
            "text/plain": [
              "                count          mean        sum\n",
              "event                                         \n",
              "TED2006            45  3.274345e+06  147345533\n",
              "TED2015            75  2.011017e+06  150826305\n",
              "TEDGlobal 2013     66  2.584163e+06  170554736\n",
              "TED2014            84  2.072874e+06  174121423\n",
              "TED2013            77  2.302700e+06  177307937"
            ]
          },
          "metadata": {
            "tags": []
          },
          "execution_count": 55
        }
      ]
    },
    {
      "cell_type": "markdown",
      "metadata": {
        "id": "MM0Lsj5r4LkJ",
        "colab_type": "text"
      },
      "source": [
        "# 6. Unpack the ratings data"
      ]
    },
    {
      "cell_type": "code",
      "metadata": {
        "id": "xwzolYXt5Yr_",
        "colab_type": "code",
        "outputId": "2695c393-b8af-49d1-da74-6fd90cf1eb31",
        "colab": {
          "base_uri": "https://localhost:8080/",
          "height": 123
        }
      },
      "source": [
        "ted.ratings.head()"
      ],
      "execution_count": 0,
      "outputs": [
        {
          "output_type": "execute_result",
          "data": {
            "text/plain": [
              "0    [{'id': 7, 'name': 'Funny', 'count': 19645}, {...\n",
              "1    [{'id': 7, 'name': 'Funny', 'count': 544}, {'i...\n",
              "2    [{'id': 7, 'name': 'Funny', 'count': 964}, {'i...\n",
              "3    [{'id': 3, 'name': 'Courageous', 'count': 760}...\n",
              "4    [{'id': 9, 'name': 'Ingenious', 'count': 3202}...\n",
              "Name: ratings, dtype: object"
            ]
          },
          "metadata": {
            "tags": []
          },
          "execution_count": 56
        }
      ]
    },
    {
      "cell_type": "code",
      "metadata": {
        "id": "zFCiIriC5Z4C",
        "colab_type": "code",
        "outputId": "2f7f92c8-b1a8-456f-f1e0-f5dd324fbd66",
        "colab": {
          "base_uri": "https://localhost:8080/",
          "height": 55
        }
      },
      "source": [
        "ted.loc[0,'ratings']"
      ],
      "execution_count": 0,
      "outputs": [
        {
          "output_type": "execute_result",
          "data": {
            "text/plain": [
              "\"[{'id': 7, 'name': 'Funny', 'count': 19645}, {'id': 1, 'name': 'Beautiful', 'count': 4573}, {'id': 9, 'name': 'Ingenious', 'count': 6073}, {'id': 3, 'name': 'Courageous', 'count': 3253}, {'id': 11, 'name': 'Longwinded', 'count': 387}, {'id': 2, 'name': 'Confusing', 'count': 242}, {'id': 8, 'name': 'Informative', 'count': 7346}, {'id': 22, 'name': 'Fascinating', 'count': 10581}, {'id': 21, 'name': 'Unconvincing', 'count': 300}, {'id': 24, 'name': 'Persuasive', 'count': 10704}, {'id': 23, 'name': 'Jaw-dropping', 'count': 4439}, {'id': 25, 'name': 'OK', 'count': 1174}, {'id': 26, 'name': 'Obnoxious', 'count': 209}, {'id': 10, 'name': 'Inspiring', 'count': 24924}]\""
            ]
          },
          "metadata": {
            "tags": []
          },
          "execution_count": 58
        }
      ]
    },
    {
      "cell_type": "code",
      "metadata": {
        "id": "2PaN9JhP5hQn",
        "colab_type": "code",
        "outputId": "55aeb128-1e99-4a78-8f58-90db3d2ca0bc",
        "colab": {
          "base_uri": "https://localhost:8080/",
          "height": 55
        }
      },
      "source": [
        "ted.ratings[0]"
      ],
      "execution_count": 0,
      "outputs": [
        {
          "output_type": "execute_result",
          "data": {
            "text/plain": [
              "\"[{'id': 7, 'name': 'Funny', 'count': 19645}, {'id': 1, 'name': 'Beautiful', 'count': 4573}, {'id': 9, 'name': 'Ingenious', 'count': 6073}, {'id': 3, 'name': 'Courageous', 'count': 3253}, {'id': 11, 'name': 'Longwinded', 'count': 387}, {'id': 2, 'name': 'Confusing', 'count': 242}, {'id': 8, 'name': 'Informative', 'count': 7346}, {'id': 22, 'name': 'Fascinating', 'count': 10581}, {'id': 21, 'name': 'Unconvincing', 'count': 300}, {'id': 24, 'name': 'Persuasive', 'count': 10704}, {'id': 23, 'name': 'Jaw-dropping', 'count': 4439}, {'id': 25, 'name': 'OK', 'count': 1174}, {'id': 26, 'name': 'Obnoxious', 'count': 209}, {'id': 10, 'name': 'Inspiring', 'count': 24924}]\""
            ]
          },
          "metadata": {
            "tags": []
          },
          "execution_count": 59
        }
      ]
    },
    {
      "cell_type": "code",
      "metadata": {
        "id": "fQU75a9z5l74",
        "colab_type": "code",
        "outputId": "afb87709-8833-47b4-d98f-090b64351c0a",
        "colab": {
          "base_uri": "https://localhost:8080/",
          "height": 35
        }
      },
      "source": [
        "type(ted.ratings[0])"
      ],
      "execution_count": 0,
      "outputs": [
        {
          "output_type": "execute_result",
          "data": {
            "text/plain": [
              "str"
            ]
          },
          "metadata": {
            "tags": []
          },
          "execution_count": 60
        }
      ]
    },
    {
      "cell_type": "markdown",
      "metadata": {
        "id": "c-Jyz7Kp5ukc",
        "colab_type": "text"
      },
      "source": [
        "stringified list of dictionaries"
      ]
    },
    {
      "cell_type": "code",
      "metadata": {
        "id": "J5W5znIw5zOX",
        "colab_type": "code",
        "colab": {}
      },
      "source": [
        "import ast #abstract syntax tree"
      ],
      "execution_count": 0,
      "outputs": []
    },
    {
      "cell_type": "code",
      "metadata": {
        "id": "5XalcMIx57o7",
        "colab_type": "code",
        "outputId": "a96b6293-092a-4966-fede-469b138327b7",
        "colab": {
          "base_uri": "https://localhost:8080/",
          "height": 35
        }
      },
      "source": [
        "ast.literal_eval('[1,2,3]')"
      ],
      "execution_count": 0,
      "outputs": [
        {
          "output_type": "execute_result",
          "data": {
            "text/plain": [
              "[1, 2, 3]"
            ]
          },
          "metadata": {
            "tags": []
          },
          "execution_count": 63
        }
      ]
    },
    {
      "cell_type": "code",
      "metadata": {
        "id": "bcudlgkx6CtU",
        "colab_type": "code",
        "outputId": "3ce20e6f-3cf6-449f-9818-e06f1f700b63",
        "colab": {
          "base_uri": "https://localhost:8080/",
          "height": 35
        }
      },
      "source": [
        "type(ast.literal_eval('[1,2,3]'))"
      ],
      "execution_count": 0,
      "outputs": [
        {
          "output_type": "execute_result",
          "data": {
            "text/plain": [
              "list"
            ]
          },
          "metadata": {
            "tags": []
          },
          "execution_count": 64
        }
      ]
    },
    {
      "cell_type": "code",
      "metadata": {
        "id": "VuXapxrI6F_h",
        "colab_type": "code",
        "outputId": "391866f1-a263-49ed-8a64-9fefc3665949",
        "colab": {
          "base_uri": "https://localhost:8080/",
          "height": 265
        }
      },
      "source": [
        "ast.literal_eval(ted.ratings[0])"
      ],
      "execution_count": 0,
      "outputs": [
        {
          "output_type": "execute_result",
          "data": {
            "text/plain": [
              "[{'count': 19645, 'id': 7, 'name': 'Funny'},\n",
              " {'count': 4573, 'id': 1, 'name': 'Beautiful'},\n",
              " {'count': 6073, 'id': 9, 'name': 'Ingenious'},\n",
              " {'count': 3253, 'id': 3, 'name': 'Courageous'},\n",
              " {'count': 387, 'id': 11, 'name': 'Longwinded'},\n",
              " {'count': 242, 'id': 2, 'name': 'Confusing'},\n",
              " {'count': 7346, 'id': 8, 'name': 'Informative'},\n",
              " {'count': 10581, 'id': 22, 'name': 'Fascinating'},\n",
              " {'count': 300, 'id': 21, 'name': 'Unconvincing'},\n",
              " {'count': 10704, 'id': 24, 'name': 'Persuasive'},\n",
              " {'count': 4439, 'id': 23, 'name': 'Jaw-dropping'},\n",
              " {'count': 1174, 'id': 25, 'name': 'OK'},\n",
              " {'count': 209, 'id': 26, 'name': 'Obnoxious'},\n",
              " {'count': 24924, 'id': 10, 'name': 'Inspiring'}]"
            ]
          },
          "metadata": {
            "tags": []
          },
          "execution_count": 65
        }
      ]
    },
    {
      "cell_type": "code",
      "metadata": {
        "id": "jj3TjkeR6Owk",
        "colab_type": "code",
        "colab": {}
      },
      "source": [
        "def str_to_list(rating_str):\n",
        "  return ast.literal_eval(rating_str)"
      ],
      "execution_count": 0,
      "outputs": []
    },
    {
      "cell_type": "code",
      "metadata": {
        "id": "TcKLwQNk6gmT",
        "colab_type": "code",
        "outputId": "2aab1309-4677-4eba-e5a6-8da009184393",
        "colab": {
          "base_uri": "https://localhost:8080/",
          "height": 265
        }
      },
      "source": [
        "str_to_list(ted.ratings[0])"
      ],
      "execution_count": 0,
      "outputs": [
        {
          "output_type": "execute_result",
          "data": {
            "text/plain": [
              "[{'count': 19645, 'id': 7, 'name': 'Funny'},\n",
              " {'count': 4573, 'id': 1, 'name': 'Beautiful'},\n",
              " {'count': 6073, 'id': 9, 'name': 'Ingenious'},\n",
              " {'count': 3253, 'id': 3, 'name': 'Courageous'},\n",
              " {'count': 387, 'id': 11, 'name': 'Longwinded'},\n",
              " {'count': 242, 'id': 2, 'name': 'Confusing'},\n",
              " {'count': 7346, 'id': 8, 'name': 'Informative'},\n",
              " {'count': 10581, 'id': 22, 'name': 'Fascinating'},\n",
              " {'count': 300, 'id': 21, 'name': 'Unconvincing'},\n",
              " {'count': 10704, 'id': 24, 'name': 'Persuasive'},\n",
              " {'count': 4439, 'id': 23, 'name': 'Jaw-dropping'},\n",
              " {'count': 1174, 'id': 25, 'name': 'OK'},\n",
              " {'count': 209, 'id': 26, 'name': 'Obnoxious'},\n",
              " {'count': 24924, 'id': 10, 'name': 'Inspiring'}]"
            ]
          },
          "metadata": {
            "tags": []
          },
          "execution_count": 71
        }
      ]
    },
    {
      "cell_type": "code",
      "metadata": {
        "id": "agd097SG6j4n",
        "colab_type": "code",
        "outputId": "4cfff057-aefd-4ebd-bff0-ef6860c25636",
        "colab": {
          "base_uri": "https://localhost:8080/",
          "height": 123
        }
      },
      "source": [
        "ted.ratings.apply(str_to_list).head()"
      ],
      "execution_count": 0,
      "outputs": [
        {
          "output_type": "execute_result",
          "data": {
            "text/plain": [
              "0    [{'id': 7, 'name': 'Funny', 'count': 19645}, {...\n",
              "1    [{'id': 7, 'name': 'Funny', 'count': 544}, {'i...\n",
              "2    [{'id': 7, 'name': 'Funny', 'count': 964}, {'i...\n",
              "3    [{'id': 3, 'name': 'Courageous', 'count': 760}...\n",
              "4    [{'id': 9, 'name': 'Ingenious', 'count': 3202}...\n",
              "Name: ratings, dtype: object"
            ]
          },
          "metadata": {
            "tags": []
          },
          "execution_count": 72
        }
      ]
    },
    {
      "cell_type": "code",
      "metadata": {
        "id": "gGtUAUh86x7R",
        "colab_type": "code",
        "outputId": "cf254dc0-42b8-4d8a-b718-bb2750904774",
        "colab": {
          "base_uri": "https://localhost:8080/",
          "height": 229
        }
      },
      "source": [
        "ted.ratings.apply(lambda x:ast.literal_eval(x))"
      ],
      "execution_count": 0,
      "outputs": [
        {
          "output_type": "execute_result",
          "data": {
            "text/plain": [
              "0       [{'id': 7, 'name': 'Funny', 'count': 19645}, {...\n",
              "1       [{'id': 7, 'name': 'Funny', 'count': 544}, {'i...\n",
              "2       [{'id': 7, 'name': 'Funny', 'count': 964}, {'i...\n",
              "3       [{'id': 3, 'name': 'Courageous', 'count': 760}...\n",
              "4       [{'id': 9, 'name': 'Ingenious', 'count': 3202}...\n",
              "                              ...                        \n",
              "2545    [{'id': 3, 'name': 'Courageous', 'count': 24},...\n",
              "2546    [{'id': 22, 'name': 'Fascinating', 'count': 32...\n",
              "2547    [{'id': 1, 'name': 'Beautiful', 'count': 14}, ...\n",
              "2548    [{'id': 11, 'name': 'Longwinded', 'count': 3},...\n",
              "2549    [{'id': 21, 'name': 'Unconvincing', 'count': 2...\n",
              "Name: ratings, Length: 2550, dtype: object"
            ]
          },
          "metadata": {
            "tags": []
          },
          "execution_count": 73
        }
      ]
    },
    {
      "cell_type": "code",
      "metadata": {
        "id": "LgzuYIYp7N5t",
        "colab_type": "code",
        "colab": {}
      },
      "source": [
        "ted['ratings_list'] = ted.ratings.apply(lambda x:ast.literal_eval(x))"
      ],
      "execution_count": 0,
      "outputs": []
    },
    {
      "cell_type": "code",
      "metadata": {
        "id": "YYNokcPc7To0",
        "colab_type": "code",
        "outputId": "d57d4d55-7dc3-4cc8-e6f6-28f2d8c2712e",
        "colab": {
          "base_uri": "https://localhost:8080/",
          "height": 265
        }
      },
      "source": [
        "ted.ratings_list[0]"
      ],
      "execution_count": 0,
      "outputs": [
        {
          "output_type": "execute_result",
          "data": {
            "text/plain": [
              "[{'count': 19645, 'id': 7, 'name': 'Funny'},\n",
              " {'count': 4573, 'id': 1, 'name': 'Beautiful'},\n",
              " {'count': 6073, 'id': 9, 'name': 'Ingenious'},\n",
              " {'count': 3253, 'id': 3, 'name': 'Courageous'},\n",
              " {'count': 387, 'id': 11, 'name': 'Longwinded'},\n",
              " {'count': 242, 'id': 2, 'name': 'Confusing'},\n",
              " {'count': 7346, 'id': 8, 'name': 'Informative'},\n",
              " {'count': 10581, 'id': 22, 'name': 'Fascinating'},\n",
              " {'count': 300, 'id': 21, 'name': 'Unconvincing'},\n",
              " {'count': 10704, 'id': 24, 'name': 'Persuasive'},\n",
              " {'count': 4439, 'id': 23, 'name': 'Jaw-dropping'},\n",
              " {'count': 1174, 'id': 25, 'name': 'OK'},\n",
              " {'count': 209, 'id': 26, 'name': 'Obnoxious'},\n",
              " {'count': 24924, 'id': 10, 'name': 'Inspiring'}]"
            ]
          },
          "metadata": {
            "tags": []
          },
          "execution_count": 75
        }
      ]
    },
    {
      "cell_type": "code",
      "metadata": {
        "id": "i6ZarAeg7Yzc",
        "colab_type": "code",
        "outputId": "5f175cc3-f0b1-4b4b-a1ab-8cccaeff922d",
        "colab": {
          "base_uri": "https://localhost:8080/",
          "height": 406
        }
      },
      "source": [
        "ted.dtypes"
      ],
      "execution_count": 0,
      "outputs": [
        {
          "output_type": "execute_result",
          "data": {
            "text/plain": [
              "comments                       int64\n",
              "description                   object\n",
              "duration                       int64\n",
              "event                         object\n",
              "film_date                      int64\n",
              "languages                      int64\n",
              "main_speaker                  object\n",
              "name                          object\n",
              "num_speaker                    int64\n",
              "published_date                 int64\n",
              "ratings                       object\n",
              "related_talks                 object\n",
              "speaker_occupation            object\n",
              "tags                          object\n",
              "title                         object\n",
              "url                           object\n",
              "views                          int64\n",
              "comments_per_view            float64\n",
              "views_per_comment            float64\n",
              "film_datetime         datetime64[ns]\n",
              "ratings_list                  object\n",
              "dtype: object"
            ]
          },
          "metadata": {
            "tags": []
          },
          "execution_count": 76
        }
      ]
    },
    {
      "cell_type": "markdown",
      "metadata": {
        "id": "idjiiuc57jFH",
        "colab_type": "text"
      },
      "source": [
        "# 7. Count the total number of ratings received by each talk"
      ]
    },
    {
      "cell_type": "markdown",
      "metadata": {
        "id": "vkvBVgyG8RlR",
        "colab_type": "text"
      },
      "source": [
        "And put it in a new column called 'num_ratings'"
      ]
    },
    {
      "cell_type": "code",
      "metadata": {
        "id": "WQ14ZMlx8Xl_",
        "colab_type": "code",
        "outputId": "02e05f3b-97ee-49fe-8bf7-c0ee8e4682f2",
        "colab": {
          "base_uri": "https://localhost:8080/",
          "height": 265
        }
      },
      "source": [
        "ted.ratings_list[0]"
      ],
      "execution_count": 0,
      "outputs": [
        {
          "output_type": "execute_result",
          "data": {
            "text/plain": [
              "[{'count': 19645, 'id': 7, 'name': 'Funny'},\n",
              " {'count': 4573, 'id': 1, 'name': 'Beautiful'},\n",
              " {'count': 6073, 'id': 9, 'name': 'Ingenious'},\n",
              " {'count': 3253, 'id': 3, 'name': 'Courageous'},\n",
              " {'count': 387, 'id': 11, 'name': 'Longwinded'},\n",
              " {'count': 242, 'id': 2, 'name': 'Confusing'},\n",
              " {'count': 7346, 'id': 8, 'name': 'Informative'},\n",
              " {'count': 10581, 'id': 22, 'name': 'Fascinating'},\n",
              " {'count': 300, 'id': 21, 'name': 'Unconvincing'},\n",
              " {'count': 10704, 'id': 24, 'name': 'Persuasive'},\n",
              " {'count': 4439, 'id': 23, 'name': 'Jaw-dropping'},\n",
              " {'count': 1174, 'id': 25, 'name': 'OK'},\n",
              " {'count': 209, 'id': 26, 'name': 'Obnoxious'},\n",
              " {'count': 24924, 'id': 10, 'name': 'Inspiring'}]"
            ]
          },
          "metadata": {
            "tags": []
          },
          "execution_count": 77
        }
      ]
    },
    {
      "cell_type": "code",
      "metadata": {
        "id": "tBEKgQ8V8bdM",
        "colab_type": "code",
        "colab": {}
      },
      "source": [
        "def get_num_ratings(list_of_dicts):\n",
        "  num =  0\n",
        "  for d in list_of_dicts:\n",
        "    num = num + d['count']\n",
        "  return num"
      ],
      "execution_count": 0,
      "outputs": []
    },
    {
      "cell_type": "code",
      "metadata": {
        "id": "94NI18OT8uCL",
        "colab_type": "code",
        "outputId": "2b1d3efe-9b77-4d2e-b129-f9e3eae199b5",
        "colab": {
          "base_uri": "https://localhost:8080/",
          "height": 35
        }
      },
      "source": [
        "get_num_ratings(ted.ratings_list[0])"
      ],
      "execution_count": 0,
      "outputs": [
        {
          "output_type": "execute_result",
          "data": {
            "text/plain": [
              "93850"
            ]
          },
          "metadata": {
            "tags": []
          },
          "execution_count": 83
        }
      ]
    },
    {
      "cell_type": "code",
      "metadata": {
        "id": "sSiFO1OI8w98",
        "colab_type": "code",
        "outputId": "f6758d34-446d-4b6f-f9b3-2aa2f0286de0",
        "colab": {
          "base_uri": "https://localhost:8080/",
          "height": 229
        }
      },
      "source": [
        "ted.ratings_list.apply(get_num_ratings)"
      ],
      "execution_count": 0,
      "outputs": [
        {
          "output_type": "execute_result",
          "data": {
            "text/plain": [
              "0       93850\n",
              "1        2936\n",
              "2        2824\n",
              "3        3728\n",
              "4       25620\n",
              "        ...  \n",
              "2545      192\n",
              "2546      151\n",
              "2547      136\n",
              "2548      583\n",
              "2549      142\n",
              "Name: ratings_list, Length: 2550, dtype: int64"
            ]
          },
          "metadata": {
            "tags": []
          },
          "execution_count": 84
        }
      ]
    },
    {
      "cell_type": "code",
      "metadata": {
        "id": "nJF_c7Bi9UnV",
        "colab_type": "code",
        "colab": {}
      },
      "source": [
        "ted['num_ratings'] = ted.ratings_list.apply(get_num_ratings)"
      ],
      "execution_count": 0,
      "outputs": []
    },
    {
      "cell_type": "code",
      "metadata": {
        "id": "MTNb_FYi9edN",
        "colab_type": "code",
        "outputId": "7faff075-8ff4-47bd-fdf9-ed9dfd764b89",
        "colab": {
          "base_uri": "https://localhost:8080/",
          "height": 176
        }
      },
      "source": [
        "ted.num_ratings.describe()"
      ],
      "execution_count": 0,
      "outputs": [
        {
          "output_type": "execute_result",
          "data": {
            "text/plain": [
              "count     2550.000000\n",
              "mean      2436.408235\n",
              "std       4226.795631\n",
              "min         68.000000\n",
              "25%        870.750000\n",
              "50%       1452.500000\n",
              "75%       2506.750000\n",
              "max      93850.000000\n",
              "Name: num_ratings, dtype: float64"
            ]
          },
          "metadata": {
            "tags": []
          },
          "execution_count": 86
        }
      ]
    },
    {
      "cell_type": "markdown",
      "metadata": {
        "id": "CUFtcrYu9hIn",
        "colab_type": "text"
      },
      "source": [
        "# 8. Which occupations delivered the funniest ted talks on average?"
      ]
    },
    {
      "cell_type": "markdown",
      "metadata": {
        "id": "wqwmGppy-Vyl",
        "colab_type": "text"
      },
      "source": [
        "## Step 1: Count the number of funny ratings"
      ]
    },
    {
      "cell_type": "code",
      "metadata": {
        "id": "gAcgD_5j-qbf",
        "colab_type": "code",
        "outputId": "1aa435df-6722-430d-cd9f-93f6a2d8c92e",
        "colab": {
          "base_uri": "https://localhost:8080/",
          "height": 123
        }
      },
      "source": [
        "ted.ratings_list.head()"
      ],
      "execution_count": 0,
      "outputs": [
        {
          "output_type": "execute_result",
          "data": {
            "text/plain": [
              "0    [{'id': 7, 'name': 'Funny', 'count': 19645}, {...\n",
              "1    [{'id': 7, 'name': 'Funny', 'count': 544}, {'i...\n",
              "2    [{'id': 7, 'name': 'Funny', 'count': 964}, {'i...\n",
              "3    [{'id': 3, 'name': 'Courageous', 'count': 760}...\n",
              "4    [{'id': 9, 'name': 'Ingenious', 'count': 3202}...\n",
              "Name: ratings_list, dtype: object"
            ]
          },
          "metadata": {
            "tags": []
          },
          "execution_count": 87
        }
      ]
    },
    {
      "cell_type": "code",
      "metadata": {
        "id": "D4w5UpbX-siZ",
        "colab_type": "code",
        "outputId": "1b4ee6f8-baed-490b-af47-e12819d5f4a1",
        "colab": {
          "base_uri": "https://localhost:8080/",
          "height": 229
        }
      },
      "source": [
        "ted.ratings.str.contains('Funny')"
      ],
      "execution_count": 0,
      "outputs": [
        {
          "output_type": "execute_result",
          "data": {
            "text/plain": [
              "0       True\n",
              "1       True\n",
              "2       True\n",
              "3       True\n",
              "4       True\n",
              "        ... \n",
              "2545    True\n",
              "2546    True\n",
              "2547    True\n",
              "2548    True\n",
              "2549    True\n",
              "Name: ratings, Length: 2550, dtype: bool"
            ]
          },
          "metadata": {
            "tags": []
          },
          "execution_count": 88
        }
      ]
    },
    {
      "cell_type": "code",
      "metadata": {
        "id": "4ngMfR1S-2uU",
        "colab_type": "code",
        "outputId": "cca10b0f-2133-429d-f2ed-9cf8293637a8",
        "colab": {
          "base_uri": "https://localhost:8080/",
          "height": 52
        }
      },
      "source": [
        "ted.ratings.str.contains('Funny').value_counts()"
      ],
      "execution_count": 0,
      "outputs": [
        {
          "output_type": "execute_result",
          "data": {
            "text/plain": [
              "True    2550\n",
              "Name: ratings, dtype: int64"
            ]
          },
          "metadata": {
            "tags": []
          },
          "execution_count": 89
        }
      ]
    },
    {
      "cell_type": "code",
      "metadata": {
        "id": "E9PwUIvZ-57N",
        "colab_type": "code",
        "colab": {}
      },
      "source": [
        "def get_funny_ratings(list_of_dicts):\n",
        "  for d in list_of_dicts:\n",
        "    if d['name']=='Funny':\n",
        "      return d['count']"
      ],
      "execution_count": 0,
      "outputs": []
    },
    {
      "cell_type": "code",
      "metadata": {
        "id": "cRvzjRW6_Ltv",
        "colab_type": "code",
        "colab": {}
      },
      "source": [
        "ted['funny_ratings']=ted.ratings_list.apply(get_funny_ratings)"
      ],
      "execution_count": 0,
      "outputs": []
    },
    {
      "cell_type": "code",
      "metadata": {
        "id": "Bwc8hww5_RdC",
        "colab_type": "code",
        "outputId": "fef41267-26d7-4078-cdce-6a71ba7700cd",
        "colab": {
          "base_uri": "https://localhost:8080/",
          "height": 123
        }
      },
      "source": [
        "ted.funny_ratings.head()"
      ],
      "execution_count": 0,
      "outputs": [
        {
          "output_type": "execute_result",
          "data": {
            "text/plain": [
              "0    19645\n",
              "1      544\n",
              "2      964\n",
              "3       59\n",
              "4     1390\n",
              "Name: funny_ratings, dtype: int64"
            ]
          },
          "metadata": {
            "tags": []
          },
          "execution_count": 95
        }
      ]
    },
    {
      "cell_type": "code",
      "metadata": {
        "id": "IAW_NInZ_Y67",
        "colab_type": "code",
        "colab": {}
      },
      "source": [
        "ted['funny_rate']=ted.funny_ratings/ted.num_ratings"
      ],
      "execution_count": 0,
      "outputs": []
    },
    {
      "cell_type": "code",
      "metadata": {
        "id": "Mn55bwO5_kd4",
        "colab_type": "code",
        "outputId": "323e94ba-9cb5-4faa-98b1-fbd66008f052",
        "colab": {
          "base_uri": "https://localhost:8080/",
          "height": 388
        }
      },
      "source": [
        "ted.sort_values('funny_rate').speaker_occupation.head(20)"
      ],
      "execution_count": 0,
      "outputs": [
        {
          "output_type": "execute_result",
          "data": {
            "text/plain": [
              "2549               Game designer\n",
              "1612                   Biologist\n",
              "612                     Sculptor\n",
              "998               Penguin expert\n",
              "593                     Engineer\n",
              "284               Space activist\n",
              "1041         Biomedical engineer\n",
              "1618      Spinal cord researcher\n",
              "2132    Computational geneticist\n",
              "442                     Sculptor\n",
              "426              Author, thinker\n",
              "458                     Educator\n",
              "2437      Environmental engineer\n",
              "1491             Photojournalist\n",
              "1893     Forensic anthropologist\n",
              "783             Marine biologist\n",
              "195                    Kenyan MP\n",
              "772             HIV/AIDS fighter\n",
              "788            Building activist\n",
              "936                Neuroengineer\n",
              "Name: speaker_occupation, dtype: object"
            ]
          },
          "metadata": {
            "tags": []
          },
          "execution_count": 99
        }
      ]
    },
    {
      "cell_type": "markdown",
      "metadata": {
        "id": "WnWgsqUZ_yg0",
        "colab_type": "text"
      },
      "source": [
        "## Step 3: Analyze the funny rate by occupation"
      ]
    },
    {
      "cell_type": "code",
      "metadata": {
        "id": "DviBOrToAL9Y",
        "colab_type": "code",
        "outputId": "1e2d69dd-f525-4356-b230-da0653555d5e",
        "colab": {
          "base_uri": "https://localhost:8080/",
          "height": 141
        }
      },
      "source": [
        "ted.groupby('speaker_occupation').funny_rate.mean().sort_values().tail()"
      ],
      "execution_count": 0,
      "outputs": [
        {
          "output_type": "execute_result",
          "data": {
            "text/plain": [
              "speaker_occupation\n",
              "Comedian                       0.512457\n",
              "Actor, writer                  0.515152\n",
              "Actor, comedian, playwright    0.558107\n",
              "Jugglers                       0.566828\n",
              "Comedian and writer            0.602085\n",
              "Name: funny_rate, dtype: float64"
            ]
          },
          "metadata": {
            "tags": []
          },
          "execution_count": 101
        }
      ]
    },
    {
      "cell_type": "code",
      "metadata": {
        "id": "M_NfCunYAYKu",
        "colab_type": "code",
        "outputId": "4f127b53-d83f-4905-fdcd-20580fda84bc",
        "colab": {
          "base_uri": "https://localhost:8080/",
          "height": 105
        }
      },
      "source": [
        "ted.speaker_occupation.describe()"
      ],
      "execution_count": 0,
      "outputs": [
        {
          "output_type": "execute_result",
          "data": {
            "text/plain": [
              "count       2544\n",
              "unique      1458\n",
              "top       Writer\n",
              "freq          45\n",
              "Name: speaker_occupation, dtype: object"
            ]
          },
          "metadata": {
            "tags": []
          },
          "execution_count": 103
        }
      ]
    },
    {
      "cell_type": "markdown",
      "metadata": {
        "id": "ioAKzFjrAiJf",
        "colab_type": "text"
      },
      "source": [
        "## Step 4: Focus on occupations that are well-represented in the data"
      ]
    },
    {
      "cell_type": "code",
      "metadata": {
        "id": "-J7FdZ6SAt4-",
        "colab_type": "code",
        "colab": {}
      },
      "source": [
        "occupation_counts = ted.speaker_occupation.value_counts()"
      ],
      "execution_count": 0,
      "outputs": []
    },
    {
      "cell_type": "code",
      "metadata": {
        "id": "rm3sSBjXAzKf",
        "colab_type": "code",
        "outputId": "bd824148-af14-406b-f7d7-346ba904823e",
        "colab": {
          "base_uri": "https://localhost:8080/",
          "height": 229
        }
      },
      "source": [
        "occupation_counts [occupation_counts>=5]"
      ],
      "execution_count": 0,
      "outputs": [
        {
          "output_type": "execute_result",
          "data": {
            "text/plain": [
              "Writer                                        45\n",
              "Artist                                        34\n",
              "Designer                                      34\n",
              "Journalist                                    33\n",
              "Entrepreneur                                  31\n",
              "                                              ..\n",
              "Environmentalist, futurist                     5\n",
              "Paleontologist                                 5\n",
              "Chemist                                        5\n",
              "Physician                                      5\n",
              "Investor and advocate for moral leadership     5\n",
              "Name: speaker_occupation, Length: 68, dtype: int64"
            ]
          },
          "metadata": {
            "tags": []
          },
          "execution_count": 107
        }
      ]
    },
    {
      "cell_type": "code",
      "metadata": {
        "id": "ydaY3t8ABHDt",
        "colab_type": "code",
        "outputId": "5aaf88b6-bf62-4dfa-9894-3b30bec98b04",
        "colab": {
          "base_uri": "https://localhost:8080/",
          "height": 355
        }
      },
      "source": [
        "occupation_counts [occupation_counts>=5].index"
      ],
      "execution_count": 0,
      "outputs": [
        {
          "output_type": "execute_result",
          "data": {
            "text/plain": [
              "Index(['Writer', 'Artist', 'Designer', 'Journalist', 'Entrepreneur',\n",
              "       'Architect', 'Inventor', 'Psychologist', 'Photographer', 'Filmmaker',\n",
              "       'Author', 'Educator', 'Neuroscientist', 'Economist', 'Roboticist',\n",
              "       'Philosopher', 'Biologist', 'Physicist', 'Marine biologist', 'Musician',\n",
              "       'Activist', 'Global health expert; data visionary', 'Technologist',\n",
              "       'Oceanographer', 'Poet', 'Behavioral economist', 'Singer/songwriter',\n",
              "       'Historian', 'Graphic designer', 'Philanthropist', 'Astronomer',\n",
              "       'Novelist', 'Futurist', 'Computer scientist', 'Social psychologist',\n",
              "       'Engineer', 'Astrophysicist', 'Mathematician', 'Evolutionary biologist',\n",
              "       'Reporter', 'Legal activist', 'Photojournalist', 'Singer-songwriter',\n",
              "       'Comedian', 'Writer, activist', 'Performance poet, multimedia artist',\n",
              "       'Social entrepreneur', 'Techno-illusionist', 'Climate advocate',\n",
              "       'Researcher', 'Data scientist', 'Science writer', 'Tech visionary',\n",
              "       'Sculptor', 'Sound consultant', 'Game designer', 'Musician, activist',\n",
              "       'Chef', 'Surgeon', 'Social Media Theorist', 'Cartoonist', 'Producer',\n",
              "       'Violinist', 'Environmentalist, futurist', 'Paleontologist', 'Chemist',\n",
              "       'Physician', 'Investor and advocate for moral leadership'],\n",
              "      dtype='object')"
            ]
          },
          "metadata": {
            "tags": []
          },
          "execution_count": 109
        }
      ]
    },
    {
      "cell_type": "code",
      "metadata": {
        "id": "iM-QOOSNBL-1",
        "colab_type": "code",
        "colab": {}
      },
      "source": [
        "top_occupations = occupation_counts [occupation_counts>=5].index"
      ],
      "execution_count": 0,
      "outputs": []
    },
    {
      "cell_type": "code",
      "metadata": {
        "id": "atXr4FTHBQkD",
        "colab_type": "code",
        "outputId": "6f3df5c5-f027-4700-c772-4832b3f0b0f4",
        "colab": {
          "base_uri": "https://localhost:8080/",
          "height": 35
        }
      },
      "source": [
        "type(top_occupations)"
      ],
      "execution_count": 0,
      "outputs": [
        {
          "output_type": "execute_result",
          "data": {
            "text/plain": [
              "pandas.core.indexes.base.Index"
            ]
          },
          "metadata": {
            "tags": []
          },
          "execution_count": 111
        }
      ]
    },
    {
      "cell_type": "code",
      "metadata": {
        "id": "Z_sBe5QaBR88",
        "colab_type": "code",
        "outputId": "a5cd4eb9-2862-4256-9052-999f6c05572e",
        "colab": {
          "base_uri": "https://localhost:8080/",
          "height": 1000
        }
      },
      "source": [
        "ted[ted.speaker_occupation.isin(top_occupations)]"
      ],
      "execution_count": 0,
      "outputs": [
        {
          "output_type": "execute_result",
          "data": {
            "text/html": [
              "<div>\n",
              "<style scoped>\n",
              "    .dataframe tbody tr th:only-of-type {\n",
              "        vertical-align: middle;\n",
              "    }\n",
              "\n",
              "    .dataframe tbody tr th {\n",
              "        vertical-align: top;\n",
              "    }\n",
              "\n",
              "    .dataframe thead th {\n",
              "        text-align: right;\n",
              "    }\n",
              "</style>\n",
              "<table border=\"1\" class=\"dataframe\">\n",
              "  <thead>\n",
              "    <tr style=\"text-align: right;\">\n",
              "      <th></th>\n",
              "      <th>comments</th>\n",
              "      <th>description</th>\n",
              "      <th>duration</th>\n",
              "      <th>event</th>\n",
              "      <th>film_date</th>\n",
              "      <th>languages</th>\n",
              "      <th>main_speaker</th>\n",
              "      <th>name</th>\n",
              "      <th>num_speaker</th>\n",
              "      <th>published_date</th>\n",
              "      <th>ratings</th>\n",
              "      <th>related_talks</th>\n",
              "      <th>speaker_occupation</th>\n",
              "      <th>tags</th>\n",
              "      <th>title</th>\n",
              "      <th>url</th>\n",
              "      <th>views</th>\n",
              "      <th>comments_per_view</th>\n",
              "      <th>views_per_comment</th>\n",
              "      <th>film_datetime</th>\n",
              "      <th>ratings_list</th>\n",
              "      <th>num_ratings</th>\n",
              "      <th>funny_ratings</th>\n",
              "      <th>funny_rate</th>\n",
              "    </tr>\n",
              "  </thead>\n",
              "  <tbody>\n",
              "    <tr>\n",
              "      <th>1</th>\n",
              "      <td>265</td>\n",
              "      <td>With the same humor and humanity he exuded in ...</td>\n",
              "      <td>977</td>\n",
              "      <td>TED2006</td>\n",
              "      <td>1140825600</td>\n",
              "      <td>43</td>\n",
              "      <td>Al Gore</td>\n",
              "      <td>Al Gore: Averting the climate crisis</td>\n",
              "      <td>1</td>\n",
              "      <td>1151367060</td>\n",
              "      <td>[{'id': 7, 'name': 'Funny', 'count': 544}, {'i...</td>\n",
              "      <td>[{'id': 243, 'hero': 'https://pe.tedcdn.com/im...</td>\n",
              "      <td>Climate advocate</td>\n",
              "      <td>['alternative energy', 'cars', 'climate change...</td>\n",
              "      <td>Averting the climate crisis</td>\n",
              "      <td>https://www.ted.com/talks/al_gore_on_averting_...</td>\n",
              "      <td>3200520</td>\n",
              "      <td>0.000083</td>\n",
              "      <td>12077.433962</td>\n",
              "      <td>2006-02-25</td>\n",
              "      <td>[{'id': 7, 'name': 'Funny', 'count': 544}, {'i...</td>\n",
              "      <td>2936</td>\n",
              "      <td>544</td>\n",
              "      <td>0.185286</td>\n",
              "    </tr>\n",
              "    <tr>\n",
              "      <th>4</th>\n",
              "      <td>593</td>\n",
              "      <td>You've never seen data presented like this. Wi...</td>\n",
              "      <td>1190</td>\n",
              "      <td>TED2006</td>\n",
              "      <td>1140566400</td>\n",
              "      <td>48</td>\n",
              "      <td>Hans Rosling</td>\n",
              "      <td>Hans Rosling: The best stats you've ever seen</td>\n",
              "      <td>1</td>\n",
              "      <td>1151440680</td>\n",
              "      <td>[{'id': 9, 'name': 'Ingenious', 'count': 3202}...</td>\n",
              "      <td>[{'id': 2056, 'hero': 'https://pe.tedcdn.com/i...</td>\n",
              "      <td>Global health expert; data visionary</td>\n",
              "      <td>['Africa', 'Asia', 'Google', 'demo', 'economic...</td>\n",
              "      <td>The best stats you've ever seen</td>\n",
              "      <td>https://www.ted.com/talks/hans_rosling_shows_t...</td>\n",
              "      <td>12005869</td>\n",
              "      <td>0.000049</td>\n",
              "      <td>20245.984823</td>\n",
              "      <td>2006-02-22</td>\n",
              "      <td>[{'id': 9, 'name': 'Ingenious', 'count': 3202}...</td>\n",
              "      <td>25620</td>\n",
              "      <td>1390</td>\n",
              "      <td>0.054254</td>\n",
              "    </tr>\n",
              "    <tr>\n",
              "      <th>7</th>\n",
              "      <td>46</td>\n",
              "      <td>Architect Joshua Prince-Ramus takes the audien...</td>\n",
              "      <td>1198</td>\n",
              "      <td>TED2006</td>\n",
              "      <td>1140652800</td>\n",
              "      <td>19</td>\n",
              "      <td>Joshua Prince-Ramus</td>\n",
              "      <td>Joshua Prince-Ramus: Behind the design of Seat...</td>\n",
              "      <td>1</td>\n",
              "      <td>1152490260</td>\n",
              "      <td>[{'id': 9, 'name': 'Ingenious', 'count': 195},...</td>\n",
              "      <td>[{'id': 750, 'hero': 'https://pe.tedcdn.com/im...</td>\n",
              "      <td>Architect</td>\n",
              "      <td>['architecture', 'collaboration', 'culture', '...</td>\n",
              "      <td>Behind the design of Seattle's library</td>\n",
              "      <td>https://www.ted.com/talks/joshua_prince_ramus_...</td>\n",
              "      <td>967741</td>\n",
              "      <td>0.000048</td>\n",
              "      <td>21037.847826</td>\n",
              "      <td>2006-02-23</td>\n",
              "      <td>[{'id': 9, 'name': 'Ingenious', 'count': 195},...</td>\n",
              "      <td>1024</td>\n",
              "      <td>9</td>\n",
              "      <td>0.008789</td>\n",
              "    </tr>\n",
              "    <tr>\n",
              "      <th>11</th>\n",
              "      <td>55</td>\n",
              "      <td>Jehane Noujaim unveils her 2006 TED Prize wish...</td>\n",
              "      <td>1538</td>\n",
              "      <td>TED2006</td>\n",
              "      <td>1140912000</td>\n",
              "      <td>20</td>\n",
              "      <td>Jehane Noujaim</td>\n",
              "      <td>Jehane Noujaim: My wish: A global day of film</td>\n",
              "      <td>1</td>\n",
              "      <td>1153786260</td>\n",
              "      <td>[{'id': 1, 'name': 'Beautiful', 'count': 70}, ...</td>\n",
              "      <td>[{'id': 2228, 'hero': 'https://pe.tedcdn.com/i...</td>\n",
              "      <td>Filmmaker</td>\n",
              "      <td>['TED Prize', 'art', 'culture', 'entertainment...</td>\n",
              "      <td>My wish: A global day of film</td>\n",
              "      <td>https://www.ted.com/talks/jehane_noujaim_inspi...</td>\n",
              "      <td>387877</td>\n",
              "      <td>0.000142</td>\n",
              "      <td>7052.309091</td>\n",
              "      <td>2006-02-26</td>\n",
              "      <td>[{'id': 1, 'name': 'Beautiful', 'count': 70}, ...</td>\n",
              "      <td>592</td>\n",
              "      <td>5</td>\n",
              "      <td>0.008446</td>\n",
              "    </tr>\n",
              "    <tr>\n",
              "      <th>14</th>\n",
              "      <td>99</td>\n",
              "      <td>Nicholas Negroponte, founder of the MIT Media ...</td>\n",
              "      <td>1057</td>\n",
              "      <td>TED2006</td>\n",
              "      <td>1140652800</td>\n",
              "      <td>25</td>\n",
              "      <td>Nicholas Negroponte</td>\n",
              "      <td>Nicholas Negroponte: One Laptop per Child</td>\n",
              "      <td>1</td>\n",
              "      <td>1154391060</td>\n",
              "      <td>[{'id': 3, 'name': 'Courageous', 'count': 83},...</td>\n",
              "      <td>[{'id': 2043, 'hero': 'https://pe.tedcdn.com/i...</td>\n",
              "      <td>Tech visionary</td>\n",
              "      <td>['children', 'design', 'education', 'entrepren...</td>\n",
              "      <td>One Laptop per Child</td>\n",
              "      <td>https://www.ted.com/talks/nicholas_negroponte_...</td>\n",
              "      <td>358304</td>\n",
              "      <td>0.000276</td>\n",
              "      <td>3619.232323</td>\n",
              "      <td>2006-02-23</td>\n",
              "      <td>[{'id': 3, 'name': 'Courageous', 'count': 83},...</td>\n",
              "      <td>781</td>\n",
              "      <td>14</td>\n",
              "      <td>0.017926</td>\n",
              "    </tr>\n",
              "    <tr>\n",
              "      <th>...</th>\n",
              "      <td>...</td>\n",
              "      <td>...</td>\n",
              "      <td>...</td>\n",
              "      <td>...</td>\n",
              "      <td>...</td>\n",
              "      <td>...</td>\n",
              "      <td>...</td>\n",
              "      <td>...</td>\n",
              "      <td>...</td>\n",
              "      <td>...</td>\n",
              "      <td>...</td>\n",
              "      <td>...</td>\n",
              "      <td>...</td>\n",
              "      <td>...</td>\n",
              "      <td>...</td>\n",
              "      <td>...</td>\n",
              "      <td>...</td>\n",
              "      <td>...</td>\n",
              "      <td>...</td>\n",
              "      <td>...</td>\n",
              "      <td>...</td>\n",
              "      <td>...</td>\n",
              "      <td>...</td>\n",
              "      <td>...</td>\n",
              "    </tr>\n",
              "    <tr>\n",
              "      <th>2539</th>\n",
              "      <td>10</td>\n",
              "      <td>Forget quinoa. Meet fonio, an ancient \"miracle...</td>\n",
              "      <td>934</td>\n",
              "      <td>TED2017</td>\n",
              "      <td>1503792000</td>\n",
              "      <td>2</td>\n",
              "      <td>Pierre Thiam</td>\n",
              "      <td>Pierre Thiam: A forgotten ancient grain that c...</td>\n",
              "      <td>1</td>\n",
              "      <td>1505313942</td>\n",
              "      <td>[{'id': 10, 'name': 'Inspiring', 'count': 73},...</td>\n",
              "      <td>[{'id': 2873, 'hero': 'https://pe.tedcdn.com/i...</td>\n",
              "      <td>Chef</td>\n",
              "      <td>['Africa', 'agriculture', 'farming', 'food', '...</td>\n",
              "      <td>A forgotten ancient grain that could help Afri...</td>\n",
              "      <td>https://www.ted.com/talks/pierre_thiam_a_forgo...</td>\n",
              "      <td>527314</td>\n",
              "      <td>0.000019</td>\n",
              "      <td>52731.400000</td>\n",
              "      <td>2017-08-27</td>\n",
              "      <td>[{'id': 10, 'name': 'Inspiring', 'count': 73},...</td>\n",
              "      <td>256</td>\n",
              "      <td>2</td>\n",
              "      <td>0.007812</td>\n",
              "    </tr>\n",
              "    <tr>\n",
              "      <th>2541</th>\n",
              "      <td>12</td>\n",
              "      <td>Physics doesn't just happen in a fancy lab -- ...</td>\n",
              "      <td>957</td>\n",
              "      <td>TEDxManchester</td>\n",
              "      <td>1487462400</td>\n",
              "      <td>2</td>\n",
              "      <td>Helen Czerski</td>\n",
              "      <td>Helen Czerski: The fascinating physics of ever...</td>\n",
              "      <td>1</td>\n",
              "      <td>1505419202</td>\n",
              "      <td>[{'id': 11, 'name': 'Longwinded', 'count': 29}...</td>\n",
              "      <td>[{'id': 2491, 'hero': 'https://pe.tedcdn.com/i...</td>\n",
              "      <td>Physicist</td>\n",
              "      <td>['TEDx', 'physics', 'play', 'science']</td>\n",
              "      <td>The fascinating physics of everyday life</td>\n",
              "      <td>https://www.ted.com/talks/helen_czerski_fun_ho...</td>\n",
              "      <td>656791</td>\n",
              "      <td>0.000018</td>\n",
              "      <td>54732.583333</td>\n",
              "      <td>2017-02-19</td>\n",
              "      <td>[{'id': 11, 'name': 'Longwinded', 'count': 29}...</td>\n",
              "      <td>378</td>\n",
              "      <td>39</td>\n",
              "      <td>0.103175</td>\n",
              "    </tr>\n",
              "    <tr>\n",
              "      <th>2542</th>\n",
              "      <td>3</td>\n",
              "      <td>In the century-old statues that occupy Cape To...</td>\n",
              "      <td>795</td>\n",
              "      <td>TEDGlobal 2017</td>\n",
              "      <td>1503792000</td>\n",
              "      <td>1</td>\n",
              "      <td>Sethembile Msezane</td>\n",
              "      <td>Sethembile Msezane: Living sculptures that sta...</td>\n",
              "      <td>1</td>\n",
              "      <td>1505488093</td>\n",
              "      <td>[{'id': 1, 'name': 'Beautiful', 'count': 41}, ...</td>\n",
              "      <td>[{'id': 2873, 'hero': 'https://pe.tedcdn.com/i...</td>\n",
              "      <td>Artist</td>\n",
              "      <td>['Africa', 'activism', 'art', 'community', 'hi...</td>\n",
              "      <td>Living sculptures that stand for history's truths</td>\n",
              "      <td>https://www.ted.com/talks/sethembile_msezane_l...</td>\n",
              "      <td>542088</td>\n",
              "      <td>0.000006</td>\n",
              "      <td>180696.000000</td>\n",
              "      <td>2017-08-27</td>\n",
              "      <td>[{'id': 1, 'name': 'Beautiful', 'count': 41}, ...</td>\n",
              "      <td>181</td>\n",
              "      <td>6</td>\n",
              "      <td>0.033149</td>\n",
              "    </tr>\n",
              "    <tr>\n",
              "      <th>2545</th>\n",
              "      <td>17</td>\n",
              "      <td>Between 2008 and 2016, the United States depor...</td>\n",
              "      <td>476</td>\n",
              "      <td>TED2017</td>\n",
              "      <td>1496707200</td>\n",
              "      <td>4</td>\n",
              "      <td>Duarte Geraldino</td>\n",
              "      <td>Duarte Geraldino: What we're missing in the de...</td>\n",
              "      <td>1</td>\n",
              "      <td>1505851216</td>\n",
              "      <td>[{'id': 3, 'name': 'Courageous', 'count': 24},...</td>\n",
              "      <td>[{'id': 2596, 'hero': 'https://pe.tedcdn.com/i...</td>\n",
              "      <td>Journalist</td>\n",
              "      <td>['TED Residency', 'United States', 'community'...</td>\n",
              "      <td>What we're missing in the debate about immigra...</td>\n",
              "      <td>https://www.ted.com/talks/duarte_geraldino_wha...</td>\n",
              "      <td>450430</td>\n",
              "      <td>0.000038</td>\n",
              "      <td>26495.882353</td>\n",
              "      <td>2017-06-06</td>\n",
              "      <td>[{'id': 3, 'name': 'Courageous', 'count': 24},...</td>\n",
              "      <td>192</td>\n",
              "      <td>1</td>\n",
              "      <td>0.005208</td>\n",
              "    </tr>\n",
              "    <tr>\n",
              "      <th>2549</th>\n",
              "      <td>8</td>\n",
              "      <td>With more than half of the world population li...</td>\n",
              "      <td>519</td>\n",
              "      <td>TED2017</td>\n",
              "      <td>1492992000</td>\n",
              "      <td>1</td>\n",
              "      <td>Karoliina Korppoo</td>\n",
              "      <td>Karoliina Korppoo: How a video game might help...</td>\n",
              "      <td>1</td>\n",
              "      <td>1506092422</td>\n",
              "      <td>[{'id': 21, 'name': 'Unconvincing', 'count': 2...</td>\n",
              "      <td>[{'id': 2682, 'hero': 'https://pe.tedcdn.com/i...</td>\n",
              "      <td>Game designer</td>\n",
              "      <td>['cities', 'design', 'future', 'infrastructure...</td>\n",
              "      <td>How a video game might help us build better ci...</td>\n",
              "      <td>https://www.ted.com/talks/karoliina_korppoo_ho...</td>\n",
              "      <td>391721</td>\n",
              "      <td>0.000020</td>\n",
              "      <td>48965.125000</td>\n",
              "      <td>2017-04-24</td>\n",
              "      <td>[{'id': 21, 'name': 'Unconvincing', 'count': 2...</td>\n",
              "      <td>142</td>\n",
              "      <td>0</td>\n",
              "      <td>0.000000</td>\n",
              "    </tr>\n",
              "  </tbody>\n",
              "</table>\n",
              "<p>786 rows × 24 columns</p>\n",
              "</div>"
            ],
            "text/plain": [
              "      comments  ... funny_rate\n",
              "1          265  ...   0.185286\n",
              "4          593  ...   0.054254\n",
              "7           46  ...   0.008789\n",
              "11          55  ...   0.008446\n",
              "14          99  ...   0.017926\n",
              "...        ...  ...        ...\n",
              "2539        10  ...   0.007812\n",
              "2541        12  ...   0.103175\n",
              "2542         3  ...   0.033149\n",
              "2545        17  ...   0.005208\n",
              "2549         8  ...   0.000000\n",
              "\n",
              "[786 rows x 24 columns]"
            ]
          },
          "metadata": {
            "tags": []
          },
          "execution_count": 112
        }
      ]
    },
    {
      "cell_type": "code",
      "metadata": {
        "id": "QBXkWe_NBgRq",
        "colab_type": "code",
        "colab": {}
      },
      "source": [
        "ted_top_occupations = ted[ted.speaker_occupation.isin(top_occupations)]"
      ],
      "execution_count": 0,
      "outputs": []
    },
    {
      "cell_type": "code",
      "metadata": {
        "id": "BIv8jT3vBxdR",
        "colab_type": "code",
        "outputId": "382d3824-76f7-4f70-fb7b-863e3849703e",
        "colab": {
          "base_uri": "https://localhost:8080/",
          "height": 35
        }
      },
      "source": [
        "ted_top_occupations.shape"
      ],
      "execution_count": 0,
      "outputs": [
        {
          "output_type": "execute_result",
          "data": {
            "text/plain": [
              "(786, 24)"
            ]
          },
          "metadata": {
            "tags": []
          },
          "execution_count": 114
        }
      ]
    },
    {
      "cell_type": "code",
      "metadata": {
        "id": "JVCNQe5tB0VX",
        "colab_type": "code",
        "outputId": "5a8a8120-dfd6-414c-dab1-6d27029a8aef",
        "colab": {
          "base_uri": "https://localhost:8080/",
          "height": 247
        }
      },
      "source": [
        "ted_top_occupations.groupby('speaker_occupation').funny_rate.mean().sort_values()"
      ],
      "execution_count": 0,
      "outputs": [
        {
          "output_type": "execute_result",
          "data": {
            "text/plain": [
              "speaker_occupation\n",
              "Surgeon                                       0.002465\n",
              "Physician                                     0.004515\n",
              "Photojournalist                               0.004908\n",
              "Investor and advocate for moral leadership    0.005198\n",
              "Photographer                                  0.007152\n",
              "                                                ...   \n",
              "Data scientist                                0.184076\n",
              "Producer                                      0.202531\n",
              "Singer/songwriter                             0.252205\n",
              "Performance poet, multimedia artist           0.306468\n",
              "Comedian                                      0.512457\n",
              "Name: funny_rate, Length: 68, dtype: float64"
            ]
          },
          "metadata": {
            "tags": []
          },
          "execution_count": 115
        }
      ]
    },
    {
      "cell_type": "code",
      "metadata": {
        "id": "xCbExplCCDlp",
        "colab_type": "code",
        "colab": {}
      },
      "source": [
        ""
      ],
      "execution_count": 0,
      "outputs": []
    }
  ]
}